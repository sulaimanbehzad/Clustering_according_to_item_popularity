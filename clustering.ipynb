{
  "nbformat": 4,
  "nbformat_minor": 0,
  "metadata": {
    "colab": {
      "name": "clustering.ipynb",
      "provenance": [],
      "collapsed_sections": [],
      "mount_file_id": "1XeKp3FTibxDGrDNZAZqz7Tj_RA7p2Y1P",
      "authorship_tag": "ABX9TyPm9QOtOeTY/JHqo0RX3kLr",
      "include_colab_link": true
    },
    "kernelspec": {
      "name": "python3",
      "display_name": "Python 3"
    }
  },
  "cells": [
    {
      "cell_type": "markdown",
      "metadata": {
        "id": "view-in-github",
        "colab_type": "text"
      },
      "source": [
        "<a href=\"https://colab.research.google.com/github/sulaimanbehzad/Clustering_according_to_item_popularity/blob/main/clustering.ipynb\" target=\"_parent\"><img src=\"https://colab.research.google.com/assets/colab-badge.svg\" alt=\"Open In Colab\"/></a>"
      ]
    },
    {
      "cell_type": "markdown",
      "metadata": {
        "id": "YicdgDXywbh4"
      },
      "source": [
        "# Clustering of Digikala dataset based on items popularity  \r\n"
      ]
    },
    {
      "cell_type": "code",
      "metadata": {
        "id": "B9Bl0RWIwQd1"
      },
      "source": [
        "import pandas as pd\r\n",
        "import numpy as np\r\n",
        "import matplotlib.pyplot as plt\r\n",
        "from sklearn.preprocessing import LabelEncoder, normalize"
      ],
      "execution_count": 73,
      "outputs": []
    },
    {
      "cell_type": "markdown",
      "metadata": {
        "id": "hXC08ur6xq4r"
      },
      "source": [
        "### Cloning the github repository in colab"
      ]
    },
    {
      "cell_type": "code",
      "metadata": {
        "colab": {
          "base_uri": "https://localhost:8080/"
        },
        "id": "oBYKpZUHx4UR",
        "outputId": "40afa358-95f5-4b71-bcba-e5a58ac970c0"
      },
      "source": [
        "% cd /content/drive/MyDrive/Clustering_according_to_item_popularity/\r\n"
      ],
      "execution_count": 74,
      "outputs": [
        {
          "output_type": "stream",
          "text": [
            "/content/drive/MyDrive/Clustering_according_to_item_popularity\n"
          ],
          "name": "stdout"
        }
      ]
    },
    {
      "cell_type": "code",
      "metadata": {
        "id": "kIX5wgxF0HNT"
      },
      "source": [
        "# ! ls"
      ],
      "execution_count": 75,
      "outputs": []
    },
    {
      "cell_type": "code",
      "metadata": {
        "id": "aCDjnzeY0wIv"
      },
      "source": [
        "# ! git clone https://github.com/sulaimanbehzad/Clustering_according_to_item_popularity.git"
      ],
      "execution_count": 76,
      "outputs": []
    },
    {
      "cell_type": "code",
      "metadata": {
        "colab": {
          "base_uri": "https://localhost:8080/"
        },
        "id": "37LpX0j71-XT",
        "outputId": "6db7c52d-1784-49d4-e904-00f904afd59c"
      },
      "source": [
        "! git status"
      ],
      "execution_count": 77,
      "outputs": [
        {
          "output_type": "stream",
          "text": [
            "On branch main\n",
            "Your branch and 'origin/main' have diverged,\n",
            "and have 2 and 4 different commits each, respectively.\n",
            "  (use \"git pull\" to merge the remote branch into yours)\n",
            "\n",
            "Untracked files:\n",
            "  (use \"git add <file>...\" to include in what will be committed)\n",
            "\n",
            "\t\u001b[31mClustering_according_to_item_popularity/\u001b[m\n",
            "\t\u001b[31mpreprocessed_item_recomm.csv\u001b[m\n",
            "\n",
            "nothing added to commit but untracked files present (use \"git add\" to track)\n"
          ],
          "name": "stdout"
        }
      ]
    },
    {
      "cell_type": "code",
      "metadata": {
        "colab": {
          "base_uri": "https://localhost:8080/"
        },
        "id": "zAWgZ0Z32TMz",
        "outputId": "f790b9d5-0f63-4b7c-8bb7-8440655426e8"
      },
      "source": [
        "! git pull"
      ],
      "execution_count": 78,
      "outputs": [
        {
          "output_type": "stream",
          "text": [
            "\n",
            "*** Please tell me who you are.\n",
            "\n",
            "Run\n",
            "\n",
            "  git config --global user.email \"you@example.com\"\n",
            "  git config --global user.name \"Your Name\"\n",
            "\n",
            "to set your account's default identity.\n",
            "Omit --global to set the identity only in this repository.\n",
            "\n",
            "fatal: unable to auto-detect email address (got 'root@ab657937bb61.(none)')\n"
          ],
          "name": "stdout"
        }
      ]
    },
    {
      "cell_type": "code",
      "metadata": {
        "id": "irOD8twMpG7i"
      },
      "source": [
        ""
      ],
      "execution_count": 78,
      "outputs": []
    },
    {
      "cell_type": "code",
      "metadata": {
        "id": "6hLvFMCB2Xfx"
      },
      "source": [
        "# ! git push -u origin main"
      ],
      "execution_count": 79,
      "outputs": []
    },
    {
      "cell_type": "code",
      "metadata": {
        "id": "KOgkuMTC2afd"
      },
      "source": [
        "# ! git commit -m 'redundant files removed'"
      ],
      "execution_count": 80,
      "outputs": []
    },
    {
      "cell_type": "markdown",
      "metadata": {
        "id": "2SYdX5hk4A43"
      },
      "source": [
        "### Reading and preprocessing the dataset"
      ]
    },
    {
      "cell_type": "code",
      "metadata": {
        "id": "Wn7RmvfG4PBn"
      },
      "source": [
        "df = pd.read_excel('/content/drive/MyDrive/Clustering_according_to_item_popularity/keifiat.xlsx')"
      ],
      "execution_count": 81,
      "outputs": []
    },
    {
      "cell_type": "code",
      "metadata": {
        "id": "WfxDx0mO5Jtg",
        "colab": {
          "base_uri": "https://localhost:8080/",
          "height": 467
        },
        "outputId": "7b25b01b-a50f-4967-d728-f0c51cacec17"
      },
      "source": [
        "df.head()"
      ],
      "execution_count": 82,
      "outputs": [
        {
          "output_type": "execute_result",
          "data": {
            "text/html": [
              "<div>\n",
              "<style scoped>\n",
              "    .dataframe tbody tr th:only-of-type {\n",
              "        vertical-align: middle;\n",
              "    }\n",
              "\n",
              "    .dataframe tbody tr th {\n",
              "        vertical-align: top;\n",
              "    }\n",
              "\n",
              "    .dataframe thead th {\n",
              "        text-align: right;\n",
              "    }\n",
              "</style>\n",
              "<table border=\"1\" class=\"dataframe\">\n",
              "  <thead>\n",
              "    <tr style=\"text-align: right;\">\n",
              "      <th></th>\n",
              "      <th>product_id</th>\n",
              "      <th>product_title</th>\n",
              "      <th>title_en</th>\n",
              "      <th>user_id</th>\n",
              "      <th>likes</th>\n",
              "      <th>dislikes</th>\n",
              "      <th>verification_status</th>\n",
              "      <th>recommend</th>\n",
              "      <th>title</th>\n",
              "      <th>comment</th>\n",
              "      <th>advantages</th>\n",
              "      <th>disadvantages</th>\n",
              "    </tr>\n",
              "  </thead>\n",
              "  <tbody>\n",
              "    <tr>\n",
              "      <th>0</th>\n",
              "      <td>3692</td>\n",
              "      <td>ماوس بی‌سیم لاجیتک مدل M325</td>\n",
              "      <td>IT</td>\n",
              "      <td>989472</td>\n",
              "      <td>0</td>\n",
              "      <td>0</td>\n",
              "      <td>verified</td>\n",
              "      <td>\\N</td>\n",
              "      <td>NaN</td>\n",
              "      <td>واقعا عالیه. من که ازش خیلی راضیم</td>\n",
              "      <td>NaN</td>\n",
              "      <td>NaN</td>\n",
              "    </tr>\n",
              "    <tr>\n",
              "      <th>1</th>\n",
              "      <td>90213</td>\n",
              "      <td>شارژر همراه شیاومی مدل NDY-02-AN با ظرفیت 1000...</td>\n",
              "      <td>AC</td>\n",
              "      <td>3862150</td>\n",
              "      <td>4</td>\n",
              "      <td>1</td>\n",
              "      <td>verified</td>\n",
              "      <td>recommended</td>\n",
              "      <td>واقعاً عالیه</td>\n",
              "      <td>سلام، قبل اینکه نظرم رو بگم میخواستم به یک موض...</td>\n",
              "      <td>[\"عمر طولانی\\r\",\"افت بسیار کم میزان شارژ\\r\",\"ا...</td>\n",
              "      <td>[\"ندارد\"]</td>\n",
              "    </tr>\n",
              "    <tr>\n",
              "      <th>2</th>\n",
              "      <td>59473</td>\n",
              "      <td>یدک پولیشر میکروفایبر مهسان مدل 20119</td>\n",
              "      <td>HW</td>\n",
              "      <td>626843</td>\n",
              "      <td>1</td>\n",
              "      <td>0</td>\n",
              "      <td>verified</td>\n",
              "      <td>not_recommended</td>\n",
              "      <td>خیلی سخت حوله اش در میاد</td>\n",
              "      <td>گیره های فلزی خیلی سخت تا میشوند و لذا حوله را...</td>\n",
              "      <td>NaN</td>\n",
              "      <td>NaN</td>\n",
              "    </tr>\n",
              "    <tr>\n",
              "      <th>3</th>\n",
              "      <td>120499</td>\n",
              "      <td>گوشی موبایل هوآوی آنر مدل 5X KIW-L21 دو سیم‌کارت</td>\n",
              "      <td>MO</td>\n",
              "      <td>786887</td>\n",
              "      <td>6</td>\n",
              "      <td>11</td>\n",
              "      <td>verified</td>\n",
              "      <td>no_idea</td>\n",
              "      <td>گوشی مقرون به صرفه</td>\n",
              "      <td>همه چیز در رابطه با ظاهر این گوشی بسیار خوب اس...</td>\n",
              "      <td>[\"صفحه نمایش پرنور و با کیفیت\\r\",\"کیفیت بالای ...</td>\n",
              "      <td>[\"کیفیت پایین اسپیکر\\r\",\"حاشیه خالی زیر صفحه ن...</td>\n",
              "    </tr>\n",
              "    <tr>\n",
              "      <th>4</th>\n",
              "      <td>67200</td>\n",
              "      <td>شارژر همراه شیائومی مدل Mi ظرفیت 5000 میلی آمپ...</td>\n",
              "      <td>AC</td>\n",
              "      <td>854531</td>\n",
              "      <td>19</td>\n",
              "      <td>4</td>\n",
              "      <td>verified</td>\n",
              "      <td>no_idea</td>\n",
              "      <td>ابعاد، استحکام و نگهداری شارژ مناسب</td>\n",
              "      <td>اگر ظرفیتش براتون کافیه حتما بخرید.\\r\\nیه شارژ...</td>\n",
              "      <td>[\"ظریف و زیبا و باریک\\r\",\"بدنه محکم و با دوام\"]</td>\n",
              "      <td>[\"ظرفیت متوسط\"]</td>\n",
              "    </tr>\n",
              "  </tbody>\n",
              "</table>\n",
              "</div>"
            ],
            "text/plain": [
              "   product_id  ...                                      disadvantages\n",
              "0        3692  ...                                                NaN\n",
              "1       90213  ...                                          [\"ندارد\"]\n",
              "2       59473  ...                                                NaN\n",
              "3      120499  ...  [\"کیفیت پایین اسپیکر\\r\",\"حاشیه خالی زیر صفحه ن...\n",
              "4       67200  ...                                    [\"ظرفیت متوسط\"]\n",
              "\n",
              "[5 rows x 12 columns]"
            ]
          },
          "metadata": {
            "tags": []
          },
          "execution_count": 82
        }
      ]
    },
    {
      "cell_type": "code",
      "metadata": {
        "colab": {
          "base_uri": "https://localhost:8080/",
          "height": 300
        },
        "id": "0xhNJq3LB_Ur",
        "outputId": "696476a3-67d3-4d46-e2b0-0749b29adccc"
      },
      "source": [
        "df.describe()"
      ],
      "execution_count": 83,
      "outputs": [
        {
          "output_type": "execute_result",
          "data": {
            "text/html": [
              "<div>\n",
              "<style scoped>\n",
              "    .dataframe tbody tr th:only-of-type {\n",
              "        vertical-align: middle;\n",
              "    }\n",
              "\n",
              "    .dataframe tbody tr th {\n",
              "        vertical-align: top;\n",
              "    }\n",
              "\n",
              "    .dataframe thead th {\n",
              "        text-align: right;\n",
              "    }\n",
              "</style>\n",
              "<table border=\"1\" class=\"dataframe\">\n",
              "  <thead>\n",
              "    <tr style=\"text-align: right;\">\n",
              "      <th></th>\n",
              "      <th>product_id</th>\n",
              "      <th>user_id</th>\n",
              "      <th>likes</th>\n",
              "      <th>dislikes</th>\n",
              "    </tr>\n",
              "  </thead>\n",
              "  <tbody>\n",
              "    <tr>\n",
              "      <th>count</th>\n",
              "      <td>100000.000000</td>\n",
              "      <td>1.000000e+05</td>\n",
              "      <td>100000.000000</td>\n",
              "      <td>100000.000000</td>\n",
              "    </tr>\n",
              "    <tr>\n",
              "      <th>mean</th>\n",
              "      <td>426482.510140</td>\n",
              "      <td>4.642959e+06</td>\n",
              "      <td>3.114790</td>\n",
              "      <td>1.649460</td>\n",
              "    </tr>\n",
              "    <tr>\n",
              "      <th>std</th>\n",
              "      <td>232470.511159</td>\n",
              "      <td>2.619034e+06</td>\n",
              "      <td>8.050031</td>\n",
              "      <td>8.912705</td>\n",
              "    </tr>\n",
              "    <tr>\n",
              "      <th>min</th>\n",
              "      <td>300.000000</td>\n",
              "      <td>4.661320e+05</td>\n",
              "      <td>0.000000</td>\n",
              "      <td>0.000000</td>\n",
              "    </tr>\n",
              "    <tr>\n",
              "      <th>25%</th>\n",
              "      <td>220871.250000</td>\n",
              "      <td>2.613059e+06</td>\n",
              "      <td>0.000000</td>\n",
              "      <td>0.000000</td>\n",
              "    </tr>\n",
              "    <tr>\n",
              "      <th>50%</th>\n",
              "      <td>427858.000000</td>\n",
              "      <td>4.710290e+06</td>\n",
              "      <td>1.000000</td>\n",
              "      <td>0.000000</td>\n",
              "    </tr>\n",
              "    <tr>\n",
              "      <th>75%</th>\n",
              "      <td>619397.250000</td>\n",
              "      <td>7.094806e+06</td>\n",
              "      <td>4.000000</td>\n",
              "      <td>1.000000</td>\n",
              "    </tr>\n",
              "    <tr>\n",
              "      <th>max</th>\n",
              "      <td>909423.000000</td>\n",
              "      <td>8.623288e+06</td>\n",
              "      <td>854.000000</td>\n",
              "      <td>1344.000000</td>\n",
              "    </tr>\n",
              "  </tbody>\n",
              "</table>\n",
              "</div>"
            ],
            "text/plain": [
              "          product_id       user_id          likes       dislikes\n",
              "count  100000.000000  1.000000e+05  100000.000000  100000.000000\n",
              "mean   426482.510140  4.642959e+06       3.114790       1.649460\n",
              "std    232470.511159  2.619034e+06       8.050031       8.912705\n",
              "min       300.000000  4.661320e+05       0.000000       0.000000\n",
              "25%    220871.250000  2.613059e+06       0.000000       0.000000\n",
              "50%    427858.000000  4.710290e+06       1.000000       0.000000\n",
              "75%    619397.250000  7.094806e+06       4.000000       1.000000\n",
              "max    909423.000000  8.623288e+06     854.000000    1344.000000"
            ]
          },
          "metadata": {
            "tags": []
          },
          "execution_count": 83
        }
      ]
    },
    {
      "cell_type": "markdown",
      "metadata": {
        "id": "zVhO80lXAFiy"
      },
      "source": [
        "Select the attributes that will give information about the popularity of the item"
      ]
    },
    {
      "cell_type": "code",
      "metadata": {
        "id": "6E1StDcrArEj"
      },
      "source": [
        "df1 = df[['product_id', 'likes', 'dislikes','comment', 'recommend']]"
      ],
      "execution_count": 84,
      "outputs": []
    },
    {
      "cell_type": "markdown",
      "metadata": {
        "id": "IyiMJvenCumt"
      },
      "source": [
        "Check the dataframe for null values and handle them"
      ]
    },
    {
      "cell_type": "code",
      "metadata": {
        "colab": {
          "base_uri": "https://localhost:8080/"
        },
        "id": "1vEzY81aCQ89",
        "outputId": "901e81a7-c243-4019-f1f2-36d021f8e656"
      },
      "source": [
        "df1.info()"
      ],
      "execution_count": 85,
      "outputs": [
        {
          "output_type": "stream",
          "text": [
            "<class 'pandas.core.frame.DataFrame'>\n",
            "RangeIndex: 100000 entries, 0 to 99999\n",
            "Data columns (total 5 columns):\n",
            " #   Column      Non-Null Count   Dtype \n",
            "---  ------      --------------   ----- \n",
            " 0   product_id  100000 non-null  int64 \n",
            " 1   likes       100000 non-null  int64 \n",
            " 2   dislikes    100000 non-null  int64 \n",
            " 3   comment     99883 non-null   object\n",
            " 4   recommend   100000 non-null  object\n",
            "dtypes: int64(3), object(2)\n",
            "memory usage: 3.8+ MB\n"
          ],
          "name": "stdout"
        }
      ]
    },
    {
      "cell_type": "code",
      "metadata": {
        "colab": {
          "base_uri": "https://localhost:8080/"
        },
        "id": "6fKohSogEJs8",
        "outputId": "1197811b-1742-45ee-8dfc-0f51bf23d9ca"
      },
      "source": [
        "df1.isnull().sum()"
      ],
      "execution_count": 86,
      "outputs": [
        {
          "output_type": "execute_result",
          "data": {
            "text/plain": [
              "product_id      0\n",
              "likes           0\n",
              "dislikes        0\n",
              "comment       117\n",
              "recommend       0\n",
              "dtype: int64"
            ]
          },
          "metadata": {
            "tags": []
          },
          "execution_count": 86
        }
      ]
    },
    {
      "cell_type": "markdown",
      "metadata": {
        "id": "ZHF0f1OMFSOJ"
      },
      "source": [
        "looking at the database 'recommend' we can see that \\N values also represent null values which wouldn't be considered in the above"
      ]
    },
    {
      "cell_type": "code",
      "metadata": {
        "colab": {
          "base_uri": "https://localhost:8080/"
        },
        "id": "_eF9GFiGFmge",
        "outputId": "d8a627dd-c0d2-49f1-8cf5-f24d2d886ef3"
      },
      "source": [
        "df1['recommend'].value_counts()"
      ],
      "execution_count": 87,
      "outputs": [
        {
          "output_type": "execute_result",
          "data": {
            "text/plain": [
              "recommended        36972\n",
              "\\N                 36382\n",
              "not_recommended    16110\n",
              "no_idea            10536\n",
              "Name: recommend, dtype: int64"
            ]
          },
          "metadata": {
            "tags": []
          },
          "execution_count": 87
        }
      ]
    },
    {
      "cell_type": "markdown",
      "metadata": {
        "id": "lEix1a8AF7m0"
      },
      "source": [
        "we can see that beside the 117 missing values we have 36382 records with \\N values  \r\n",
        "now we understand tha \\N too should be considered as missing value\r\n"
      ]
    },
    {
      "cell_type": "code",
      "metadata": {
        "id": "3lq8cNtTT8tw"
      },
      "source": [
        "missing_values = [\"\\\\N\", \"na\", \"--\", \"NA\", \"n/a\"]\r\n",
        "df = pd.read_excel('/content/drive/MyDrive/Clustering_according_to_item_popularity/keifiat.xlsx', na_values = missing_values)\r\n",
        "df1 = df[['product_id', 'likes', 'dislikes','comment', 'recommend']]\r\n"
      ],
      "execution_count": 88,
      "outputs": []
    },
    {
      "cell_type": "markdown",
      "metadata": {
        "id": "CsxF1DWT1tQr"
      },
      "source": [
        "after importing database with newly found aspects on NA we are going to handle null values"
      ]
    },
    {
      "cell_type": "code",
      "metadata": {
        "colab": {
          "base_uri": "https://localhost:8080/"
        },
        "id": "GZ5e6Rl61_be",
        "outputId": "cb5a7a12-2822-4e1f-d693-d860b68e2306"
      },
      "source": [
        "df1.isnull().sum()"
      ],
      "execution_count": 89,
      "outputs": [
        {
          "output_type": "execute_result",
          "data": {
            "text/plain": [
              "product_id        0\n",
              "likes             0\n",
              "dislikes          0\n",
              "comment         118\n",
              "recommend     36382\n",
              "dtype: int64"
            ]
          },
          "metadata": {
            "tags": []
          },
          "execution_count": 89
        }
      ]
    },
    {
      "cell_type": "code",
      "metadata": {
        "colab": {
          "base_uri": "https://localhost:8080/"
        },
        "id": "uF_6eOxQ2Fin",
        "outputId": "5e782bf2-cc02-40d4-e89a-a969b55a851a"
      },
      "source": [
        "df1['recommend'].value_counts()"
      ],
      "execution_count": 90,
      "outputs": [
        {
          "output_type": "execute_result",
          "data": {
            "text/plain": [
              "recommended        36972\n",
              "not_recommended    16110\n",
              "no_idea            10536\n",
              "Name: recommend, dtype: int64"
            ]
          },
          "metadata": {
            "tags": []
          },
          "execution_count": 90
        }
      ]
    },
    {
      "cell_type": "code",
      "metadata": {
        "colab": {
          "base_uri": "https://localhost:8080/"
        },
        "id": "tYOY7txj2YVE",
        "outputId": "44780dcc-d0e6-4f4d-df43-90c30bd009a6"
      },
      "source": [
        "most_common = df1[\"recommend\"].value_counts().idxmax\r\n",
        "# df1['recommend'].fillna(median, inplace=True)\r\n",
        "most_common"
      ],
      "execution_count": 91,
      "outputs": [
        {
          "output_type": "execute_result",
          "data": {
            "text/plain": [
              "<bound method Series.idxmax of recommended        36972\n",
              "not_recommended    16110\n",
              "no_idea            10536\n",
              "Name: recommend, dtype: int64>"
            ]
          },
          "metadata": {
            "tags": []
          },
          "execution_count": 91
        }
      ]
    },
    {
      "cell_type": "markdown",
      "metadata": {
        "id": "abP45dpl3EYI"
      },
      "source": [
        "replacing the null values with one of the above would falsely impact the clustering so let's take another approach:  \r\n",
        "1. use interpolation to find values\r\n",
        "2. fill with mean/median\r\n",
        "\r\n",
        "in order to use interpolation let us first use label encoder to obtain numerical values"
      ]
    },
    {
      "cell_type": "code",
      "metadata": {
        "colab": {
          "base_uri": "https://localhost:8080/"
        },
        "id": "I89opnq1HU_e",
        "outputId": "a546d332-45c9-4a3c-e20f-61b08addbca9"
      },
      "source": [
        "df1['recommend'].fillna(value='null_values', inplace=True)\r\n",
        "df1.isnull().sum()"
      ],
      "execution_count": 92,
      "outputs": [
        {
          "output_type": "stream",
          "text": [
            "/usr/local/lib/python3.6/dist-packages/pandas/core/series.py:4536: SettingWithCopyWarning: \n",
            "A value is trying to be set on a copy of a slice from a DataFrame\n",
            "\n",
            "See the caveats in the documentation: https://pandas.pydata.org/pandas-docs/stable/user_guide/indexing.html#returning-a-view-versus-a-copy\n",
            "  downcast=downcast,\n"
          ],
          "name": "stderr"
        },
        {
          "output_type": "execute_result",
          "data": {
            "text/plain": [
              "product_id      0\n",
              "likes           0\n",
              "dislikes        0\n",
              "comment       118\n",
              "recommend       0\n",
              "dtype: int64"
            ]
          },
          "metadata": {
            "tags": []
          },
          "execution_count": 92
        }
      ]
    },
    {
      "cell_type": "code",
      "metadata": {
        "colab": {
          "base_uri": "https://localhost:8080/"
        },
        "id": "KFy-crzh9bdE",
        "outputId": "1df85bc2-17dd-4658-cc40-975670cd54aa"
      },
      "source": [
        "le = LabelEncoder()\r\n",
        "le.fit(df1['recommend'])\r\n",
        "le.classes_"
      ],
      "execution_count": 93,
      "outputs": [
        {
          "output_type": "execute_result",
          "data": {
            "text/plain": [
              "array(['no_idea', 'not_recommended', 'null_values', 'recommended'],\n",
              "      dtype=object)"
            ]
          },
          "metadata": {
            "tags": []
          },
          "execution_count": 93
        }
      ]
    },
    {
      "cell_type": "code",
      "metadata": {
        "colab": {
          "base_uri": "https://localhost:8080/"
        },
        "id": "-NMpJuu7IDr1",
        "outputId": "5386074b-d366-47e6-eef4-58047108a280"
      },
      "source": [
        "recomm_trans = le.transform(df1['recommend'])\r\n",
        "recomm_trans"
      ],
      "execution_count": 94,
      "outputs": [
        {
          "output_type": "execute_result",
          "data": {
            "text/plain": [
              "array([2, 3, 1, ..., 3, 0, 0])"
            ]
          },
          "metadata": {
            "tags": []
          },
          "execution_count": 94
        }
      ]
    },
    {
      "cell_type": "code",
      "metadata": {
        "colab": {
          "base_uri": "https://localhost:8080/"
        },
        "id": "ZyW6dB21Ibfk",
        "outputId": "d1f41e82-0839-4e41-bc29-dd76b79205a2"
      },
      "source": [
        "df1['recommend'] = recomm_trans"
      ],
      "execution_count": 95,
      "outputs": [
        {
          "output_type": "stream",
          "text": [
            "/usr/local/lib/python3.6/dist-packages/ipykernel_launcher.py:1: SettingWithCopyWarning: \n",
            "A value is trying to be set on a copy of a slice from a DataFrame.\n",
            "Try using .loc[row_indexer,col_indexer] = value instead\n",
            "\n",
            "See the caveats in the documentation: https://pandas.pydata.org/pandas-docs/stable/user_guide/indexing.html#returning-a-view-versus-a-copy\n",
            "  \"\"\"Entry point for launching an IPython kernel.\n"
          ],
          "name": "stderr"
        }
      ]
    },
    {
      "cell_type": "code",
      "metadata": {
        "id": "BVtdd8Bq-q9p",
        "collapsed": true,
        "colab": {
          "base_uri": "https://localhost:8080/",
          "height": 424
        },
        "outputId": "4d9cda49-cf73-4864-f7be-79f3e8a6b067"
      },
      "source": [
        "df1[['recommend']]"
      ],
      "execution_count": 96,
      "outputs": [
        {
          "output_type": "execute_result",
          "data": {
            "text/html": [
              "<div>\n",
              "<style scoped>\n",
              "    .dataframe tbody tr th:only-of-type {\n",
              "        vertical-align: middle;\n",
              "    }\n",
              "\n",
              "    .dataframe tbody tr th {\n",
              "        vertical-align: top;\n",
              "    }\n",
              "\n",
              "    .dataframe thead th {\n",
              "        text-align: right;\n",
              "    }\n",
              "</style>\n",
              "<table border=\"1\" class=\"dataframe\">\n",
              "  <thead>\n",
              "    <tr style=\"text-align: right;\">\n",
              "      <th></th>\n",
              "      <th>recommend</th>\n",
              "    </tr>\n",
              "  </thead>\n",
              "  <tbody>\n",
              "    <tr>\n",
              "      <th>0</th>\n",
              "      <td>2</td>\n",
              "    </tr>\n",
              "    <tr>\n",
              "      <th>1</th>\n",
              "      <td>3</td>\n",
              "    </tr>\n",
              "    <tr>\n",
              "      <th>2</th>\n",
              "      <td>1</td>\n",
              "    </tr>\n",
              "    <tr>\n",
              "      <th>3</th>\n",
              "      <td>0</td>\n",
              "    </tr>\n",
              "    <tr>\n",
              "      <th>4</th>\n",
              "      <td>0</td>\n",
              "    </tr>\n",
              "    <tr>\n",
              "      <th>...</th>\n",
              "      <td>...</td>\n",
              "    </tr>\n",
              "    <tr>\n",
              "      <th>99995</th>\n",
              "      <td>3</td>\n",
              "    </tr>\n",
              "    <tr>\n",
              "      <th>99996</th>\n",
              "      <td>2</td>\n",
              "    </tr>\n",
              "    <tr>\n",
              "      <th>99997</th>\n",
              "      <td>3</td>\n",
              "    </tr>\n",
              "    <tr>\n",
              "      <th>99998</th>\n",
              "      <td>0</td>\n",
              "    </tr>\n",
              "    <tr>\n",
              "      <th>99999</th>\n",
              "      <td>0</td>\n",
              "    </tr>\n",
              "  </tbody>\n",
              "</table>\n",
              "<p>100000 rows × 1 columns</p>\n",
              "</div>"
            ],
            "text/plain": [
              "       recommend\n",
              "0              2\n",
              "1              3\n",
              "2              1\n",
              "3              0\n",
              "4              0\n",
              "...          ...\n",
              "99995          3\n",
              "99996          2\n",
              "99997          3\n",
              "99998          0\n",
              "99999          0\n",
              "\n",
              "[100000 rows x 1 columns]"
            ]
          },
          "metadata": {
            "tags": []
          },
          "execution_count": 96
        }
      ]
    },
    {
      "cell_type": "code",
      "metadata": {
        "colab": {
          "base_uri": "https://localhost:8080/"
        },
        "id": "Y8akRRiNJSmS",
        "outputId": "ff4c261c-17b6-4ad9-94cc-95d49c42cac3"
      },
      "source": [
        "df1['recommend'] = df1['recommend'].replace(2,np.nan)\r\n",
        "df1['recommend']"
      ],
      "execution_count": 97,
      "outputs": [
        {
          "output_type": "stream",
          "text": [
            "/usr/local/lib/python3.6/dist-packages/ipykernel_launcher.py:1: SettingWithCopyWarning: \n",
            "A value is trying to be set on a copy of a slice from a DataFrame.\n",
            "Try using .loc[row_indexer,col_indexer] = value instead\n",
            "\n",
            "See the caveats in the documentation: https://pandas.pydata.org/pandas-docs/stable/user_guide/indexing.html#returning-a-view-versus-a-copy\n",
            "  \"\"\"Entry point for launching an IPython kernel.\n"
          ],
          "name": "stderr"
        },
        {
          "output_type": "execute_result",
          "data": {
            "text/plain": [
              "0        NaN\n",
              "1        3.0\n",
              "2        1.0\n",
              "3        0.0\n",
              "4        0.0\n",
              "        ... \n",
              "99995    3.0\n",
              "99996    NaN\n",
              "99997    3.0\n",
              "99998    0.0\n",
              "99999    0.0\n",
              "Name: recommend, Length: 100000, dtype: float64"
            ]
          },
          "metadata": {
            "tags": []
          },
          "execution_count": 97
        }
      ]
    },
    {
      "cell_type": "code",
      "metadata": {
        "id": "WmK5cvRiNcEH",
        "colab": {
          "base_uri": "https://localhost:8080/"
        },
        "outputId": "b0ceb948-cdf3-4e6a-e719-7f83f003d1b7"
      },
      "source": [
        "recomm_filled = df1['recommend'].interpolate(method='linear')\r\n",
        "recomm_filled.isnull().sum()"
      ],
      "execution_count": 98,
      "outputs": [
        {
          "output_type": "execute_result",
          "data": {
            "text/plain": [
              "1"
            ]
          },
          "metadata": {
            "tags": []
          },
          "execution_count": 98
        }
      ]
    },
    {
      "cell_type": "code",
      "metadata": {
        "colab": {
          "base_uri": "https://localhost:8080/",
          "height": 1000
        },
        "id": "toAFAfPW2et6",
        "outputId": "bc05a5dd-a96a-4b94-cfdc-9ade99df0779"
      },
      "source": [
        "df1['recommend'] = recomm_filled\r\n",
        "df1.head(50)"
      ],
      "execution_count": 99,
      "outputs": [
        {
          "output_type": "stream",
          "text": [
            "/usr/local/lib/python3.6/dist-packages/ipykernel_launcher.py:1: SettingWithCopyWarning: \n",
            "A value is trying to be set on a copy of a slice from a DataFrame.\n",
            "Try using .loc[row_indexer,col_indexer] = value instead\n",
            "\n",
            "See the caveats in the documentation: https://pandas.pydata.org/pandas-docs/stable/user_guide/indexing.html#returning-a-view-versus-a-copy\n",
            "  \"\"\"Entry point for launching an IPython kernel.\n"
          ],
          "name": "stderr"
        },
        {
          "output_type": "execute_result",
          "data": {
            "text/html": [
              "<div>\n",
              "<style scoped>\n",
              "    .dataframe tbody tr th:only-of-type {\n",
              "        vertical-align: middle;\n",
              "    }\n",
              "\n",
              "    .dataframe tbody tr th {\n",
              "        vertical-align: top;\n",
              "    }\n",
              "\n",
              "    .dataframe thead th {\n",
              "        text-align: right;\n",
              "    }\n",
              "</style>\n",
              "<table border=\"1\" class=\"dataframe\">\n",
              "  <thead>\n",
              "    <tr style=\"text-align: right;\">\n",
              "      <th></th>\n",
              "      <th>product_id</th>\n",
              "      <th>likes</th>\n",
              "      <th>dislikes</th>\n",
              "      <th>comment</th>\n",
              "      <th>recommend</th>\n",
              "    </tr>\n",
              "  </thead>\n",
              "  <tbody>\n",
              "    <tr>\n",
              "      <th>0</th>\n",
              "      <td>3692</td>\n",
              "      <td>0</td>\n",
              "      <td>0</td>\n",
              "      <td>واقعا عالیه. من که ازش خیلی راضیم</td>\n",
              "      <td>NaN</td>\n",
              "    </tr>\n",
              "    <tr>\n",
              "      <th>1</th>\n",
              "      <td>90213</td>\n",
              "      <td>4</td>\n",
              "      <td>1</td>\n",
              "      <td>سلام، قبل اینکه نظرم رو بگم میخواستم به یک موض...</td>\n",
              "      <td>3.000000</td>\n",
              "    </tr>\n",
              "    <tr>\n",
              "      <th>2</th>\n",
              "      <td>59473</td>\n",
              "      <td>1</td>\n",
              "      <td>0</td>\n",
              "      <td>گیره های فلزی خیلی سخت تا میشوند و لذا حوله را...</td>\n",
              "      <td>1.000000</td>\n",
              "    </tr>\n",
              "    <tr>\n",
              "      <th>3</th>\n",
              "      <td>120499</td>\n",
              "      <td>6</td>\n",
              "      <td>11</td>\n",
              "      <td>همه چیز در رابطه با ظاهر این گوشی بسیار خوب اس...</td>\n",
              "      <td>0.000000</td>\n",
              "    </tr>\n",
              "    <tr>\n",
              "      <th>4</th>\n",
              "      <td>67200</td>\n",
              "      <td>19</td>\n",
              "      <td>4</td>\n",
              "      <td>اگر ظرفیتش براتون کافیه حتما بخرید.\\r\\nیه شارژ...</td>\n",
              "      <td>0.000000</td>\n",
              "    </tr>\n",
              "    <tr>\n",
              "      <th>5</th>\n",
              "      <td>133722</td>\n",
              "      <td>6</td>\n",
              "      <td>1</td>\n",
              "      <td>سلام دوستان،،\\r\\nمنم مثه بعضی از دوستان قبل از...</td>\n",
              "      <td>3.000000</td>\n",
              "    </tr>\n",
              "    <tr>\n",
              "      <th>6</th>\n",
              "      <td>148509</td>\n",
              "      <td>3</td>\n",
              "      <td>0</td>\n",
              "      <td>من چند سالی هست که این اسپیکرو خریدم و واقعا ح...</td>\n",
              "      <td>3.000000</td>\n",
              "    </tr>\n",
              "    <tr>\n",
              "      <th>7</th>\n",
              "      <td>56871</td>\n",
              "      <td>2</td>\n",
              "      <td>2</td>\n",
              "      <td>بوی تند ولی خوشبو داره.ماندگاریش خوبه و هر چقد...</td>\n",
              "      <td>2.000000</td>\n",
              "    </tr>\n",
              "    <tr>\n",
              "      <th>8</th>\n",
              "      <td>49738</td>\n",
              "      <td>2</td>\n",
              "      <td>1</td>\n",
              "      <td>متاسفانه عمر مفید این ماشین کم هست و بعد از دو...</td>\n",
              "      <td>1.000000</td>\n",
              "    </tr>\n",
              "    <tr>\n",
              "      <th>9</th>\n",
              "      <td>161548</td>\n",
              "      <td>1</td>\n",
              "      <td>0</td>\n",
              "      <td>خوب بودممنون</td>\n",
              "      <td>0.000000</td>\n",
              "    </tr>\n",
              "    <tr>\n",
              "      <th>10</th>\n",
              "      <td>5107</td>\n",
              "      <td>1</td>\n",
              "      <td>0</td>\n",
              "      <td>نزدیک به دو ساله که این هارد رو خریدم. استفاده...</td>\n",
              "      <td>3.000000</td>\n",
              "    </tr>\n",
              "    <tr>\n",
              "      <th>11</th>\n",
              "      <td>156041</td>\n",
              "      <td>11</td>\n",
              "      <td>4</td>\n",
              "      <td>بعد از گذشت 3سال و 60000کیلومتر کارکرد روی ماش...</td>\n",
              "      <td>3.000000</td>\n",
              "    </tr>\n",
              "    <tr>\n",
              "      <th>12</th>\n",
              "      <td>134367</td>\n",
              "      <td>10</td>\n",
              "      <td>5</td>\n",
              "      <td>افا از وقتی من اینو واسه پسرم خریدم همه بچه ها...</td>\n",
              "      <td>3.000000</td>\n",
              "    </tr>\n",
              "    <tr>\n",
              "      <th>13</th>\n",
              "      <td>114006</td>\n",
              "      <td>4</td>\n",
              "      <td>2</td>\n",
              "      <td>من این پاور بانک رو حدود یک سال پیش از دیجی کا...</td>\n",
              "      <td>3.000000</td>\n",
              "    </tr>\n",
              "    <tr>\n",
              "      <th>14</th>\n",
              "      <td>151402</td>\n",
              "      <td>2</td>\n",
              "      <td>6</td>\n",
              "      <td>این تیغ محصول کشور آمریکا هست ( در عکس محصول م...</td>\n",
              "      <td>3.000000</td>\n",
              "    </tr>\n",
              "    <tr>\n",
              "      <th>15</th>\n",
              "      <td>146879</td>\n",
              "      <td>15</td>\n",
              "      <td>12</td>\n",
              "      <td>با توجه به قدرت خنک کنندگی حداقل ۲ ساعت زمان ل...</td>\n",
              "      <td>3.000000</td>\n",
              "    </tr>\n",
              "    <tr>\n",
              "      <th>16</th>\n",
              "      <td>81254</td>\n",
              "      <td>4</td>\n",
              "      <td>1</td>\n",
              "      <td>امیوارم کیفیتش همینطور بمونه\\r\\nمن مدت هاس ازی...</td>\n",
              "      <td>2.000000</td>\n",
              "    </tr>\n",
              "    <tr>\n",
              "      <th>17</th>\n",
              "      <td>26368</td>\n",
              "      <td>5</td>\n",
              "      <td>0</td>\n",
              "      <td>الان حدود یک سالی هست که دارمش و خیلی راضی ام ازش</td>\n",
              "      <td>1.000000</td>\n",
              "    </tr>\n",
              "    <tr>\n",
              "      <th>18</th>\n",
              "      <td>90894</td>\n",
              "      <td>2</td>\n",
              "      <td>1</td>\n",
              "      <td>ساعت خوبی بود از نظر ظاهر و سنسوراش خوب بود\\r\\...</td>\n",
              "      <td>0.000000</td>\n",
              "    </tr>\n",
              "    <tr>\n",
              "      <th>19</th>\n",
              "      <td>21340</td>\n",
              "      <td>3</td>\n",
              "      <td>1</td>\n",
              "      <td>حدود یک ساله دارمش راضی ام ازش نسبت به قیمتش م...</td>\n",
              "      <td>0.500000</td>\n",
              "    </tr>\n",
              "    <tr>\n",
              "      <th>20</th>\n",
              "      <td>144139</td>\n",
              "      <td>3</td>\n",
              "      <td>12</td>\n",
              "      <td>سلام و خسته نباشید به تمامی کارکنان و بازدید ک...</td>\n",
              "      <td>1.000000</td>\n",
              "    </tr>\n",
              "    <tr>\n",
              "      <th>21</th>\n",
              "      <td>138040</td>\n",
              "      <td>11</td>\n",
              "      <td>3</td>\n",
              "      <td>با سلام..منم اینو از دیجی گرفتم ..تو نگاه اول ...</td>\n",
              "      <td>1.666667</td>\n",
              "    </tr>\n",
              "    <tr>\n",
              "      <th>22</th>\n",
              "      <td>105719</td>\n",
              "      <td>25</td>\n",
              "      <td>8</td>\n",
              "      <td>این عطر یه بدی بزرگ داره... من خریدم و وقتی تم...</td>\n",
              "      <td>2.333333</td>\n",
              "    </tr>\n",
              "    <tr>\n",
              "      <th>23</th>\n",
              "      <td>147165</td>\n",
              "      <td>10</td>\n",
              "      <td>11</td>\n",
              "      <td>بهترین روغن موتور برای موتورهای پژو همین روغنه...</td>\n",
              "      <td>3.000000</td>\n",
              "    </tr>\n",
              "    <tr>\n",
              "      <th>24</th>\n",
              "      <td>116387</td>\n",
              "      <td>3</td>\n",
              "      <td>0</td>\n",
              "      <td>اگر با قیمتش مشکلی ندارید نسبت به صداش شک نکنی...</td>\n",
              "      <td>3.000000</td>\n",
              "    </tr>\n",
              "    <tr>\n",
              "      <th>25</th>\n",
              "      <td>73064</td>\n",
              "      <td>5</td>\n",
              "      <td>0</td>\n",
              "      <td>گوشی بسیار خوبی هست واقعا راضی هستم ی مشکل که ...</td>\n",
              "      <td>3.000000</td>\n",
              "    </tr>\n",
              "    <tr>\n",
              "      <th>26</th>\n",
              "      <td>110040</td>\n",
              "      <td>24</td>\n",
              "      <td>6</td>\n",
              "      <td>آپدیت: دو سال و نیم گذشت از خریدم. بهترین گوشی...</td>\n",
              "      <td>3.000000</td>\n",
              "    </tr>\n",
              "    <tr>\n",
              "      <th>27</th>\n",
              "      <td>139131</td>\n",
              "      <td>8</td>\n",
              "      <td>4</td>\n",
              "      <td>جزو اولین نفرهایی بودم که این گوشی رو از دیجی ...</td>\n",
              "      <td>3.000000</td>\n",
              "    </tr>\n",
              "    <tr>\n",
              "      <th>28</th>\n",
              "      <td>80854</td>\n",
              "      <td>9</td>\n",
              "      <td>1</td>\n",
              "      <td>بینظیره\\r\\nمن که خیلی راضی بودم</td>\n",
              "      <td>3.000000</td>\n",
              "    </tr>\n",
              "    <tr>\n",
              "      <th>29</th>\n",
              "      <td>163519</td>\n",
              "      <td>10</td>\n",
              "      <td>2</td>\n",
              "      <td>با سلام\\r\\nعالیه، امیدوارم شگفت انگیز شود و دو...</td>\n",
              "      <td>3.000000</td>\n",
              "    </tr>\n",
              "    <tr>\n",
              "      <th>30</th>\n",
              "      <td>102068</td>\n",
              "      <td>14</td>\n",
              "      <td>5</td>\n",
              "      <td>با سلام به همه دوستان عزیز\\r\\nبعد از 20 روز خر...</td>\n",
              "      <td>3.000000</td>\n",
              "    </tr>\n",
              "    <tr>\n",
              "      <th>31</th>\n",
              "      <td>129988</td>\n",
              "      <td>8</td>\n",
              "      <td>7</td>\n",
              "      <td>با سلام  من  این محصولو یه هفته پیش خریدم و کم...</td>\n",
              "      <td>1.000000</td>\n",
              "    </tr>\n",
              "    <tr>\n",
              "      <th>32</th>\n",
              "      <td>130386</td>\n",
              "      <td>1</td>\n",
              "      <td>0</td>\n",
              "      <td>سلام. دوستان این هدست با توجه به قیمتش فوق الع...</td>\n",
              "      <td>3.000000</td>\n",
              "    </tr>\n",
              "    <tr>\n",
              "      <th>33</th>\n",
              "      <td>160008</td>\n",
              "      <td>1</td>\n",
              "      <td>1</td>\n",
              "      <td>یادش بخیر من این محصول عالی رو دو سال پیش برای...</td>\n",
              "      <td>3.000000</td>\n",
              "    </tr>\n",
              "    <tr>\n",
              "      <th>34</th>\n",
              "      <td>93850</td>\n",
              "      <td>7</td>\n",
              "      <td>3</td>\n",
              "      <td>همه چی عالیه\\r\\nاستاد نکته هایی میگن که تا حال...</td>\n",
              "      <td>3.000000</td>\n",
              "    </tr>\n",
              "    <tr>\n",
              "      <th>35</th>\n",
              "      <td>154624</td>\n",
              "      <td>1</td>\n",
              "      <td>1</td>\n",
              "      <td>حدود دوسال و نیم هست که5عددش رو خریدیم.یکیش خر...</td>\n",
              "      <td>3.000000</td>\n",
              "    </tr>\n",
              "    <tr>\n",
              "      <th>36</th>\n",
              "      <td>106471</td>\n",
              "      <td>18</td>\n",
              "      <td>4</td>\n",
              "      <td>عالی و رضایت بخش بدون هیچ مشکلی</td>\n",
              "      <td>3.000000</td>\n",
              "    </tr>\n",
              "    <tr>\n",
              "      <th>37</th>\n",
              "      <td>112714</td>\n",
              "      <td>5</td>\n",
              "      <td>0</td>\n",
              "      <td>خیلی ساده و بی دردسر. امکانت خیلی زیادی نداره ...</td>\n",
              "      <td>3.000000</td>\n",
              "    </tr>\n",
              "    <tr>\n",
              "      <th>38</th>\n",
              "      <td>104427</td>\n",
              "      <td>9</td>\n",
              "      <td>1</td>\n",
              "      <td>با سلام به دوستان\\r\\nاین پاوربانک رو تقریبا 3 ...</td>\n",
              "      <td>3.000000</td>\n",
              "    </tr>\n",
              "    <tr>\n",
              "      <th>39</th>\n",
              "      <td>133709</td>\n",
              "      <td>15</td>\n",
              "      <td>0</td>\n",
              "      <td>اگر بخوام دوباره هدفون بخرم بازم همینو میخرم چ...</td>\n",
              "      <td>3.000000</td>\n",
              "    </tr>\n",
              "    <tr>\n",
              "      <th>40</th>\n",
              "      <td>55495</td>\n",
              "      <td>7</td>\n",
              "      <td>4</td>\n",
              "      <td>من این عطر رو برای هدیه دادن گرفتم، بنابرین وک...</td>\n",
              "      <td>3.000000</td>\n",
              "    </tr>\n",
              "    <tr>\n",
              "      <th>41</th>\n",
              "      <td>121304</td>\n",
              "      <td>3</td>\n",
              "      <td>0</td>\n",
              "      <td>در هنگام پیاده روی وقتی تو جیبتونه و یا تو دست...</td>\n",
              "      <td>3.000000</td>\n",
              "    </tr>\n",
              "    <tr>\n",
              "      <th>42</th>\n",
              "      <td>150718</td>\n",
              "      <td>8</td>\n",
              "      <td>0</td>\n",
              "      <td>من ۲ساله خریدم. اوایل هنگی داشت اما بعد ش روون...</td>\n",
              "      <td>3.000000</td>\n",
              "    </tr>\n",
              "    <tr>\n",
              "      <th>43</th>\n",
              "      <td>154559</td>\n",
              "      <td>6</td>\n",
              "      <td>0</td>\n",
              "      <td>سلام\\r\\nخوبه جلوی گرد و خاک میگیرهه\\r\\n بو کمت...</td>\n",
              "      <td>3.000000</td>\n",
              "    </tr>\n",
              "    <tr>\n",
              "      <th>44</th>\n",
              "      <td>127328</td>\n",
              "      <td>7</td>\n",
              "      <td>1</td>\n",
              "      <td>من این مودم رو یک ساله دارم واقعاااا بی نظیره....</td>\n",
              "      <td>3.000000</td>\n",
              "    </tr>\n",
              "    <tr>\n",
              "      <th>45</th>\n",
              "      <td>162788</td>\n",
              "      <td>1</td>\n",
              "      <td>4</td>\n",
              "      <td>به نظر من این تیغه بهترین تیغه ای هست که من اس...</td>\n",
              "      <td>3.000000</td>\n",
              "    </tr>\n",
              "    <tr>\n",
              "      <th>46</th>\n",
              "      <td>24666</td>\n",
              "      <td>3</td>\n",
              "      <td>2</td>\n",
              "      <td>بعد از حدود 8 9 ماه استفاده، به دلایل نامعلوم ...</td>\n",
              "      <td>3.000000</td>\n",
              "    </tr>\n",
              "    <tr>\n",
              "      <th>47</th>\n",
              "      <td>81429</td>\n",
              "      <td>2</td>\n",
              "      <td>1</td>\n",
              "      <td>البته من غیر از سی دی (روی کارت بانکی) که استف...</td>\n",
              "      <td>3.000000</td>\n",
              "    </tr>\n",
              "    <tr>\n",
              "      <th>48</th>\n",
              "      <td>58800</td>\n",
              "      <td>3</td>\n",
              "      <td>6</td>\n",
              "      <td>ارزش خرید نداره. هزینه بیشتر بکنید و گزینه های...</td>\n",
              "      <td>3.000000</td>\n",
              "    </tr>\n",
              "    <tr>\n",
              "      <th>49</th>\n",
              "      <td>149656</td>\n",
              "      <td>5</td>\n",
              "      <td>0</td>\n",
              "      <td>سلام بعد دوسال استفاده \\r\\nعالیه از همه نظر \\r...</td>\n",
              "      <td>3.000000</td>\n",
              "    </tr>\n",
              "  </tbody>\n",
              "</table>\n",
              "</div>"
            ],
            "text/plain": [
              "    product_id  ...  recommend\n",
              "0         3692  ...        NaN\n",
              "1        90213  ...   3.000000\n",
              "2        59473  ...   1.000000\n",
              "3       120499  ...   0.000000\n",
              "4        67200  ...   0.000000\n",
              "5       133722  ...   3.000000\n",
              "6       148509  ...   3.000000\n",
              "7        56871  ...   2.000000\n",
              "8        49738  ...   1.000000\n",
              "9       161548  ...   0.000000\n",
              "10        5107  ...   3.000000\n",
              "11      156041  ...   3.000000\n",
              "12      134367  ...   3.000000\n",
              "13      114006  ...   3.000000\n",
              "14      151402  ...   3.000000\n",
              "15      146879  ...   3.000000\n",
              "16       81254  ...   2.000000\n",
              "17       26368  ...   1.000000\n",
              "18       90894  ...   0.000000\n",
              "19       21340  ...   0.500000\n",
              "20      144139  ...   1.000000\n",
              "21      138040  ...   1.666667\n",
              "22      105719  ...   2.333333\n",
              "23      147165  ...   3.000000\n",
              "24      116387  ...   3.000000\n",
              "25       73064  ...   3.000000\n",
              "26      110040  ...   3.000000\n",
              "27      139131  ...   3.000000\n",
              "28       80854  ...   3.000000\n",
              "29      163519  ...   3.000000\n",
              "30      102068  ...   3.000000\n",
              "31      129988  ...   1.000000\n",
              "32      130386  ...   3.000000\n",
              "33      160008  ...   3.000000\n",
              "34       93850  ...   3.000000\n",
              "35      154624  ...   3.000000\n",
              "36      106471  ...   3.000000\n",
              "37      112714  ...   3.000000\n",
              "38      104427  ...   3.000000\n",
              "39      133709  ...   3.000000\n",
              "40       55495  ...   3.000000\n",
              "41      121304  ...   3.000000\n",
              "42      150718  ...   3.000000\n",
              "43      154559  ...   3.000000\n",
              "44      127328  ...   3.000000\n",
              "45      162788  ...   3.000000\n",
              "46       24666  ...   3.000000\n",
              "47       81429  ...   3.000000\n",
              "48       58800  ...   3.000000\n",
              "49      149656  ...   3.000000\n",
              "\n",
              "[50 rows x 5 columns]"
            ]
          },
          "metadata": {
            "tags": []
          },
          "execution_count": 99
        }
      ]
    },
    {
      "cell_type": "code",
      "metadata": {
        "colab": {
          "base_uri": "https://localhost:8080/"
        },
        "id": "Vo5P9TFTHOM-",
        "outputId": "6b6876dd-b596-4902-f40d-f7e342931bf2"
      },
      "source": [
        "df1.isnull().sum()"
      ],
      "execution_count": 100,
      "outputs": [
        {
          "output_type": "execute_result",
          "data": {
            "text/plain": [
              "product_id      0\n",
              "likes           0\n",
              "dislikes        0\n",
              "comment       118\n",
              "recommend       1\n",
              "dtype: int64"
            ]
          },
          "metadata": {
            "tags": []
          },
          "execution_count": 100
        }
      ]
    },
    {
      "cell_type": "code",
      "metadata": {
        "colab": {
          "base_uri": "https://localhost:8080/"
        },
        "id": "rINchT3qHRXz",
        "outputId": "b7143340-e15c-4331-d8a4-fcc154e8b5f3"
      },
      "source": [
        "df1.dropna(inplace=True)\r\n",
        "df1.isnull().sum()"
      ],
      "execution_count": 101,
      "outputs": [
        {
          "output_type": "stream",
          "text": [
            "/usr/local/lib/python3.6/dist-packages/ipykernel_launcher.py:1: SettingWithCopyWarning: \n",
            "A value is trying to be set on a copy of a slice from a DataFrame\n",
            "\n",
            "See the caveats in the documentation: https://pandas.pydata.org/pandas-docs/stable/user_guide/indexing.html#returning-a-view-versus-a-copy\n",
            "  \"\"\"Entry point for launching an IPython kernel.\n"
          ],
          "name": "stderr"
        },
        {
          "output_type": "execute_result",
          "data": {
            "text/plain": [
              "product_id    0\n",
              "likes         0\n",
              "dislikes      0\n",
              "comment       0\n",
              "recommend     0\n",
              "dtype: int64"
            ]
          },
          "metadata": {
            "tags": []
          },
          "execution_count": 101
        }
      ]
    },
    {
      "cell_type": "markdown",
      "metadata": {
        "id": "GwgO2Vj9MmKi"
      },
      "source": [
        "## handling NULL values is DONE!!! "
      ]
    },
    {
      "cell_type": "markdown",
      "metadata": {
        "id": "cFTz0sGoM5jh"
      },
      "source": [
        "next step is to drop duplicates"
      ]
    },
    {
      "cell_type": "code",
      "metadata": {
        "colab": {
          "base_uri": "https://localhost:8080/"
        },
        "id": "eCPTXrDXM-0d",
        "outputId": "333f251b-842f-43d5-c7f2-a5e93d9032a8"
      },
      "source": [
        "df1.drop_duplicates(subset='product_id', inplace=True, keep='first')\r\n",
        "df1.info()"
      ],
      "execution_count": 102,
      "outputs": [
        {
          "output_type": "stream",
          "text": [
            "<class 'pandas.core.frame.DataFrame'>\n",
            "Int64Index: 50189 entries, 1 to 99998\n",
            "Data columns (total 5 columns):\n",
            " #   Column      Non-Null Count  Dtype  \n",
            "---  ------      --------------  -----  \n",
            " 0   product_id  50189 non-null  int64  \n",
            " 1   likes       50189 non-null  int64  \n",
            " 2   dislikes    50189 non-null  int64  \n",
            " 3   comment     50189 non-null  object \n",
            " 4   recommend   50189 non-null  float64\n",
            "dtypes: float64(1), int64(3), object(1)\n",
            "memory usage: 2.3+ MB\n"
          ],
          "name": "stdout"
        },
        {
          "output_type": "stream",
          "text": [
            "/usr/local/lib/python3.6/dist-packages/ipykernel_launcher.py:1: SettingWithCopyWarning: \n",
            "A value is trying to be set on a copy of a slice from a DataFrame\n",
            "\n",
            "See the caveats in the documentation: https://pandas.pydata.org/pandas-docs/stable/user_guide/indexing.html#returning-a-view-versus-a-copy\n",
            "  \"\"\"Entry point for launching an IPython kernel.\n"
          ],
          "name": "stderr"
        }
      ]
    },
    {
      "cell_type": "markdown",
      "metadata": {
        "id": "0cqma277N0yM"
      },
      "source": [
        "More than 49000 products with duplicate records were deleted as a result\r\n",
        "let's save the preproccessed dataframe upto now"
      ]
    },
    {
      "cell_type": "code",
      "metadata": {
        "id": "W3xiFSOcOBkb",
        "colab": {
          "base_uri": "https://localhost:8080/",
          "height": 1000
        },
        "outputId": "a6cd40db-b616-4acf-e3a4-55b4fa265c42"
      },
      "source": [
        "# df1.to_csv('preprocessed_item_recomm.csv',index=False, encoding='utf-8-sig')\r\n",
        "prep_df.head(50)"
      ],
      "execution_count": 103,
      "outputs": [
        {
          "output_type": "execute_result",
          "data": {
            "text/html": [
              "<div>\n",
              "<style scoped>\n",
              "    .dataframe tbody tr th:only-of-type {\n",
              "        vertical-align: middle;\n",
              "    }\n",
              "\n",
              "    .dataframe tbody tr th {\n",
              "        vertical-align: top;\n",
              "    }\n",
              "\n",
              "    .dataframe thead th {\n",
              "        text-align: right;\n",
              "    }\n",
              "</style>\n",
              "<table border=\"1\" class=\"dataframe\">\n",
              "  <thead>\n",
              "    <tr style=\"text-align: right;\">\n",
              "      <th></th>\n",
              "      <th>product_id</th>\n",
              "      <th>likes</th>\n",
              "      <th>dislikes</th>\n",
              "      <th>comment</th>\n",
              "      <th>recommend</th>\n",
              "    </tr>\n",
              "  </thead>\n",
              "  <tbody>\n",
              "    <tr>\n",
              "      <th>0</th>\n",
              "      <td>90213</td>\n",
              "      <td>4</td>\n",
              "      <td>1</td>\n",
              "      <td>سلام، قبل اینکه نظرم رو بگم میخواستم به یک موض...</td>\n",
              "      <td>3.000000</td>\n",
              "    </tr>\n",
              "    <tr>\n",
              "      <th>1</th>\n",
              "      <td>59473</td>\n",
              "      <td>1</td>\n",
              "      <td>0</td>\n",
              "      <td>گیره های فلزی خیلی سخت تا میشوند و لذا حوله را...</td>\n",
              "      <td>1.000000</td>\n",
              "    </tr>\n",
              "    <tr>\n",
              "      <th>2</th>\n",
              "      <td>120499</td>\n",
              "      <td>6</td>\n",
              "      <td>11</td>\n",
              "      <td>همه چیز در رابطه با ظاهر این گوشی بسیار خوب اس...</td>\n",
              "      <td>0.000000</td>\n",
              "    </tr>\n",
              "    <tr>\n",
              "      <th>3</th>\n",
              "      <td>67200</td>\n",
              "      <td>19</td>\n",
              "      <td>4</td>\n",
              "      <td>اگر ظرفیتش براتون کافیه حتما بخرید.\\r\\nیه شارژ...</td>\n",
              "      <td>0.000000</td>\n",
              "    </tr>\n",
              "    <tr>\n",
              "      <th>4</th>\n",
              "      <td>133722</td>\n",
              "      <td>6</td>\n",
              "      <td>1</td>\n",
              "      <td>سلام دوستان،،\\r\\nمنم مثه بعضی از دوستان قبل از...</td>\n",
              "      <td>3.000000</td>\n",
              "    </tr>\n",
              "    <tr>\n",
              "      <th>5</th>\n",
              "      <td>148509</td>\n",
              "      <td>3</td>\n",
              "      <td>0</td>\n",
              "      <td>من چند سالی هست که این اسپیکرو خریدم و واقعا ح...</td>\n",
              "      <td>3.000000</td>\n",
              "    </tr>\n",
              "    <tr>\n",
              "      <th>6</th>\n",
              "      <td>56871</td>\n",
              "      <td>2</td>\n",
              "      <td>2</td>\n",
              "      <td>بوی تند ولی خوشبو داره.ماندگاریش خوبه و هر چقد...</td>\n",
              "      <td>2.000000</td>\n",
              "    </tr>\n",
              "    <tr>\n",
              "      <th>7</th>\n",
              "      <td>49738</td>\n",
              "      <td>2</td>\n",
              "      <td>1</td>\n",
              "      <td>متاسفانه عمر مفید این ماشین کم هست و بعد از دو...</td>\n",
              "      <td>1.000000</td>\n",
              "    </tr>\n",
              "    <tr>\n",
              "      <th>8</th>\n",
              "      <td>161548</td>\n",
              "      <td>1</td>\n",
              "      <td>0</td>\n",
              "      <td>خوب بودممنون</td>\n",
              "      <td>0.000000</td>\n",
              "    </tr>\n",
              "    <tr>\n",
              "      <th>9</th>\n",
              "      <td>5107</td>\n",
              "      <td>1</td>\n",
              "      <td>0</td>\n",
              "      <td>نزدیک به دو ساله که این هارد رو خریدم. استفاده...</td>\n",
              "      <td>3.000000</td>\n",
              "    </tr>\n",
              "    <tr>\n",
              "      <th>10</th>\n",
              "      <td>156041</td>\n",
              "      <td>11</td>\n",
              "      <td>4</td>\n",
              "      <td>بعد از گذشت 3سال و 60000کیلومتر کارکرد روی ماش...</td>\n",
              "      <td>3.000000</td>\n",
              "    </tr>\n",
              "    <tr>\n",
              "      <th>11</th>\n",
              "      <td>134367</td>\n",
              "      <td>10</td>\n",
              "      <td>5</td>\n",
              "      <td>افا از وقتی من اینو واسه پسرم خریدم همه بچه ها...</td>\n",
              "      <td>3.000000</td>\n",
              "    </tr>\n",
              "    <tr>\n",
              "      <th>12</th>\n",
              "      <td>114006</td>\n",
              "      <td>4</td>\n",
              "      <td>2</td>\n",
              "      <td>من این پاور بانک رو حدود یک سال پیش از دیجی کا...</td>\n",
              "      <td>3.000000</td>\n",
              "    </tr>\n",
              "    <tr>\n",
              "      <th>13</th>\n",
              "      <td>151402</td>\n",
              "      <td>2</td>\n",
              "      <td>6</td>\n",
              "      <td>این تیغ محصول کشور آمریکا هست ( در عکس محصول م...</td>\n",
              "      <td>3.000000</td>\n",
              "    </tr>\n",
              "    <tr>\n",
              "      <th>14</th>\n",
              "      <td>146879</td>\n",
              "      <td>15</td>\n",
              "      <td>12</td>\n",
              "      <td>با توجه به قدرت خنک کنندگی حداقل ۲ ساعت زمان ل...</td>\n",
              "      <td>3.000000</td>\n",
              "    </tr>\n",
              "    <tr>\n",
              "      <th>15</th>\n",
              "      <td>81254</td>\n",
              "      <td>4</td>\n",
              "      <td>1</td>\n",
              "      <td>امیوارم کیفیتش همینطور بمونه\\r\\nمن مدت هاس ازی...</td>\n",
              "      <td>2.000000</td>\n",
              "    </tr>\n",
              "    <tr>\n",
              "      <th>16</th>\n",
              "      <td>26368</td>\n",
              "      <td>5</td>\n",
              "      <td>0</td>\n",
              "      <td>الان حدود یک سالی هست که دارمش و خیلی راضی ام ازش</td>\n",
              "      <td>1.000000</td>\n",
              "    </tr>\n",
              "    <tr>\n",
              "      <th>17</th>\n",
              "      <td>90894</td>\n",
              "      <td>2</td>\n",
              "      <td>1</td>\n",
              "      <td>ساعت خوبی بود از نظر ظاهر و سنسوراش خوب بود\\r\\...</td>\n",
              "      <td>0.000000</td>\n",
              "    </tr>\n",
              "    <tr>\n",
              "      <th>18</th>\n",
              "      <td>21340</td>\n",
              "      <td>3</td>\n",
              "      <td>1</td>\n",
              "      <td>حدود یک ساله دارمش راضی ام ازش نسبت به قیمتش م...</td>\n",
              "      <td>0.500000</td>\n",
              "    </tr>\n",
              "    <tr>\n",
              "      <th>19</th>\n",
              "      <td>144139</td>\n",
              "      <td>3</td>\n",
              "      <td>12</td>\n",
              "      <td>سلام و خسته نباشید به تمامی کارکنان و بازدید ک...</td>\n",
              "      <td>1.000000</td>\n",
              "    </tr>\n",
              "    <tr>\n",
              "      <th>20</th>\n",
              "      <td>138040</td>\n",
              "      <td>11</td>\n",
              "      <td>3</td>\n",
              "      <td>با سلام..منم اینو از دیجی گرفتم ..تو نگاه اول ...</td>\n",
              "      <td>1.666667</td>\n",
              "    </tr>\n",
              "    <tr>\n",
              "      <th>21</th>\n",
              "      <td>105719</td>\n",
              "      <td>25</td>\n",
              "      <td>8</td>\n",
              "      <td>این عطر یه بدی بزرگ داره... من خریدم و وقتی تم...</td>\n",
              "      <td>2.333333</td>\n",
              "    </tr>\n",
              "    <tr>\n",
              "      <th>22</th>\n",
              "      <td>147165</td>\n",
              "      <td>10</td>\n",
              "      <td>11</td>\n",
              "      <td>بهترین روغن موتور برای موتورهای پژو همین روغنه...</td>\n",
              "      <td>3.000000</td>\n",
              "    </tr>\n",
              "    <tr>\n",
              "      <th>23</th>\n",
              "      <td>116387</td>\n",
              "      <td>3</td>\n",
              "      <td>0</td>\n",
              "      <td>اگر با قیمتش مشکلی ندارید نسبت به صداش شک نکنی...</td>\n",
              "      <td>3.000000</td>\n",
              "    </tr>\n",
              "    <tr>\n",
              "      <th>24</th>\n",
              "      <td>73064</td>\n",
              "      <td>5</td>\n",
              "      <td>0</td>\n",
              "      <td>گوشی بسیار خوبی هست واقعا راضی هستم ی مشکل که ...</td>\n",
              "      <td>3.000000</td>\n",
              "    </tr>\n",
              "    <tr>\n",
              "      <th>25</th>\n",
              "      <td>110040</td>\n",
              "      <td>24</td>\n",
              "      <td>6</td>\n",
              "      <td>آپدیت: دو سال و نیم گذشت از خریدم. بهترین گوشی...</td>\n",
              "      <td>3.000000</td>\n",
              "    </tr>\n",
              "    <tr>\n",
              "      <th>26</th>\n",
              "      <td>139131</td>\n",
              "      <td>8</td>\n",
              "      <td>4</td>\n",
              "      <td>جزو اولین نفرهایی بودم که این گوشی رو از دیجی ...</td>\n",
              "      <td>3.000000</td>\n",
              "    </tr>\n",
              "    <tr>\n",
              "      <th>27</th>\n",
              "      <td>80854</td>\n",
              "      <td>9</td>\n",
              "      <td>1</td>\n",
              "      <td>بینظیره\\r\\nمن که خیلی راضی بودم</td>\n",
              "      <td>3.000000</td>\n",
              "    </tr>\n",
              "    <tr>\n",
              "      <th>28</th>\n",
              "      <td>163519</td>\n",
              "      <td>10</td>\n",
              "      <td>2</td>\n",
              "      <td>با سلام\\r\\nعالیه، امیدوارم شگفت انگیز شود و دو...</td>\n",
              "      <td>3.000000</td>\n",
              "    </tr>\n",
              "    <tr>\n",
              "      <th>29</th>\n",
              "      <td>102068</td>\n",
              "      <td>14</td>\n",
              "      <td>5</td>\n",
              "      <td>با سلام به همه دوستان عزیز\\r\\nبعد از 20 روز خر...</td>\n",
              "      <td>3.000000</td>\n",
              "    </tr>\n",
              "    <tr>\n",
              "      <th>30</th>\n",
              "      <td>129988</td>\n",
              "      <td>8</td>\n",
              "      <td>7</td>\n",
              "      <td>با سلام  من  این محصولو یه هفته پیش خریدم و کم...</td>\n",
              "      <td>1.000000</td>\n",
              "    </tr>\n",
              "    <tr>\n",
              "      <th>31</th>\n",
              "      <td>130386</td>\n",
              "      <td>1</td>\n",
              "      <td>0</td>\n",
              "      <td>سلام. دوستان این هدست با توجه به قیمتش فوق الع...</td>\n",
              "      <td>3.000000</td>\n",
              "    </tr>\n",
              "    <tr>\n",
              "      <th>32</th>\n",
              "      <td>160008</td>\n",
              "      <td>1</td>\n",
              "      <td>1</td>\n",
              "      <td>یادش بخیر من این محصول عالی رو دو سال پیش برای...</td>\n",
              "      <td>3.000000</td>\n",
              "    </tr>\n",
              "    <tr>\n",
              "      <th>33</th>\n",
              "      <td>93850</td>\n",
              "      <td>7</td>\n",
              "      <td>3</td>\n",
              "      <td>همه چی عالیه\\r\\nاستاد نکته هایی میگن که تا حال...</td>\n",
              "      <td>3.000000</td>\n",
              "    </tr>\n",
              "    <tr>\n",
              "      <th>34</th>\n",
              "      <td>154624</td>\n",
              "      <td>1</td>\n",
              "      <td>1</td>\n",
              "      <td>حدود دوسال و نیم هست که5عددش رو خریدیم.یکیش خر...</td>\n",
              "      <td>3.000000</td>\n",
              "    </tr>\n",
              "    <tr>\n",
              "      <th>35</th>\n",
              "      <td>106471</td>\n",
              "      <td>18</td>\n",
              "      <td>4</td>\n",
              "      <td>عالی و رضایت بخش بدون هیچ مشکلی</td>\n",
              "      <td>3.000000</td>\n",
              "    </tr>\n",
              "    <tr>\n",
              "      <th>36</th>\n",
              "      <td>112714</td>\n",
              "      <td>5</td>\n",
              "      <td>0</td>\n",
              "      <td>خیلی ساده و بی دردسر. امکانت خیلی زیادی نداره ...</td>\n",
              "      <td>3.000000</td>\n",
              "    </tr>\n",
              "    <tr>\n",
              "      <th>37</th>\n",
              "      <td>104427</td>\n",
              "      <td>9</td>\n",
              "      <td>1</td>\n",
              "      <td>با سلام به دوستان\\r\\nاین پاوربانک رو تقریبا 3 ...</td>\n",
              "      <td>3.000000</td>\n",
              "    </tr>\n",
              "    <tr>\n",
              "      <th>38</th>\n",
              "      <td>133709</td>\n",
              "      <td>15</td>\n",
              "      <td>0</td>\n",
              "      <td>اگر بخوام دوباره هدفون بخرم بازم همینو میخرم چ...</td>\n",
              "      <td>3.000000</td>\n",
              "    </tr>\n",
              "    <tr>\n",
              "      <th>39</th>\n",
              "      <td>55495</td>\n",
              "      <td>7</td>\n",
              "      <td>4</td>\n",
              "      <td>من این عطر رو برای هدیه دادن گرفتم، بنابرین وک...</td>\n",
              "      <td>3.000000</td>\n",
              "    </tr>\n",
              "    <tr>\n",
              "      <th>40</th>\n",
              "      <td>121304</td>\n",
              "      <td>3</td>\n",
              "      <td>0</td>\n",
              "      <td>در هنگام پیاده روی وقتی تو جیبتونه و یا تو دست...</td>\n",
              "      <td>3.000000</td>\n",
              "    </tr>\n",
              "    <tr>\n",
              "      <th>41</th>\n",
              "      <td>150718</td>\n",
              "      <td>8</td>\n",
              "      <td>0</td>\n",
              "      <td>من ۲ساله خریدم. اوایل هنگی داشت اما بعد ش روون...</td>\n",
              "      <td>3.000000</td>\n",
              "    </tr>\n",
              "    <tr>\n",
              "      <th>42</th>\n",
              "      <td>154559</td>\n",
              "      <td>6</td>\n",
              "      <td>0</td>\n",
              "      <td>سلام\\r\\nخوبه جلوی گرد و خاک میگیرهه\\r\\n بو کمت...</td>\n",
              "      <td>3.000000</td>\n",
              "    </tr>\n",
              "    <tr>\n",
              "      <th>43</th>\n",
              "      <td>127328</td>\n",
              "      <td>7</td>\n",
              "      <td>1</td>\n",
              "      <td>من این مودم رو یک ساله دارم واقعاااا بی نظیره....</td>\n",
              "      <td>3.000000</td>\n",
              "    </tr>\n",
              "    <tr>\n",
              "      <th>44</th>\n",
              "      <td>162788</td>\n",
              "      <td>1</td>\n",
              "      <td>4</td>\n",
              "      <td>به نظر من این تیغه بهترین تیغه ای هست که من اس...</td>\n",
              "      <td>3.000000</td>\n",
              "    </tr>\n",
              "    <tr>\n",
              "      <th>45</th>\n",
              "      <td>24666</td>\n",
              "      <td>3</td>\n",
              "      <td>2</td>\n",
              "      <td>بعد از حدود 8 9 ماه استفاده، به دلایل نامعلوم ...</td>\n",
              "      <td>3.000000</td>\n",
              "    </tr>\n",
              "    <tr>\n",
              "      <th>46</th>\n",
              "      <td>81429</td>\n",
              "      <td>2</td>\n",
              "      <td>1</td>\n",
              "      <td>البته من غیر از سی دی (روی کارت بانکی) که استف...</td>\n",
              "      <td>3.000000</td>\n",
              "    </tr>\n",
              "    <tr>\n",
              "      <th>47</th>\n",
              "      <td>58800</td>\n",
              "      <td>3</td>\n",
              "      <td>6</td>\n",
              "      <td>ارزش خرید نداره. هزینه بیشتر بکنید و گزینه های...</td>\n",
              "      <td>3.000000</td>\n",
              "    </tr>\n",
              "    <tr>\n",
              "      <th>48</th>\n",
              "      <td>149656</td>\n",
              "      <td>5</td>\n",
              "      <td>0</td>\n",
              "      <td>سلام بعد دوسال استفاده \\r\\nعالیه از همه نظر \\r...</td>\n",
              "      <td>3.000000</td>\n",
              "    </tr>\n",
              "    <tr>\n",
              "      <th>49</th>\n",
              "      <td>39074</td>\n",
              "      <td>9</td>\n",
              "      <td>1</td>\n",
              "      <td>من این آمپو با  ساب ground zero 38xspl بستم. ص...</td>\n",
              "      <td>3.000000</td>\n",
              "    </tr>\n",
              "  </tbody>\n",
              "</table>\n",
              "</div>"
            ],
            "text/plain": [
              "    product_id  ...  recommend\n",
              "0        90213  ...   3.000000\n",
              "1        59473  ...   1.000000\n",
              "2       120499  ...   0.000000\n",
              "3        67200  ...   0.000000\n",
              "4       133722  ...   3.000000\n",
              "5       148509  ...   3.000000\n",
              "6        56871  ...   2.000000\n",
              "7        49738  ...   1.000000\n",
              "8       161548  ...   0.000000\n",
              "9         5107  ...   3.000000\n",
              "10      156041  ...   3.000000\n",
              "11      134367  ...   3.000000\n",
              "12      114006  ...   3.000000\n",
              "13      151402  ...   3.000000\n",
              "14      146879  ...   3.000000\n",
              "15       81254  ...   2.000000\n",
              "16       26368  ...   1.000000\n",
              "17       90894  ...   0.000000\n",
              "18       21340  ...   0.500000\n",
              "19      144139  ...   1.000000\n",
              "20      138040  ...   1.666667\n",
              "21      105719  ...   2.333333\n",
              "22      147165  ...   3.000000\n",
              "23      116387  ...   3.000000\n",
              "24       73064  ...   3.000000\n",
              "25      110040  ...   3.000000\n",
              "26      139131  ...   3.000000\n",
              "27       80854  ...   3.000000\n",
              "28      163519  ...   3.000000\n",
              "29      102068  ...   3.000000\n",
              "30      129988  ...   1.000000\n",
              "31      130386  ...   3.000000\n",
              "32      160008  ...   3.000000\n",
              "33       93850  ...   3.000000\n",
              "34      154624  ...   3.000000\n",
              "35      106471  ...   3.000000\n",
              "36      112714  ...   3.000000\n",
              "37      104427  ...   3.000000\n",
              "38      133709  ...   3.000000\n",
              "39       55495  ...   3.000000\n",
              "40      121304  ...   3.000000\n",
              "41      150718  ...   3.000000\n",
              "42      154559  ...   3.000000\n",
              "43      127328  ...   3.000000\n",
              "44      162788  ...   3.000000\n",
              "45       24666  ...   3.000000\n",
              "46       81429  ...   3.000000\n",
              "47       58800  ...   3.000000\n",
              "48      149656  ...   3.000000\n",
              "49       39074  ...   3.000000\n",
              "\n",
              "[50 rows x 5 columns]"
            ]
          },
          "metadata": {
            "tags": []
          },
          "execution_count": 103
        }
      ]
    },
    {
      "cell_type": "code",
      "metadata": {
        "colab": {
          "base_uri": "https://localhost:8080/"
        },
        "id": "MU9fp8QwnLB5",
        "outputId": "37235e05-2e8a-4e9d-c243-fb21ab55ee96"
      },
      "source": [
        "prep_df = pd.read_csv('/content/drive/MyDrive/Clustering_according_to_item_popularity/preprocessed_item_recomm.csv')\r\n",
        "prep_df['recommend']=prep_df['recommend'].round()\r\n",
        "prep_df['recommend'] = pd.to_numeric(prep_df['recommend'], downcast='integer')\r\n",
        "inv_tr=le.inverse_transform(prep_df['recommend'])\r\n",
        "inv_tr"
      ],
      "execution_count": 108,
      "outputs": [
        {
          "output_type": "execute_result",
          "data": {
            "text/plain": [
              "array(['recommended', 'not_recommended', 'no_idea', ..., 'recommended',\n",
              "       'recommended', 'no_idea'], dtype=object)"
            ]
          },
          "metadata": {
            "tags": []
          },
          "execution_count": 108
        }
      ]
    },
    {
      "cell_type": "code",
      "metadata": {
        "colab": {
          "base_uri": "https://localhost:8080/",
          "height": 206
        },
        "id": "2-6mvULRpDGh",
        "outputId": "c0bda920-a2b3-4652-842f-38caaf194bf7"
      },
      "source": [
        "dummies = pd.get_dummies(prep_df['recommend'])\r\n",
        "dummies.head()"
      ],
      "execution_count": 109,
      "outputs": [
        {
          "output_type": "execute_result",
          "data": {
            "text/html": [
              "<div>\n",
              "<style scoped>\n",
              "    .dataframe tbody tr th:only-of-type {\n",
              "        vertical-align: middle;\n",
              "    }\n",
              "\n",
              "    .dataframe tbody tr th {\n",
              "        vertical-align: top;\n",
              "    }\n",
              "\n",
              "    .dataframe thead th {\n",
              "        text-align: right;\n",
              "    }\n",
              "</style>\n",
              "<table border=\"1\" class=\"dataframe\">\n",
              "  <thead>\n",
              "    <tr style=\"text-align: right;\">\n",
              "      <th></th>\n",
              "      <th>0</th>\n",
              "      <th>1</th>\n",
              "      <th>2</th>\n",
              "      <th>3</th>\n",
              "    </tr>\n",
              "  </thead>\n",
              "  <tbody>\n",
              "    <tr>\n",
              "      <th>0</th>\n",
              "      <td>0</td>\n",
              "      <td>0</td>\n",
              "      <td>0</td>\n",
              "      <td>1</td>\n",
              "    </tr>\n",
              "    <tr>\n",
              "      <th>1</th>\n",
              "      <td>0</td>\n",
              "      <td>1</td>\n",
              "      <td>0</td>\n",
              "      <td>0</td>\n",
              "    </tr>\n",
              "    <tr>\n",
              "      <th>2</th>\n",
              "      <td>1</td>\n",
              "      <td>0</td>\n",
              "      <td>0</td>\n",
              "      <td>0</td>\n",
              "    </tr>\n",
              "    <tr>\n",
              "      <th>3</th>\n",
              "      <td>1</td>\n",
              "      <td>0</td>\n",
              "      <td>0</td>\n",
              "      <td>0</td>\n",
              "    </tr>\n",
              "    <tr>\n",
              "      <th>4</th>\n",
              "      <td>0</td>\n",
              "      <td>0</td>\n",
              "      <td>0</td>\n",
              "      <td>1</td>\n",
              "    </tr>\n",
              "  </tbody>\n",
              "</table>\n",
              "</div>"
            ],
            "text/plain": [
              "   0  1  2  3\n",
              "0  0  0  0  1\n",
              "1  0  1  0  0\n",
              "2  1  0  0  0\n",
              "3  1  0  0  0\n",
              "4  0  0  0  1"
            ]
          },
          "metadata": {
            "tags": []
          },
          "execution_count": 109
        }
      ]
    },
    {
      "cell_type": "code",
      "metadata": {
        "id": "RwQQwmd8pcPP"
      },
      "source": [
        ""
      ],
      "execution_count": null,
      "outputs": []
    }
  ]
}