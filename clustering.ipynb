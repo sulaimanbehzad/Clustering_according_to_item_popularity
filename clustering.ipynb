{
  "nbformat": 4,
  "nbformat_minor": 0,
  "metadata": {
    "colab": {
      "name": "clustering.ipynb",
      "provenance": [],
      "collapsed_sections": [],
      "mount_file_id": "1XeKp3FTibxDGrDNZAZqz7Tj_RA7p2Y1P",
      "authorship_tag": "ABX9TyNeiEV3Fv3BhkwmhucJNhhX",
      "include_colab_link": true
    },
    "kernelspec": {
      "name": "python3",
      "display_name": "Python 3"
    }
  },
  "cells": [
    {
      "cell_type": "markdown",
      "metadata": {
        "id": "view-in-github",
        "colab_type": "text"
      },
      "source": [
        "<a href=\"https://colab.research.google.com/github/sulaimanbehzad/Clustering_according_to_item_popularity/blob/main/clustering.ipynb\" target=\"_parent\"><img src=\"https://colab.research.google.com/assets/colab-badge.svg\" alt=\"Open In Colab\"/></a>"
      ]
    },
    {
      "cell_type": "markdown",
      "metadata": {
        "id": "YicdgDXywbh4"
      },
      "source": [
        "# Clustering of Digikala dataset based on items popularity  \r\n"
      ]
    },
    {
      "cell_type": "code",
      "metadata": {
        "id": "B9Bl0RWIwQd1"
      },
      "source": [
        "import pandas as pd\r\n",
        "import numpy as np\r\n",
        "import matplotlib.pyplot as plt\r\n",
        "from sklearn.preprocessing import LabelEncoder, normalize"
      ],
      "execution_count": null,
      "outputs": []
    },
    {
      "cell_type": "markdown",
      "metadata": {
        "id": "hXC08ur6xq4r"
      },
      "source": [
        "### Cloning the github repository in colab"
      ]
    },
    {
      "cell_type": "code",
      "metadata": {
        "colab": {
          "base_uri": "https://localhost:8080/"
        },
        "id": "oBYKpZUHx4UR",
        "outputId": "5a90f66a-7ca5-4c6b-ad6b-3ef3df4f903a"
      },
      "source": [
        "% cd /content/drive/MyDrive/Clustering_according_to_item_popularity/\r\n"
      ],
      "execution_count": 20,
      "outputs": [
        {
          "output_type": "stream",
          "text": [
            "/content/drive/MyDrive/Clustering_according_to_item_popularity\n"
          ],
          "name": "stdout"
        }
      ]
    },
    {
      "cell_type": "code",
      "metadata": {
        "colab": {
          "base_uri": "https://localhost:8080/"
        },
        "id": "kIX5wgxF0HNT",
        "outputId": "09a97b09-ba25-462c-c309-4852315acb17"
      },
      "source": [
        "! ls"
      ],
      "execution_count": null,
      "outputs": [
        {
          "output_type": "stream",
          "text": [
            "clustring.ipynb  LICENSE  README.md\n"
          ],
          "name": "stdout"
        }
      ]
    },
    {
      "cell_type": "code",
      "metadata": {
        "colab": {
          "base_uri": "https://localhost:8080/"
        },
        "id": "aCDjnzeY0wIv",
        "outputId": "ca6ebda5-c627-4785-c2b4-efd929512a87"
      },
      "source": [
        "! git clone https://github.com/sulaimanbehzad/Clustering_according_to_item_popularity.git"
      ],
      "execution_count": null,
      "outputs": [
        {
          "output_type": "stream",
          "text": [
            "Cloning into 'Clustering_according_to_item_popularity'...\n",
            "remote: Enumerating objects: 8, done.\u001b[K\n",
            "remote: Counting objects: 100% (8/8), done.\u001b[K\n",
            "remote: Compressing objects: 100% (7/7), done.\u001b[K\n",
            "remote: Total 8 (delta 1), reused 0 (delta 0), pack-reused 0\u001b[K\n",
            "Unpacking objects: 100% (8/8), done.\n"
          ],
          "name": "stdout"
        }
      ]
    },
    {
      "cell_type": "code",
      "metadata": {
        "colab": {
          "base_uri": "https://localhost:8080/"
        },
        "id": "37LpX0j71-XT",
        "outputId": "bee32731-2c72-4efc-e0a2-a46fd8135e9d"
      },
      "source": [
        "! git status"
      ],
      "execution_count": 24,
      "outputs": [
        {
          "output_type": "stream",
          "text": [
            "On branch main\n",
            "Your branch is up to date with 'origin/main'.\n",
            "\n",
            "Changes to be committed:\n",
            "  (use \"git reset HEAD <file>...\" to unstage)\n",
            "\n",
            "\t\u001b[32mdeleted:    clustring.ipynb\u001b[m\n",
            "\n"
          ],
          "name": "stdout"
        }
      ]
    },
    {
      "cell_type": "code",
      "metadata": {
        "colab": {
          "base_uri": "https://localhost:8080/"
        },
        "id": "zAWgZ0Z32TMz",
        "outputId": "06113163-749b-4e0d-e4e7-b6117f12a6a3"
      },
      "source": [
        "! git pull"
      ],
      "execution_count": 22,
      "outputs": [
        {
          "output_type": "stream",
          "text": [
            "remote: Enumerating objects: 14, done.\u001b[K\n",
            "remote: Counting objects:   7% (1/14)\u001b[K\rremote: Counting objects:  14% (2/14)\u001b[K\rremote: Counting objects:  21% (3/14)\u001b[K\rremote: Counting objects:  28% (4/14)\u001b[K\rremote: Counting objects:  35% (5/14)\u001b[K\rremote: Counting objects:  42% (6/14)\u001b[K\rremote: Counting objects:  50% (7/14)\u001b[K\rremote: Counting objects:  57% (8/14)\u001b[K\rremote: Counting objects:  64% (9/14)\u001b[K\rremote: Counting objects:  71% (10/14)\u001b[K\rremote: Counting objects:  78% (11/14)\u001b[K\rremote: Counting objects:  85% (12/14)\u001b[K\rremote: Counting objects:  92% (13/14)\u001b[K\rremote: Counting objects: 100% (14/14)\u001b[K\rremote: Counting objects: 100% (14/14), done.\u001b[K\n",
            "remote: Compressing objects:   8% (1/12)\u001b[K\rremote: Compressing objects:  16% (2/12)\u001b[K\rremote: Compressing objects:  25% (3/12)\u001b[K\rremote: Compressing objects:  33% (4/12)\u001b[K\rremote: Compressing objects:  41% (5/12)\u001b[K\rremote: Compressing objects:  50% (6/12)\u001b[K\rremote: Compressing objects:  58% (7/12)\u001b[K\rremote: Compressing objects:  66% (8/12)\u001b[K\rremote: Compressing objects:  75% (9/12)\u001b[K\rremote: Compressing objects:  83% (10/12)\u001b[K\rremote: Compressing objects:  91% (11/12)\u001b[K\rremote: Compressing objects: 100% (12/12)\u001b[K\rremote: Compressing objects: 100% (12/12), done.\u001b[K\n",
            "remote: Total 12 (delta 7), reused 0 (delta 0), pack-reused 0\u001b[K\n",
            "Unpacking objects: 100% (12/12), done.\n",
            "From https://github.com/sulaimanbehzad/Clustering_according_to_item_popularity\n",
            "   1f2eeea..6854a3e  main       -> origin/main\n",
            "Updating 1f2eeea..6854a3e\n",
            "Fast-forward\n",
            " clustering.ipynb | 666 \u001b[32m+++++++++++++++++++++++++++++++++++++++++++++++++++++++\u001b[m\n",
            " clustring.ipynb  | 488 \u001b[32m++++++++++++++++++++++++++++++++++++++\u001b[m\u001b[31m--\u001b[m\n",
            " 2 files changed, 1135 insertions(+), 19 deletions(-)\n",
            " create mode 100644 clustering.ipynb\n"
          ],
          "name": "stdout"
        }
      ]
    },
    {
      "cell_type": "code",
      "metadata": {
        "id": "irOD8twMpG7i"
      },
      "source": [
        ""
      ],
      "execution_count": null,
      "outputs": []
    },
    {
      "cell_type": "code",
      "metadata": {
        "id": "6hLvFMCB2Xfx",
        "colab": {
          "base_uri": "https://localhost:8080/"
        },
        "outputId": "c35703c4-cee6-4bb2-cf1c-6d0c0a215b98"
      },
      "source": [
        "! git push -u origin main"
      ],
      "execution_count": 39,
      "outputs": [
        {
          "output_type": "stream",
          "text": [
            "fatal: could not read Username for 'https://github.com': No such device or address\n"
          ],
          "name": "stdout"
        }
      ]
    },
    {
      "cell_type": "code",
      "metadata": {
        "id": "KOgkuMTC2afd",
        "colab": {
          "base_uri": "https://localhost:8080/"
        },
        "outputId": "0bfcb048-f46c-4642-9b5b-0a635f3fc951"
      },
      "source": [
        "! git commit -m 'redundant files removed'"
      ],
      "execution_count": 28,
      "outputs": [
        {
          "output_type": "stream",
          "text": [
            "[main 8780da0] redundant files removed\n",
            " 1 file changed, 666 deletions(-)\n",
            " delete mode 100644 clustring.ipynb\n"
          ],
          "name": "stdout"
        }
      ]
    },
    {
      "cell_type": "markdown",
      "metadata": {
        "id": "2SYdX5hk4A43"
      },
      "source": [
        "### Reading and preprocessing the dataset"
      ]
    },
    {
      "cell_type": "code",
      "metadata": {
        "id": "Wn7RmvfG4PBn"
      },
      "source": [
        "df = pd.read_excel('/content/drive/MyDrive/Clustering_according_to_item_popularity/keifiat.xlsx')"
      ],
      "execution_count": null,
      "outputs": []
    },
    {
      "cell_type": "code",
      "metadata": {
        "id": "WfxDx0mO5Jtg",
        "colab": {
          "base_uri": "https://localhost:8080/",
          "height": 467
        },
        "outputId": "5835b2f7-f24b-477f-94f2-3a934b93279e"
      },
      "source": [
        "df.head()"
      ],
      "execution_count": null,
      "outputs": [
        {
          "output_type": "execute_result",
          "data": {
            "text/html": [
              "<div>\n",
              "<style scoped>\n",
              "    .dataframe tbody tr th:only-of-type {\n",
              "        vertical-align: middle;\n",
              "    }\n",
              "\n",
              "    .dataframe tbody tr th {\n",
              "        vertical-align: top;\n",
              "    }\n",
              "\n",
              "    .dataframe thead th {\n",
              "        text-align: right;\n",
              "    }\n",
              "</style>\n",
              "<table border=\"1\" class=\"dataframe\">\n",
              "  <thead>\n",
              "    <tr style=\"text-align: right;\">\n",
              "      <th></th>\n",
              "      <th>product_id</th>\n",
              "      <th>product_title</th>\n",
              "      <th>title_en</th>\n",
              "      <th>user_id</th>\n",
              "      <th>likes</th>\n",
              "      <th>dislikes</th>\n",
              "      <th>verification_status</th>\n",
              "      <th>recommend</th>\n",
              "      <th>title</th>\n",
              "      <th>comment</th>\n",
              "      <th>advantages</th>\n",
              "      <th>disadvantages</th>\n",
              "    </tr>\n",
              "  </thead>\n",
              "  <tbody>\n",
              "    <tr>\n",
              "      <th>0</th>\n",
              "      <td>3692</td>\n",
              "      <td>ماوس بی‌سیم لاجیتک مدل M325</td>\n",
              "      <td>IT</td>\n",
              "      <td>989472</td>\n",
              "      <td>0</td>\n",
              "      <td>0</td>\n",
              "      <td>verified</td>\n",
              "      <td>\\N</td>\n",
              "      <td>NaN</td>\n",
              "      <td>واقعا عالیه. من که ازش خیلی راضیم</td>\n",
              "      <td>NaN</td>\n",
              "      <td>NaN</td>\n",
              "    </tr>\n",
              "    <tr>\n",
              "      <th>1</th>\n",
              "      <td>90213</td>\n",
              "      <td>شارژر همراه شیاومی مدل NDY-02-AN با ظرفیت 1000...</td>\n",
              "      <td>AC</td>\n",
              "      <td>3862150</td>\n",
              "      <td>4</td>\n",
              "      <td>1</td>\n",
              "      <td>verified</td>\n",
              "      <td>recommended</td>\n",
              "      <td>واقعاً عالیه</td>\n",
              "      <td>سلام، قبل اینکه نظرم رو بگم میخواستم به یک موض...</td>\n",
              "      <td>[\"عمر طولانی\\r\",\"افت بسیار کم میزان شارژ\\r\",\"ا...</td>\n",
              "      <td>[\"ندارد\"]</td>\n",
              "    </tr>\n",
              "    <tr>\n",
              "      <th>2</th>\n",
              "      <td>59473</td>\n",
              "      <td>یدک پولیشر میکروفایبر مهسان مدل 20119</td>\n",
              "      <td>HW</td>\n",
              "      <td>626843</td>\n",
              "      <td>1</td>\n",
              "      <td>0</td>\n",
              "      <td>verified</td>\n",
              "      <td>not_recommended</td>\n",
              "      <td>خیلی سخت حوله اش در میاد</td>\n",
              "      <td>گیره های فلزی خیلی سخت تا میشوند و لذا حوله را...</td>\n",
              "      <td>NaN</td>\n",
              "      <td>NaN</td>\n",
              "    </tr>\n",
              "    <tr>\n",
              "      <th>3</th>\n",
              "      <td>120499</td>\n",
              "      <td>گوشی موبایل هوآوی آنر مدل 5X KIW-L21 دو سیم‌کارت</td>\n",
              "      <td>MO</td>\n",
              "      <td>786887</td>\n",
              "      <td>6</td>\n",
              "      <td>11</td>\n",
              "      <td>verified</td>\n",
              "      <td>no_idea</td>\n",
              "      <td>گوشی مقرون به صرفه</td>\n",
              "      <td>همه چیز در رابطه با ظاهر این گوشی بسیار خوب اس...</td>\n",
              "      <td>[\"صفحه نمایش پرنور و با کیفیت\\r\",\"کیفیت بالای ...</td>\n",
              "      <td>[\"کیفیت پایین اسپیکر\\r\",\"حاشیه خالی زیر صفحه ن...</td>\n",
              "    </tr>\n",
              "    <tr>\n",
              "      <th>4</th>\n",
              "      <td>67200</td>\n",
              "      <td>شارژر همراه شیائومی مدل Mi ظرفیت 5000 میلی آمپ...</td>\n",
              "      <td>AC</td>\n",
              "      <td>854531</td>\n",
              "      <td>19</td>\n",
              "      <td>4</td>\n",
              "      <td>verified</td>\n",
              "      <td>no_idea</td>\n",
              "      <td>ابعاد، استحکام و نگهداری شارژ مناسب</td>\n",
              "      <td>اگر ظرفیتش براتون کافیه حتما بخرید.\\r\\nیه شارژ...</td>\n",
              "      <td>[\"ظریف و زیبا و باریک\\r\",\"بدنه محکم و با دوام\"]</td>\n",
              "      <td>[\"ظرفیت متوسط\"]</td>\n",
              "    </tr>\n",
              "  </tbody>\n",
              "</table>\n",
              "</div>"
            ],
            "text/plain": [
              "   product_id  ...                                      disadvantages\n",
              "0        3692  ...                                                NaN\n",
              "1       90213  ...                                          [\"ندارد\"]\n",
              "2       59473  ...                                                NaN\n",
              "3      120499  ...  [\"کیفیت پایین اسپیکر\\r\",\"حاشیه خالی زیر صفحه ن...\n",
              "4       67200  ...                                    [\"ظرفیت متوسط\"]\n",
              "\n",
              "[5 rows x 12 columns]"
            ]
          },
          "metadata": {
            "tags": []
          },
          "execution_count": 5
        }
      ]
    },
    {
      "cell_type": "code",
      "metadata": {
        "colab": {
          "base_uri": "https://localhost:8080/",
          "height": 300
        },
        "id": "0xhNJq3LB_Ur",
        "outputId": "d9772491-1335-4e87-bebb-a07b3a06036c"
      },
      "source": [
        "df.describe()"
      ],
      "execution_count": null,
      "outputs": [
        {
          "output_type": "execute_result",
          "data": {
            "text/html": [
              "<div>\n",
              "<style scoped>\n",
              "    .dataframe tbody tr th:only-of-type {\n",
              "        vertical-align: middle;\n",
              "    }\n",
              "\n",
              "    .dataframe tbody tr th {\n",
              "        vertical-align: top;\n",
              "    }\n",
              "\n",
              "    .dataframe thead th {\n",
              "        text-align: right;\n",
              "    }\n",
              "</style>\n",
              "<table border=\"1\" class=\"dataframe\">\n",
              "  <thead>\n",
              "    <tr style=\"text-align: right;\">\n",
              "      <th></th>\n",
              "      <th>product_id</th>\n",
              "      <th>user_id</th>\n",
              "      <th>likes</th>\n",
              "      <th>dislikes</th>\n",
              "    </tr>\n",
              "  </thead>\n",
              "  <tbody>\n",
              "    <tr>\n",
              "      <th>count</th>\n",
              "      <td>100000.000000</td>\n",
              "      <td>1.000000e+05</td>\n",
              "      <td>100000.000000</td>\n",
              "      <td>100000.000000</td>\n",
              "    </tr>\n",
              "    <tr>\n",
              "      <th>mean</th>\n",
              "      <td>426482.510140</td>\n",
              "      <td>4.642959e+06</td>\n",
              "      <td>3.114790</td>\n",
              "      <td>1.649460</td>\n",
              "    </tr>\n",
              "    <tr>\n",
              "      <th>std</th>\n",
              "      <td>232470.511159</td>\n",
              "      <td>2.619034e+06</td>\n",
              "      <td>8.050031</td>\n",
              "      <td>8.912705</td>\n",
              "    </tr>\n",
              "    <tr>\n",
              "      <th>min</th>\n",
              "      <td>300.000000</td>\n",
              "      <td>4.661320e+05</td>\n",
              "      <td>0.000000</td>\n",
              "      <td>0.000000</td>\n",
              "    </tr>\n",
              "    <tr>\n",
              "      <th>25%</th>\n",
              "      <td>220871.250000</td>\n",
              "      <td>2.613059e+06</td>\n",
              "      <td>0.000000</td>\n",
              "      <td>0.000000</td>\n",
              "    </tr>\n",
              "    <tr>\n",
              "      <th>50%</th>\n",
              "      <td>427858.000000</td>\n",
              "      <td>4.710290e+06</td>\n",
              "      <td>1.000000</td>\n",
              "      <td>0.000000</td>\n",
              "    </tr>\n",
              "    <tr>\n",
              "      <th>75%</th>\n",
              "      <td>619397.250000</td>\n",
              "      <td>7.094806e+06</td>\n",
              "      <td>4.000000</td>\n",
              "      <td>1.000000</td>\n",
              "    </tr>\n",
              "    <tr>\n",
              "      <th>max</th>\n",
              "      <td>909423.000000</td>\n",
              "      <td>8.623288e+06</td>\n",
              "      <td>854.000000</td>\n",
              "      <td>1344.000000</td>\n",
              "    </tr>\n",
              "  </tbody>\n",
              "</table>\n",
              "</div>"
            ],
            "text/plain": [
              "          product_id       user_id          likes       dislikes\n",
              "count  100000.000000  1.000000e+05  100000.000000  100000.000000\n",
              "mean   426482.510140  4.642959e+06       3.114790       1.649460\n",
              "std    232470.511159  2.619034e+06       8.050031       8.912705\n",
              "min       300.000000  4.661320e+05       0.000000       0.000000\n",
              "25%    220871.250000  2.613059e+06       0.000000       0.000000\n",
              "50%    427858.000000  4.710290e+06       1.000000       0.000000\n",
              "75%    619397.250000  7.094806e+06       4.000000       1.000000\n",
              "max    909423.000000  8.623288e+06     854.000000    1344.000000"
            ]
          },
          "metadata": {
            "tags": []
          },
          "execution_count": 6
        }
      ]
    },
    {
      "cell_type": "markdown",
      "metadata": {
        "id": "zVhO80lXAFiy"
      },
      "source": [
        "Select the attributes that will give information about the popularity of the item"
      ]
    },
    {
      "cell_type": "code",
      "metadata": {
        "id": "6E1StDcrArEj"
      },
      "source": [
        "df1 = df[['product_id', 'likes', 'dislikes','comment', 'recommend']]"
      ],
      "execution_count": null,
      "outputs": []
    },
    {
      "cell_type": "markdown",
      "metadata": {
        "id": "IyiMJvenCumt"
      },
      "source": [
        "Check the dataframe for null values and handle them"
      ]
    },
    {
      "cell_type": "code",
      "metadata": {
        "colab": {
          "base_uri": "https://localhost:8080/"
        },
        "id": "1vEzY81aCQ89",
        "outputId": "1f5b4814-023c-486a-bac3-020fdd599b89"
      },
      "source": [
        "df1.info()"
      ],
      "execution_count": null,
      "outputs": [
        {
          "output_type": "stream",
          "text": [
            "<class 'pandas.core.frame.DataFrame'>\n",
            "RangeIndex: 100000 entries, 0 to 99999\n",
            "Data columns (total 5 columns):\n",
            " #   Column      Non-Null Count   Dtype \n",
            "---  ------      --------------   ----- \n",
            " 0   product_id  100000 non-null  int64 \n",
            " 1   likes       100000 non-null  int64 \n",
            " 2   dislikes    100000 non-null  int64 \n",
            " 3   comment     99883 non-null   object\n",
            " 4   recommend   100000 non-null  object\n",
            "dtypes: int64(3), object(2)\n",
            "memory usage: 3.8+ MB\n"
          ],
          "name": "stdout"
        }
      ]
    },
    {
      "cell_type": "code",
      "metadata": {
        "colab": {
          "base_uri": "https://localhost:8080/"
        },
        "id": "6fKohSogEJs8",
        "outputId": "03422bd5-1232-475f-e5c7-43fd1d540120"
      },
      "source": [
        "df1.isnull().sum()"
      ],
      "execution_count": null,
      "outputs": [
        {
          "output_type": "execute_result",
          "data": {
            "text/plain": [
              "product_id      0\n",
              "likes           0\n",
              "dislikes        0\n",
              "comment       117\n",
              "recommend       0\n",
              "dtype: int64"
            ]
          },
          "metadata": {
            "tags": []
          },
          "execution_count": 15
        }
      ]
    },
    {
      "cell_type": "markdown",
      "metadata": {
        "id": "ZHF0f1OMFSOJ"
      },
      "source": [
        "looking at the database 'recommend' we can see that \\N values also represent null values which wouldn't be considered in the above"
      ]
    },
    {
      "cell_type": "code",
      "metadata": {
        "colab": {
          "base_uri": "https://localhost:8080/"
        },
        "id": "_eF9GFiGFmge",
        "outputId": "03588912-65c6-4ba1-ca00-5be694f267ed"
      },
      "source": [
        "df1['recommend'].value_counts()"
      ],
      "execution_count": null,
      "outputs": [
        {
          "output_type": "execute_result",
          "data": {
            "text/plain": [
              "recommended        36972\n",
              "\\N                 36382\n",
              "not_recommended    16110\n",
              "no_idea            10536\n",
              "Name: recommend, dtype: int64"
            ]
          },
          "metadata": {
            "tags": []
          },
          "execution_count": 18
        }
      ]
    },
    {
      "cell_type": "markdown",
      "metadata": {
        "id": "lEix1a8AF7m0"
      },
      "source": [
        "we can see that beside the 117 missing values we have 36382 records with \\N values  \r\n",
        "now we understand tha \\N too should be considered as missing value\r\n"
      ]
    },
    {
      "cell_type": "code",
      "metadata": {
        "id": "3lq8cNtTT8tw"
      },
      "source": [
        "missing_values = [\"\\\\N\", \"na\", \"--\", \"NA\", \"n/a\"]\r\n",
        "df = pd.read_excel('/content/drive/MyDrive/Clustering_according_to_item_popularity/keifiat.xlsx', na_values = missing_values)\r\n",
        "df1 = df[['product_id', 'likes', 'dislikes','comment', 'recommend']]\r\n"
      ],
      "execution_count": 41,
      "outputs": []
    },
    {
      "cell_type": "markdown",
      "metadata": {
        "id": "CsxF1DWT1tQr"
      },
      "source": [
        "after importing database with newly found aspects on NA we are going to handle null values"
      ]
    },
    {
      "cell_type": "code",
      "metadata": {
        "colab": {
          "base_uri": "https://localhost:8080/"
        },
        "id": "GZ5e6Rl61_be",
        "outputId": "fc738c42-348b-4485-f0bc-3eda22f541a7"
      },
      "source": [
        "df1.isnull().sum()"
      ],
      "execution_count": 54,
      "outputs": [
        {
          "output_type": "execute_result",
          "data": {
            "text/plain": [
              "product_id        0\n",
              "likes             0\n",
              "dislikes          0\n",
              "comment         118\n",
              "recommend     36382\n",
              "dtype: int64"
            ]
          },
          "metadata": {
            "tags": []
          },
          "execution_count": 54
        }
      ]
    },
    {
      "cell_type": "code",
      "metadata": {
        "colab": {
          "base_uri": "https://localhost:8080/"
        },
        "id": "uF_6eOxQ2Fin",
        "outputId": "ffbcf1f8-0791-4acd-b2cc-6497a9eba3ef"
      },
      "source": [
        "df1['recommend'].value_counts()"
      ],
      "execution_count": 53,
      "outputs": [
        {
          "output_type": "execute_result",
          "data": {
            "text/plain": [
              "recommended        36972\n",
              "not_recommended    16110\n",
              "no_idea            10536\n",
              "Name: recommend, dtype: int64"
            ]
          },
          "metadata": {
            "tags": []
          },
          "execution_count": 53
        }
      ]
    },
    {
      "cell_type": "code",
      "metadata": {
        "colab": {
          "base_uri": "https://localhost:8080/"
        },
        "id": "tYOY7txj2YVE",
        "outputId": "70315a13-5196-4a1a-815b-703fd6d2fd9c"
      },
      "source": [
        "most_common = df1[\"recommend\"].value_counts().idxmax\r\n",
        "# df1['recommend'].fillna(median, inplace=True)\r\n",
        "most_common"
      ],
      "execution_count": 48,
      "outputs": [
        {
          "output_type": "execute_result",
          "data": {
            "text/plain": [
              "<bound method Series.idxmax of recommended        36972\n",
              "not_recommended    16110\n",
              "no_idea            10536\n",
              "Name: recommend, dtype: int64>"
            ]
          },
          "metadata": {
            "tags": []
          },
          "execution_count": 48
        }
      ]
    },
    {
      "cell_type": "markdown",
      "metadata": {
        "id": "abP45dpl3EYI"
      },
      "source": [
        "replacing the null values with one of the above would falsely impact the clustering so let's take another approach:  \r\n",
        "1. use group by to obtain groups of products with the same product_id\r\n",
        "2. assign the group most_common value to the null ones"
      ]
    },
    {
      "cell_type": "code",
      "metadata": {
        "colab": {
          "base_uri": "https://localhost:8080/",
          "height": 424
        },
        "id": "KFy-crzh9bdE",
        "outputId": "3f2702f3-aca1-4121-efd0-492509d08297"
      },
      "source": [
        " groups = pd.concat(g for _, g in df1.groupby(\"product_id\") if len(g) > 1)\r\n",
        " groups"
      ],
      "execution_count": 58,
      "outputs": [
        {
          "output_type": "execute_result",
          "data": {
            "text/html": [
              "<div>\n",
              "<style scoped>\n",
              "    .dataframe tbody tr th:only-of-type {\n",
              "        vertical-align: middle;\n",
              "    }\n",
              "\n",
              "    .dataframe tbody tr th {\n",
              "        vertical-align: top;\n",
              "    }\n",
              "\n",
              "    .dataframe thead th {\n",
              "        text-align: right;\n",
              "    }\n",
              "</style>\n",
              "<table border=\"1\" class=\"dataframe\">\n",
              "  <thead>\n",
              "    <tr style=\"text-align: right;\">\n",
              "      <th></th>\n",
              "      <th>product_id</th>\n",
              "      <th>likes</th>\n",
              "      <th>dislikes</th>\n",
              "      <th>comment</th>\n",
              "      <th>recommend</th>\n",
              "    </tr>\n",
              "  </thead>\n",
              "  <tbody>\n",
              "    <tr>\n",
              "      <th>35476</th>\n",
              "      <td>300</td>\n",
              "      <td>1</td>\n",
              "      <td>0</td>\n",
              "      <td>راستش رو بخواین وقتی رفتم کارتریجش زرو شارژ کن...</td>\n",
              "      <td>NaN</td>\n",
              "    </tr>\n",
              "    <tr>\n",
              "      <th>36899</th>\n",
              "      <td>300</td>\n",
              "      <td>0</td>\n",
              "      <td>1</td>\n",
              "      <td>برای کارهای اداری عالیه و به درد اونایی که زیا...</td>\n",
              "      <td>NaN</td>\n",
              "    </tr>\n",
              "    <tr>\n",
              "      <th>53425</th>\n",
              "      <td>300</td>\n",
              "      <td>1</td>\n",
              "      <td>0</td>\n",
              "      <td>حرف نداره برای کارای سنگین محشره</td>\n",
              "      <td>NaN</td>\n",
              "    </tr>\n",
              "    <tr>\n",
              "      <th>68494</th>\n",
              "      <td>300</td>\n",
              "      <td>1</td>\n",
              "      <td>0</td>\n",
              "      <td>بهترین پرینتری که تا به حال استفاده کردم\\r\\nکم...</td>\n",
              "      <td>NaN</td>\n",
              "    </tr>\n",
              "    <tr>\n",
              "      <th>76639</th>\n",
              "      <td>300</td>\n",
              "      <td>1</td>\n",
              "      <td>0</td>\n",
              "      <td>فوق العادس\\r\\nتنها ایرادش نداشتن wifi هست</td>\n",
              "      <td>NaN</td>\n",
              "    </tr>\n",
              "    <tr>\n",
              "      <th>...</th>\n",
              "      <td>...</td>\n",
              "      <td>...</td>\n",
              "      <td>...</td>\n",
              "      <td>...</td>\n",
              "      <td>...</td>\n",
              "    </tr>\n",
              "    <tr>\n",
              "      <th>97319</th>\n",
              "      <td>903494</td>\n",
              "      <td>1</td>\n",
              "      <td>1</td>\n",
              "      <td>واقعا نیم بوت محکمی هست و از کیفیت خیلی خوبی ب...</td>\n",
              "      <td>NaN</td>\n",
              "    </tr>\n",
              "    <tr>\n",
              "      <th>97347</th>\n",
              "      <td>903494</td>\n",
              "      <td>1</td>\n",
              "      <td>1</td>\n",
              "      <td>از لحاظ کیفیت ساخت هم خیلی خوبه و هم با دوام</td>\n",
              "      <td>NaN</td>\n",
              "    </tr>\n",
              "    <tr>\n",
              "      <th>97294</th>\n",
              "      <td>903513</td>\n",
              "      <td>3</td>\n",
              "      <td>1</td>\n",
              "      <td>خیلی راحته و جنس خیلی خوبی داره</td>\n",
              "      <td>NaN</td>\n",
              "    </tr>\n",
              "    <tr>\n",
              "      <th>97308</th>\n",
              "      <td>903513</td>\n",
              "      <td>3</td>\n",
              "      <td>2</td>\n",
              "      <td>در یک کلام بسیار بوت قشنگی هست و خیلی کیفیت خو...</td>\n",
              "      <td>NaN</td>\n",
              "    </tr>\n",
              "    <tr>\n",
              "      <th>97322</th>\n",
              "      <td>903513</td>\n",
              "      <td>3</td>\n",
              "      <td>2</td>\n",
              "      <td>بسیار بوت خوبی هستش هم از نظر طراحی و هم کیفیت...</td>\n",
              "      <td>NaN</td>\n",
              "    </tr>\n",
              "  </tbody>\n",
              "</table>\n",
              "<p>66059 rows × 5 columns</p>\n",
              "</div>"
            ],
            "text/plain": [
              "       product_id  ...  recommend\n",
              "35476         300  ...        NaN\n",
              "36899         300  ...        NaN\n",
              "53425         300  ...        NaN\n",
              "68494         300  ...        NaN\n",
              "76639         300  ...        NaN\n",
              "...           ...  ...        ...\n",
              "97319      903494  ...        NaN\n",
              "97347      903494  ...        NaN\n",
              "97294      903513  ...        NaN\n",
              "97308      903513  ...        NaN\n",
              "97322      903513  ...        NaN\n",
              "\n",
              "[66059 rows x 5 columns]"
            ]
          },
          "metadata": {
            "tags": []
          },
          "execution_count": 58
        }
      ]
    },
    {
      "cell_type": "code",
      "metadata": {
        "colab": {
          "base_uri": "https://localhost:8080/"
        },
        "id": "BVtdd8Bq-q9p",
        "outputId": "738473b1-c95f-43a8-b879-d8ebb44651a3"
      },
      "source": [
        "for item in groups:\r\n",
        "  print(str(item) + str(type(item)))\r\n",
        "\r\n"
      ],
      "execution_count": 69,
      "outputs": [
        {
          "output_type": "stream",
          "text": [
            "product_id<class 'str'>\n",
            "likes<class 'str'>\n",
            "dislikes<class 'str'>\n",
            "comment<class 'str'>\n",
            "recommend<class 'str'>\n"
          ],
          "name": "stdout"
        }
      ]
    }
  ]
}