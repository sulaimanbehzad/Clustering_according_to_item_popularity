{
  "nbformat": 4,
  "nbformat_minor": 0,
  "metadata": {
    "colab": {
      "name": "clustering.ipynb",
      "provenance": [],
      "collapsed_sections": [],
      "mount_file_id": "1XeKp3FTibxDGrDNZAZqz7Tj_RA7p2Y1P",
      "authorship_tag": "ABX9TyORfw+8FL8BHMcaz2TPgp5Z",
      "include_colab_link": true
    },
    "kernelspec": {
      "name": "python3",
      "display_name": "Python 3"
    }
  },
  "cells": [
    {
      "cell_type": "markdown",
      "metadata": {
        "id": "view-in-github",
        "colab_type": "text"
      },
      "source": [
        "<a href=\"https://colab.research.google.com/github/sulaimanbehzad/Clustering_according_to_item_popularity/blob/main/clustering.ipynb\" target=\"_parent\"><img src=\"https://colab.research.google.com/assets/colab-badge.svg\" alt=\"Open In Colab\"/></a>"
      ]
    },
    {
      "cell_type": "markdown",
      "metadata": {
        "id": "YicdgDXywbh4"
      },
      "source": [
        "# Clustering of Digikala dataset based on items popularity  \r\n"
      ]
    },
    {
      "cell_type": "code",
      "metadata": {
        "id": "B9Bl0RWIwQd1"
      },
      "source": [
        "import pandas as pd\r\n",
        "import numpy as np\r\n",
        "import matplotlib.pyplot as plt\r\n",
        "from sklearn.preprocessing import LabelEncoder, normalize"
      ],
      "execution_count": 43,
      "outputs": []
    },
    {
      "cell_type": "markdown",
      "metadata": {
        "id": "hXC08ur6xq4r"
      },
      "source": [
        "### Cloning the github repository in colab"
      ]
    },
    {
      "cell_type": "code",
      "metadata": {
        "colab": {
          "base_uri": "https://localhost:8080/"
        },
        "id": "oBYKpZUHx4UR",
        "outputId": "5efbc9ec-4460-4c00-d4b2-636369ab7f9c"
      },
      "source": [
        "% cd /content/drive/MyDrive/Clustering_according_to_item_popularity/\r\n"
      ],
      "execution_count": 44,
      "outputs": [
        {
          "output_type": "stream",
          "text": [
            "/content/drive/MyDrive/Clustering_according_to_item_popularity\n"
          ],
          "name": "stdout"
        }
      ]
    },
    {
      "cell_type": "code",
      "metadata": {
        "id": "kIX5wgxF0HNT"
      },
      "source": [
        "# ! ls"
      ],
      "execution_count": 45,
      "outputs": []
    },
    {
      "cell_type": "code",
      "metadata": {
        "id": "aCDjnzeY0wIv"
      },
      "source": [
        "# ! git clone https://github.com/sulaimanbehzad/Clustering_according_to_item_popularity.git"
      ],
      "execution_count": 46,
      "outputs": []
    },
    {
      "cell_type": "code",
      "metadata": {
        "colab": {
          "base_uri": "https://localhost:8080/"
        },
        "id": "37LpX0j71-XT",
        "outputId": "cc054e55-ce31-4dd6-b794-8500ad7dff9b"
      },
      "source": [
        "! git status"
      ],
      "execution_count": 47,
      "outputs": [
        {
          "output_type": "stream",
          "text": [
            "On branch main\n",
            "Your branch is ahead of 'origin/main' by 2 commits.\n",
            "  (use \"git push\" to publish your local commits)\n",
            "\n",
            "Untracked files:\n",
            "  (use \"git add <file>...\" to include in what will be committed)\n",
            "\n",
            "\t\u001b[31mClustering_according_to_item_popularity/\u001b[m\n",
            "\n",
            "nothing added to commit but untracked files present (use \"git add\" to track)\n"
          ],
          "name": "stdout"
        }
      ]
    },
    {
      "cell_type": "code",
      "metadata": {
        "colab": {
          "base_uri": "https://localhost:8080/"
        },
        "id": "zAWgZ0Z32TMz",
        "outputId": "1cd0c857-c71c-4a71-ceb6-9b2c9736e9cd"
      },
      "source": [
        "! git pull"
      ],
      "execution_count": 48,
      "outputs": [
        {
          "output_type": "stream",
          "text": [
            "Already up to date.\n"
          ],
          "name": "stdout"
        }
      ]
    },
    {
      "cell_type": "code",
      "metadata": {
        "id": "irOD8twMpG7i"
      },
      "source": [
        ""
      ],
      "execution_count": 48,
      "outputs": []
    },
    {
      "cell_type": "code",
      "metadata": {
        "id": "6hLvFMCB2Xfx"
      },
      "source": [
        "# ! git push -u origin main"
      ],
      "execution_count": 49,
      "outputs": []
    },
    {
      "cell_type": "code",
      "metadata": {
        "id": "KOgkuMTC2afd"
      },
      "source": [
        "# ! git commit -m 'redundant files removed'"
      ],
      "execution_count": 50,
      "outputs": []
    },
    {
      "cell_type": "markdown",
      "metadata": {
        "id": "2SYdX5hk4A43"
      },
      "source": [
        "### Reading and preprocessing the dataset"
      ]
    },
    {
      "cell_type": "code",
      "metadata": {
        "id": "Wn7RmvfG4PBn"
      },
      "source": [
        "df = pd.read_excel('/content/drive/MyDrive/Clustering_according_to_item_popularity/keifiat.xlsx')"
      ],
      "execution_count": 51,
      "outputs": []
    },
    {
      "cell_type": "code",
      "metadata": {
        "id": "WfxDx0mO5Jtg",
        "colab": {
          "base_uri": "https://localhost:8080/",
          "height": 467
        },
        "outputId": "8c6bf0d3-9651-4e65-f1b4-81d684577605"
      },
      "source": [
        "df.head()"
      ],
      "execution_count": 52,
      "outputs": [
        {
          "output_type": "execute_result",
          "data": {
            "text/html": [
              "<div>\n",
              "<style scoped>\n",
              "    .dataframe tbody tr th:only-of-type {\n",
              "        vertical-align: middle;\n",
              "    }\n",
              "\n",
              "    .dataframe tbody tr th {\n",
              "        vertical-align: top;\n",
              "    }\n",
              "\n",
              "    .dataframe thead th {\n",
              "        text-align: right;\n",
              "    }\n",
              "</style>\n",
              "<table border=\"1\" class=\"dataframe\">\n",
              "  <thead>\n",
              "    <tr style=\"text-align: right;\">\n",
              "      <th></th>\n",
              "      <th>product_id</th>\n",
              "      <th>product_title</th>\n",
              "      <th>title_en</th>\n",
              "      <th>user_id</th>\n",
              "      <th>likes</th>\n",
              "      <th>dislikes</th>\n",
              "      <th>verification_status</th>\n",
              "      <th>recommend</th>\n",
              "      <th>title</th>\n",
              "      <th>comment</th>\n",
              "      <th>advantages</th>\n",
              "      <th>disadvantages</th>\n",
              "    </tr>\n",
              "  </thead>\n",
              "  <tbody>\n",
              "    <tr>\n",
              "      <th>0</th>\n",
              "      <td>3692</td>\n",
              "      <td>ماوس بی‌سیم لاجیتک مدل M325</td>\n",
              "      <td>IT</td>\n",
              "      <td>989472</td>\n",
              "      <td>0</td>\n",
              "      <td>0</td>\n",
              "      <td>verified</td>\n",
              "      <td>\\N</td>\n",
              "      <td>NaN</td>\n",
              "      <td>واقعا عالیه. من که ازش خیلی راضیم</td>\n",
              "      <td>NaN</td>\n",
              "      <td>NaN</td>\n",
              "    </tr>\n",
              "    <tr>\n",
              "      <th>1</th>\n",
              "      <td>90213</td>\n",
              "      <td>شارژر همراه شیاومی مدل NDY-02-AN با ظرفیت 1000...</td>\n",
              "      <td>AC</td>\n",
              "      <td>3862150</td>\n",
              "      <td>4</td>\n",
              "      <td>1</td>\n",
              "      <td>verified</td>\n",
              "      <td>recommended</td>\n",
              "      <td>واقعاً عالیه</td>\n",
              "      <td>سلام، قبل اینکه نظرم رو بگم میخواستم به یک موض...</td>\n",
              "      <td>[\"عمر طولانی\\r\",\"افت بسیار کم میزان شارژ\\r\",\"ا...</td>\n",
              "      <td>[\"ندارد\"]</td>\n",
              "    </tr>\n",
              "    <tr>\n",
              "      <th>2</th>\n",
              "      <td>59473</td>\n",
              "      <td>یدک پولیشر میکروفایبر مهسان مدل 20119</td>\n",
              "      <td>HW</td>\n",
              "      <td>626843</td>\n",
              "      <td>1</td>\n",
              "      <td>0</td>\n",
              "      <td>verified</td>\n",
              "      <td>not_recommended</td>\n",
              "      <td>خیلی سخت حوله اش در میاد</td>\n",
              "      <td>گیره های فلزی خیلی سخت تا میشوند و لذا حوله را...</td>\n",
              "      <td>NaN</td>\n",
              "      <td>NaN</td>\n",
              "    </tr>\n",
              "    <tr>\n",
              "      <th>3</th>\n",
              "      <td>120499</td>\n",
              "      <td>گوشی موبایل هوآوی آنر مدل 5X KIW-L21 دو سیم‌کارت</td>\n",
              "      <td>MO</td>\n",
              "      <td>786887</td>\n",
              "      <td>6</td>\n",
              "      <td>11</td>\n",
              "      <td>verified</td>\n",
              "      <td>no_idea</td>\n",
              "      <td>گوشی مقرون به صرفه</td>\n",
              "      <td>همه چیز در رابطه با ظاهر این گوشی بسیار خوب اس...</td>\n",
              "      <td>[\"صفحه نمایش پرنور و با کیفیت\\r\",\"کیفیت بالای ...</td>\n",
              "      <td>[\"کیفیت پایین اسپیکر\\r\",\"حاشیه خالی زیر صفحه ن...</td>\n",
              "    </tr>\n",
              "    <tr>\n",
              "      <th>4</th>\n",
              "      <td>67200</td>\n",
              "      <td>شارژر همراه شیائومی مدل Mi ظرفیت 5000 میلی آمپ...</td>\n",
              "      <td>AC</td>\n",
              "      <td>854531</td>\n",
              "      <td>19</td>\n",
              "      <td>4</td>\n",
              "      <td>verified</td>\n",
              "      <td>no_idea</td>\n",
              "      <td>ابعاد، استحکام و نگهداری شارژ مناسب</td>\n",
              "      <td>اگر ظرفیتش براتون کافیه حتما بخرید.\\r\\nیه شارژ...</td>\n",
              "      <td>[\"ظریف و زیبا و باریک\\r\",\"بدنه محکم و با دوام\"]</td>\n",
              "      <td>[\"ظرفیت متوسط\"]</td>\n",
              "    </tr>\n",
              "  </tbody>\n",
              "</table>\n",
              "</div>"
            ],
            "text/plain": [
              "   product_id  ...                                      disadvantages\n",
              "0        3692  ...                                                NaN\n",
              "1       90213  ...                                          [\"ندارد\"]\n",
              "2       59473  ...                                                NaN\n",
              "3      120499  ...  [\"کیفیت پایین اسپیکر\\r\",\"حاشیه خالی زیر صفحه ن...\n",
              "4       67200  ...                                    [\"ظرفیت متوسط\"]\n",
              "\n",
              "[5 rows x 12 columns]"
            ]
          },
          "metadata": {
            "tags": []
          },
          "execution_count": 52
        }
      ]
    },
    {
      "cell_type": "code",
      "metadata": {
        "colab": {
          "base_uri": "https://localhost:8080/",
          "height": 300
        },
        "id": "0xhNJq3LB_Ur",
        "outputId": "0d14c896-102c-4a94-ee42-c497a9aa7002"
      },
      "source": [
        "df.describe()"
      ],
      "execution_count": 53,
      "outputs": [
        {
          "output_type": "execute_result",
          "data": {
            "text/html": [
              "<div>\n",
              "<style scoped>\n",
              "    .dataframe tbody tr th:only-of-type {\n",
              "        vertical-align: middle;\n",
              "    }\n",
              "\n",
              "    .dataframe tbody tr th {\n",
              "        vertical-align: top;\n",
              "    }\n",
              "\n",
              "    .dataframe thead th {\n",
              "        text-align: right;\n",
              "    }\n",
              "</style>\n",
              "<table border=\"1\" class=\"dataframe\">\n",
              "  <thead>\n",
              "    <tr style=\"text-align: right;\">\n",
              "      <th></th>\n",
              "      <th>product_id</th>\n",
              "      <th>user_id</th>\n",
              "      <th>likes</th>\n",
              "      <th>dislikes</th>\n",
              "    </tr>\n",
              "  </thead>\n",
              "  <tbody>\n",
              "    <tr>\n",
              "      <th>count</th>\n",
              "      <td>100000.000000</td>\n",
              "      <td>1.000000e+05</td>\n",
              "      <td>100000.000000</td>\n",
              "      <td>100000.000000</td>\n",
              "    </tr>\n",
              "    <tr>\n",
              "      <th>mean</th>\n",
              "      <td>426482.510140</td>\n",
              "      <td>4.642959e+06</td>\n",
              "      <td>3.114790</td>\n",
              "      <td>1.649460</td>\n",
              "    </tr>\n",
              "    <tr>\n",
              "      <th>std</th>\n",
              "      <td>232470.511159</td>\n",
              "      <td>2.619034e+06</td>\n",
              "      <td>8.050031</td>\n",
              "      <td>8.912705</td>\n",
              "    </tr>\n",
              "    <tr>\n",
              "      <th>min</th>\n",
              "      <td>300.000000</td>\n",
              "      <td>4.661320e+05</td>\n",
              "      <td>0.000000</td>\n",
              "      <td>0.000000</td>\n",
              "    </tr>\n",
              "    <tr>\n",
              "      <th>25%</th>\n",
              "      <td>220871.250000</td>\n",
              "      <td>2.613059e+06</td>\n",
              "      <td>0.000000</td>\n",
              "      <td>0.000000</td>\n",
              "    </tr>\n",
              "    <tr>\n",
              "      <th>50%</th>\n",
              "      <td>427858.000000</td>\n",
              "      <td>4.710290e+06</td>\n",
              "      <td>1.000000</td>\n",
              "      <td>0.000000</td>\n",
              "    </tr>\n",
              "    <tr>\n",
              "      <th>75%</th>\n",
              "      <td>619397.250000</td>\n",
              "      <td>7.094806e+06</td>\n",
              "      <td>4.000000</td>\n",
              "      <td>1.000000</td>\n",
              "    </tr>\n",
              "    <tr>\n",
              "      <th>max</th>\n",
              "      <td>909423.000000</td>\n",
              "      <td>8.623288e+06</td>\n",
              "      <td>854.000000</td>\n",
              "      <td>1344.000000</td>\n",
              "    </tr>\n",
              "  </tbody>\n",
              "</table>\n",
              "</div>"
            ],
            "text/plain": [
              "          product_id       user_id          likes       dislikes\n",
              "count  100000.000000  1.000000e+05  100000.000000  100000.000000\n",
              "mean   426482.510140  4.642959e+06       3.114790       1.649460\n",
              "std    232470.511159  2.619034e+06       8.050031       8.912705\n",
              "min       300.000000  4.661320e+05       0.000000       0.000000\n",
              "25%    220871.250000  2.613059e+06       0.000000       0.000000\n",
              "50%    427858.000000  4.710290e+06       1.000000       0.000000\n",
              "75%    619397.250000  7.094806e+06       4.000000       1.000000\n",
              "max    909423.000000  8.623288e+06     854.000000    1344.000000"
            ]
          },
          "metadata": {
            "tags": []
          },
          "execution_count": 53
        }
      ]
    },
    {
      "cell_type": "markdown",
      "metadata": {
        "id": "zVhO80lXAFiy"
      },
      "source": [
        "Select the attributes that will give information about the popularity of the item"
      ]
    },
    {
      "cell_type": "code",
      "metadata": {
        "id": "6E1StDcrArEj"
      },
      "source": [
        "df1 = df[['product_id', 'likes', 'dislikes','comment', 'recommend']]"
      ],
      "execution_count": 54,
      "outputs": []
    },
    {
      "cell_type": "markdown",
      "metadata": {
        "id": "IyiMJvenCumt"
      },
      "source": [
        "Check the dataframe for null values and handle them"
      ]
    },
    {
      "cell_type": "code",
      "metadata": {
        "colab": {
          "base_uri": "https://localhost:8080/"
        },
        "id": "1vEzY81aCQ89",
        "outputId": "f3ead8aa-b7d6-44b1-84b1-c37cf259056d"
      },
      "source": [
        "df1.info()"
      ],
      "execution_count": 55,
      "outputs": [
        {
          "output_type": "stream",
          "text": [
            "<class 'pandas.core.frame.DataFrame'>\n",
            "RangeIndex: 100000 entries, 0 to 99999\n",
            "Data columns (total 5 columns):\n",
            " #   Column      Non-Null Count   Dtype \n",
            "---  ------      --------------   ----- \n",
            " 0   product_id  100000 non-null  int64 \n",
            " 1   likes       100000 non-null  int64 \n",
            " 2   dislikes    100000 non-null  int64 \n",
            " 3   comment     99883 non-null   object\n",
            " 4   recommend   100000 non-null  object\n",
            "dtypes: int64(3), object(2)\n",
            "memory usage: 3.8+ MB\n"
          ],
          "name": "stdout"
        }
      ]
    },
    {
      "cell_type": "code",
      "metadata": {
        "colab": {
          "base_uri": "https://localhost:8080/"
        },
        "id": "6fKohSogEJs8",
        "outputId": "4211c959-2225-495b-f886-92cefb3bc015"
      },
      "source": [
        "df1.isnull().sum()"
      ],
      "execution_count": 56,
      "outputs": [
        {
          "output_type": "execute_result",
          "data": {
            "text/plain": [
              "product_id      0\n",
              "likes           0\n",
              "dislikes        0\n",
              "comment       117\n",
              "recommend       0\n",
              "dtype: int64"
            ]
          },
          "metadata": {
            "tags": []
          },
          "execution_count": 56
        }
      ]
    },
    {
      "cell_type": "markdown",
      "metadata": {
        "id": "ZHF0f1OMFSOJ"
      },
      "source": [
        "looking at the database 'recommend' we can see that \\N values also represent null values which wouldn't be considered in the above"
      ]
    },
    {
      "cell_type": "code",
      "metadata": {
        "colab": {
          "base_uri": "https://localhost:8080/"
        },
        "id": "_eF9GFiGFmge",
        "outputId": "5f5917d1-597c-4db4-e024-a246c89a5b24"
      },
      "source": [
        "df1['recommend'].value_counts()"
      ],
      "execution_count": 57,
      "outputs": [
        {
          "output_type": "execute_result",
          "data": {
            "text/plain": [
              "recommended        36972\n",
              "\\N                 36382\n",
              "not_recommended    16110\n",
              "no_idea            10536\n",
              "Name: recommend, dtype: int64"
            ]
          },
          "metadata": {
            "tags": []
          },
          "execution_count": 57
        }
      ]
    },
    {
      "cell_type": "markdown",
      "metadata": {
        "id": "lEix1a8AF7m0"
      },
      "source": [
        "we can see that beside the 117 missing values we have 36382 records with \\N values  \r\n",
        "now we understand tha \\N too should be considered as missing value\r\n"
      ]
    },
    {
      "cell_type": "code",
      "metadata": {
        "id": "3lq8cNtTT8tw"
      },
      "source": [
        "missing_values = [\"\\\\N\", \"na\", \"--\", \"NA\", \"n/a\"]\r\n",
        "df = pd.read_excel('/content/drive/MyDrive/Clustering_according_to_item_popularity/keifiat.xlsx', na_values = missing_values)\r\n",
        "df1 = df[['product_id', 'likes', 'dislikes','comment', 'recommend']]\r\n"
      ],
      "execution_count": null,
      "outputs": []
    },
    {
      "cell_type": "markdown",
      "metadata": {
        "id": "CsxF1DWT1tQr"
      },
      "source": [
        "after importing database with newly found aspects on NA we are going to handle null values"
      ]
    },
    {
      "cell_type": "code",
      "metadata": {
        "id": "GZ5e6Rl61_be"
      },
      "source": [
        "df1.isnull().sum()"
      ],
      "execution_count": null,
      "outputs": []
    },
    {
      "cell_type": "code",
      "metadata": {
        "id": "uF_6eOxQ2Fin"
      },
      "source": [
        "df1['recommend'].value_counts()"
      ],
      "execution_count": null,
      "outputs": []
    },
    {
      "cell_type": "code",
      "metadata": {
        "id": "tYOY7txj2YVE"
      },
      "source": [
        "most_common = df1[\"recommend\"].value_counts().idxmax\r\n",
        "# df1['recommend'].fillna(median, inplace=True)\r\n",
        "most_common"
      ],
      "execution_count": null,
      "outputs": []
    },
    {
      "cell_type": "markdown",
      "metadata": {
        "id": "abP45dpl3EYI"
      },
      "source": [
        "replacing the null values with one of the above would falsely impact the clustering so let's take another approach:  \r\n",
        "1. use interpolation to find values\r\n",
        "2. fill with mean/median\r\n",
        "\r\n",
        "in order to use interpolation let us first use label encoder to obtain numerical values"
      ]
    },
    {
      "cell_type": "code",
      "metadata": {
        "id": "I89opnq1HU_e"
      },
      "source": [
        "df1['recommend'].fillna(value='null_values', inplace=True)\r\n",
        "df1.isnull().sum()"
      ],
      "execution_count": null,
      "outputs": []
    },
    {
      "cell_type": "code",
      "metadata": {
        "id": "KFy-crzh9bdE"
      },
      "source": [
        "le = LabelEncoder()\r\n",
        "le.fit(df1['recommend'])\r\n",
        "le.classes_"
      ],
      "execution_count": null,
      "outputs": []
    },
    {
      "cell_type": "code",
      "metadata": {
        "id": "-NMpJuu7IDr1"
      },
      "source": [
        "recomm_trans = le.transform(df1['recommend'])\r\n",
        "recomm_trans"
      ],
      "execution_count": null,
      "outputs": []
    },
    {
      "cell_type": "code",
      "metadata": {
        "id": "ZyW6dB21Ibfk"
      },
      "source": [
        "df1['recommend'] = recomm_trans"
      ],
      "execution_count": null,
      "outputs": []
    },
    {
      "cell_type": "code",
      "metadata": {
        "id": "BVtdd8Bq-q9p",
        "collapsed": true
      },
      "source": [
        "df1[['recommend']]"
      ],
      "execution_count": null,
      "outputs": []
    },
    {
      "cell_type": "code",
      "metadata": {
        "id": "Y8akRRiNJSmS"
      },
      "source": [
        "df1['recommend'] = df['recommend'].replace(2,np.nan)\r\n",
        "df1['recommend']"
      ],
      "execution_count": null,
      "outputs": []
    },
    {
      "cell_type": "code",
      "metadata": {
        "id": "WmK5cvRiNcEH"
      },
      "source": [
        "df_filled = df1.interpolate(method='linear', axis=1)"
      ],
      "execution_count": null,
      "outputs": []
    },
    {
      "cell_type": "code",
      "metadata": {
        "id": "toAFAfPW2et6"
      },
      "source": [
        "df2"
      ],
      "execution_count": null,
      "outputs": []
    },
    {
      "cell_type": "code",
      "metadata": {
        "id": "Vo5P9TFTHOM-"
      },
      "source": [
        ""
      ],
      "execution_count": null,
      "outputs": []
    },
    {
      "cell_type": "code",
      "metadata": {
        "id": "rINchT3qHRXz"
      },
      "source": [
        ""
      ],
      "execution_count": null,
      "outputs": []
    }
  ]
}