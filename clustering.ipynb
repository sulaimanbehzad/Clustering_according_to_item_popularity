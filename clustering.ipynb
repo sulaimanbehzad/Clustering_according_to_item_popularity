{
  "nbformat": 4,
  "nbformat_minor": 0,
  "metadata": {
    "colab": {
      "name": "clustering.ipynb",
      "provenance": [],
      "collapsed_sections": [],
      "mount_file_id": "1XeKp3FTibxDGrDNZAZqz7Tj_RA7p2Y1P",
      "authorship_tag": "ABX9TyPAoVgwPcgHqEME+PKCATIp",
      "include_colab_link": true
    },
    "kernelspec": {
      "name": "python3",
      "display_name": "Python 3"
    }
  },
  "cells": [
    {
      "cell_type": "markdown",
      "metadata": {
        "id": "view-in-github",
        "colab_type": "text"
      },
      "source": [
        "<a href=\"https://colab.research.google.com/github/sulaimanbehzad/Clustering_according_to_item_popularity/blob/main/clustering.ipynb\" target=\"_parent\"><img src=\"https://colab.research.google.com/assets/colab-badge.svg\" alt=\"Open In Colab\"/></a>"
      ]
    },
    {
      "cell_type": "markdown",
      "metadata": {
        "id": "YicdgDXywbh4"
      },
      "source": [
        "# Clustering of Digikala dataset based on items popularity  \r\n"
      ]
    },
    {
      "cell_type": "code",
      "metadata": {
        "id": "IXlZSQKbWYfv"
      },
      "source": [
        "# ! pip install scikit-learn-extra "
      ],
      "execution_count": 1,
      "outputs": []
    },
    {
      "cell_type": "code",
      "metadata": {
        "id": "B9Bl0RWIwQd1"
      },
      "source": [
        "import pandas as pd\r\n",
        "import numpy as np\r\n",
        "import matplotlib.pyplot as plt\r\n",
        "from sklearn.preprocessing import LabelEncoder, normalize\r\n",
        "from sklearn_extra.cluster import KMedoids\r\n",
        "from sklearn.cluster import KMeans"
      ],
      "execution_count": 42,
      "outputs": []
    },
    {
      "cell_type": "markdown",
      "metadata": {
        "id": "hXC08ur6xq4r"
      },
      "source": [
        "### Cloning the github repository in colab"
      ]
    },
    {
      "cell_type": "code",
      "metadata": {
        "colab": {
          "base_uri": "https://localhost:8080/"
        },
        "id": "oBYKpZUHx4UR",
        "outputId": "883a77e7-a034-415f-a565-305a90280478"
      },
      "source": [
        "% cd /content/drive/MyDrive/Clustering_according_to_item_popularity/\r\n"
      ],
      "execution_count": 3,
      "outputs": [
        {
          "output_type": "stream",
          "text": [
            "/content/drive/MyDrive/Clustering_according_to_item_popularity\n"
          ],
          "name": "stdout"
        }
      ]
    },
    {
      "cell_type": "code",
      "metadata": {
        "id": "kIX5wgxF0HNT"
      },
      "source": [
        "# ! ls"
      ],
      "execution_count": 4,
      "outputs": []
    },
    {
      "cell_type": "code",
      "metadata": {
        "id": "aCDjnzeY0wIv"
      },
      "source": [
        "# ! git clone https://github.com/sulaimanbehzad/Clustering_according_to_item_popularity.git"
      ],
      "execution_count": 5,
      "outputs": []
    },
    {
      "cell_type": "code",
      "metadata": {
        "colab": {
          "base_uri": "https://localhost:8080/"
        },
        "id": "37LpX0j71-XT",
        "outputId": "633c1567-60c2-437f-b2e3-8d4c29f2e28d"
      },
      "source": [
        "! git status"
      ],
      "execution_count": 6,
      "outputs": [
        {
          "output_type": "stream",
          "text": [
            "On branch main\n",
            "Your branch and 'origin/main' have diverged,\n",
            "and have 2 and 7 different commits each, respectively.\n",
            "  (use \"git pull\" to merge the remote branch into yours)\n",
            "\n",
            "Untracked files:\n",
            "  (use \"git add <file>...\" to include in what will be committed)\n",
            "\n",
            "\t\u001b[31mClustering_according_to_item_popularity/\u001b[m\n",
            "\t\u001b[31mpreprocessed_item_recomm.csv\u001b[m\n",
            "\n",
            "nothing added to commit but untracked files present (use \"git add\" to track)\n"
          ],
          "name": "stdout"
        }
      ]
    },
    {
      "cell_type": "code",
      "metadata": {
        "colab": {
          "base_uri": "https://localhost:8080/"
        },
        "id": "zAWgZ0Z32TMz",
        "outputId": "5e315a61-8f5f-45c9-f445-8321d6539dc2"
      },
      "source": [
        "! git pull"
      ],
      "execution_count": 7,
      "outputs": [
        {
          "output_type": "stream",
          "text": [
            "\n",
            "*** Please tell me who you are.\n",
            "\n",
            "Run\n",
            "\n",
            "  git config --global user.email \"you@example.com\"\n",
            "  git config --global user.name \"Your Name\"\n",
            "\n",
            "to set your account's default identity.\n",
            "Omit --global to set the identity only in this repository.\n",
            "\n",
            "fatal: unable to auto-detect email address (got 'root@ab657937bb61.(none)')\n"
          ],
          "name": "stdout"
        }
      ]
    },
    {
      "cell_type": "code",
      "metadata": {
        "id": "irOD8twMpG7i"
      },
      "source": [
        ""
      ],
      "execution_count": 7,
      "outputs": []
    },
    {
      "cell_type": "code",
      "metadata": {
        "id": "6hLvFMCB2Xfx"
      },
      "source": [
        "# ! git push -u origin main"
      ],
      "execution_count": 8,
      "outputs": []
    },
    {
      "cell_type": "code",
      "metadata": {
        "id": "KOgkuMTC2afd"
      },
      "source": [
        "# ! git commit -m 'redundant files removed'"
      ],
      "execution_count": 9,
      "outputs": []
    },
    {
      "cell_type": "markdown",
      "metadata": {
        "id": "2SYdX5hk4A43"
      },
      "source": [
        "### Reading and preprocessing the dataset"
      ]
    },
    {
      "cell_type": "code",
      "metadata": {
        "id": "Wn7RmvfG4PBn"
      },
      "source": [
        "df = pd.read_excel('/content/drive/MyDrive/Clustering_according_to_item_popularity/keifiat.xlsx')"
      ],
      "execution_count": 10,
      "outputs": []
    },
    {
      "cell_type": "code",
      "metadata": {
        "id": "WfxDx0mO5Jtg",
        "colab": {
          "base_uri": "https://localhost:8080/",
          "height": 574
        },
        "outputId": "a1d60253-52e8-4d95-b583-7ca14ed7bf52"
      },
      "source": [
        "df.head()"
      ],
      "execution_count": 11,
      "outputs": [
        {
          "output_type": "execute_result",
          "data": {
            "text/html": [
              "<div>\n",
              "<style scoped>\n",
              "    .dataframe tbody tr th:only-of-type {\n",
              "        vertical-align: middle;\n",
              "    }\n",
              "\n",
              "    .dataframe tbody tr th {\n",
              "        vertical-align: top;\n",
              "    }\n",
              "\n",
              "    .dataframe thead th {\n",
              "        text-align: right;\n",
              "    }\n",
              "</style>\n",
              "<table border=\"1\" class=\"dataframe\">\n",
              "  <thead>\n",
              "    <tr style=\"text-align: right;\">\n",
              "      <th></th>\n",
              "      <th>product_id</th>\n",
              "      <th>product_title</th>\n",
              "      <th>title_en</th>\n",
              "      <th>user_id</th>\n",
              "      <th>likes</th>\n",
              "      <th>dislikes</th>\n",
              "      <th>verification_status</th>\n",
              "      <th>recommend</th>\n",
              "      <th>title</th>\n",
              "      <th>comment</th>\n",
              "      <th>advantages</th>\n",
              "      <th>disadvantages</th>\n",
              "    </tr>\n",
              "  </thead>\n",
              "  <tbody>\n",
              "    <tr>\n",
              "      <th>0</th>\n",
              "      <td>3692</td>\n",
              "      <td>ماوس بی‌سیم لاجیتک مدل M325</td>\n",
              "      <td>IT</td>\n",
              "      <td>989472</td>\n",
              "      <td>0</td>\n",
              "      <td>0</td>\n",
              "      <td>verified</td>\n",
              "      <td>\\N</td>\n",
              "      <td>NaN</td>\n",
              "      <td>واقعا عالیه. من که ازش خیلی راضیم</td>\n",
              "      <td>NaN</td>\n",
              "      <td>NaN</td>\n",
              "    </tr>\n",
              "    <tr>\n",
              "      <th>1</th>\n",
              "      <td>90213</td>\n",
              "      <td>شارژر همراه شیاومی مدل NDY-02-AN با ظرفیت 1000...</td>\n",
              "      <td>AC</td>\n",
              "      <td>3862150</td>\n",
              "      <td>4</td>\n",
              "      <td>1</td>\n",
              "      <td>verified</td>\n",
              "      <td>recommended</td>\n",
              "      <td>واقعاً عالیه</td>\n",
              "      <td>سلام، قبل اینکه نظرم رو بگم میخواستم به یک موض...</td>\n",
              "      <td>[\"عمر طولانی\\r\",\"افت بسیار کم میزان شارژ\\r\",\"ا...</td>\n",
              "      <td>[\"ندارد\"]</td>\n",
              "    </tr>\n",
              "    <tr>\n",
              "      <th>2</th>\n",
              "      <td>59473</td>\n",
              "      <td>یدک پولیشر میکروفایبر مهسان مدل 20119</td>\n",
              "      <td>HW</td>\n",
              "      <td>626843</td>\n",
              "      <td>1</td>\n",
              "      <td>0</td>\n",
              "      <td>verified</td>\n",
              "      <td>not_recommended</td>\n",
              "      <td>خیلی سخت حوله اش در میاد</td>\n",
              "      <td>گیره های فلزی خیلی سخت تا میشوند و لذا حوله را...</td>\n",
              "      <td>NaN</td>\n",
              "      <td>NaN</td>\n",
              "    </tr>\n",
              "    <tr>\n",
              "      <th>3</th>\n",
              "      <td>120499</td>\n",
              "      <td>گوشی موبایل هوآوی آنر مدل 5X KIW-L21 دو سیم‌کارت</td>\n",
              "      <td>MO</td>\n",
              "      <td>786887</td>\n",
              "      <td>6</td>\n",
              "      <td>11</td>\n",
              "      <td>verified</td>\n",
              "      <td>no_idea</td>\n",
              "      <td>گوشی مقرون به صرفه</td>\n",
              "      <td>همه چیز در رابطه با ظاهر این گوشی بسیار خوب اس...</td>\n",
              "      <td>[\"صفحه نمایش پرنور و با کیفیت\\r\",\"کیفیت بالای ...</td>\n",
              "      <td>[\"کیفیت پایین اسپیکر\\r\",\"حاشیه خالی زیر صفحه ن...</td>\n",
              "    </tr>\n",
              "    <tr>\n",
              "      <th>4</th>\n",
              "      <td>67200</td>\n",
              "      <td>شارژر همراه شیائومی مدل Mi ظرفیت 5000 میلی آمپ...</td>\n",
              "      <td>AC</td>\n",
              "      <td>854531</td>\n",
              "      <td>19</td>\n",
              "      <td>4</td>\n",
              "      <td>verified</td>\n",
              "      <td>no_idea</td>\n",
              "      <td>ابعاد، استحکام و نگهداری شارژ مناسب</td>\n",
              "      <td>اگر ظرفیتش براتون کافیه حتما بخرید.\\r\\nیه شارژ...</td>\n",
              "      <td>[\"ظریف و زیبا و باریک\\r\",\"بدنه محکم و با دوام\"]</td>\n",
              "      <td>[\"ظرفیت متوسط\"]</td>\n",
              "    </tr>\n",
              "  </tbody>\n",
              "</table>\n",
              "</div>"
            ],
            "text/plain": [
              "   product_id  ...                                      disadvantages\n",
              "0        3692  ...                                                NaN\n",
              "1       90213  ...                                          [\"ندارد\"]\n",
              "2       59473  ...                                                NaN\n",
              "3      120499  ...  [\"کیفیت پایین اسپیکر\\r\",\"حاشیه خالی زیر صفحه ن...\n",
              "4       67200  ...                                    [\"ظرفیت متوسط\"]\n",
              "\n",
              "[5 rows x 12 columns]"
            ]
          },
          "metadata": {
            "tags": []
          },
          "execution_count": 11
        }
      ]
    },
    {
      "cell_type": "code",
      "metadata": {
        "colab": {
          "base_uri": "https://localhost:8080/",
          "height": 300
        },
        "id": "0xhNJq3LB_Ur",
        "outputId": "a6f805a9-90c6-42cd-bbb4-3f6223e4626e"
      },
      "source": [
        "df.describe()"
      ],
      "execution_count": 12,
      "outputs": [
        {
          "output_type": "execute_result",
          "data": {
            "text/html": [
              "<div>\n",
              "<style scoped>\n",
              "    .dataframe tbody tr th:only-of-type {\n",
              "        vertical-align: middle;\n",
              "    }\n",
              "\n",
              "    .dataframe tbody tr th {\n",
              "        vertical-align: top;\n",
              "    }\n",
              "\n",
              "    .dataframe thead th {\n",
              "        text-align: right;\n",
              "    }\n",
              "</style>\n",
              "<table border=\"1\" class=\"dataframe\">\n",
              "  <thead>\n",
              "    <tr style=\"text-align: right;\">\n",
              "      <th></th>\n",
              "      <th>product_id</th>\n",
              "      <th>user_id</th>\n",
              "      <th>likes</th>\n",
              "      <th>dislikes</th>\n",
              "    </tr>\n",
              "  </thead>\n",
              "  <tbody>\n",
              "    <tr>\n",
              "      <th>count</th>\n",
              "      <td>100000.000000</td>\n",
              "      <td>1.000000e+05</td>\n",
              "      <td>100000.000000</td>\n",
              "      <td>100000.000000</td>\n",
              "    </tr>\n",
              "    <tr>\n",
              "      <th>mean</th>\n",
              "      <td>426482.510140</td>\n",
              "      <td>4.642959e+06</td>\n",
              "      <td>3.114790</td>\n",
              "      <td>1.649460</td>\n",
              "    </tr>\n",
              "    <tr>\n",
              "      <th>std</th>\n",
              "      <td>232470.511159</td>\n",
              "      <td>2.619034e+06</td>\n",
              "      <td>8.050031</td>\n",
              "      <td>8.912705</td>\n",
              "    </tr>\n",
              "    <tr>\n",
              "      <th>min</th>\n",
              "      <td>300.000000</td>\n",
              "      <td>4.661320e+05</td>\n",
              "      <td>0.000000</td>\n",
              "      <td>0.000000</td>\n",
              "    </tr>\n",
              "    <tr>\n",
              "      <th>25%</th>\n",
              "      <td>220871.250000</td>\n",
              "      <td>2.613059e+06</td>\n",
              "      <td>0.000000</td>\n",
              "      <td>0.000000</td>\n",
              "    </tr>\n",
              "    <tr>\n",
              "      <th>50%</th>\n",
              "      <td>427858.000000</td>\n",
              "      <td>4.710290e+06</td>\n",
              "      <td>1.000000</td>\n",
              "      <td>0.000000</td>\n",
              "    </tr>\n",
              "    <tr>\n",
              "      <th>75%</th>\n",
              "      <td>619397.250000</td>\n",
              "      <td>7.094806e+06</td>\n",
              "      <td>4.000000</td>\n",
              "      <td>1.000000</td>\n",
              "    </tr>\n",
              "    <tr>\n",
              "      <th>max</th>\n",
              "      <td>909423.000000</td>\n",
              "      <td>8.623288e+06</td>\n",
              "      <td>854.000000</td>\n",
              "      <td>1344.000000</td>\n",
              "    </tr>\n",
              "  </tbody>\n",
              "</table>\n",
              "</div>"
            ],
            "text/plain": [
              "          product_id       user_id          likes       dislikes\n",
              "count  100000.000000  1.000000e+05  100000.000000  100000.000000\n",
              "mean   426482.510140  4.642959e+06       3.114790       1.649460\n",
              "std    232470.511159  2.619034e+06       8.050031       8.912705\n",
              "min       300.000000  4.661320e+05       0.000000       0.000000\n",
              "25%    220871.250000  2.613059e+06       0.000000       0.000000\n",
              "50%    427858.000000  4.710290e+06       1.000000       0.000000\n",
              "75%    619397.250000  7.094806e+06       4.000000       1.000000\n",
              "max    909423.000000  8.623288e+06     854.000000    1344.000000"
            ]
          },
          "metadata": {
            "tags": []
          },
          "execution_count": 12
        }
      ]
    },
    {
      "cell_type": "markdown",
      "metadata": {
        "id": "zVhO80lXAFiy"
      },
      "source": [
        "Select the attributes that will give information about the popularity of the item"
      ]
    },
    {
      "cell_type": "code",
      "metadata": {
        "id": "6E1StDcrArEj"
      },
      "source": [
        "df1 = df[['product_id', 'product_title','likes', 'dislikes','comment', 'recommend']]"
      ],
      "execution_count": 13,
      "outputs": []
    },
    {
      "cell_type": "markdown",
      "metadata": {
        "id": "IyiMJvenCumt"
      },
      "source": [
        "Check the dataframe for null values and handle them"
      ]
    },
    {
      "cell_type": "code",
      "metadata": {
        "colab": {
          "base_uri": "https://localhost:8080/"
        },
        "id": "1vEzY81aCQ89",
        "outputId": "274efb32-cd92-45e7-8c08-ba8c5951fb0e"
      },
      "source": [
        "df1.info()"
      ],
      "execution_count": 14,
      "outputs": [
        {
          "output_type": "stream",
          "text": [
            "<class 'pandas.core.frame.DataFrame'>\n",
            "RangeIndex: 100000 entries, 0 to 99999\n",
            "Data columns (total 6 columns):\n",
            " #   Column         Non-Null Count   Dtype \n",
            "---  ------         --------------   ----- \n",
            " 0   product_id     100000 non-null  int64 \n",
            " 1   product_title  100000 non-null  object\n",
            " 2   likes          100000 non-null  int64 \n",
            " 3   dislikes       100000 non-null  int64 \n",
            " 4   comment        99883 non-null   object\n",
            " 5   recommend      100000 non-null  object\n",
            "dtypes: int64(3), object(3)\n",
            "memory usage: 4.6+ MB\n"
          ],
          "name": "stdout"
        }
      ]
    },
    {
      "cell_type": "code",
      "metadata": {
        "colab": {
          "base_uri": "https://localhost:8080/"
        },
        "id": "6fKohSogEJs8",
        "outputId": "8c7b9c7b-1953-49af-e428-433c31c40790"
      },
      "source": [
        "df1.isnull().sum()"
      ],
      "execution_count": 15,
      "outputs": [
        {
          "output_type": "execute_result",
          "data": {
            "text/plain": [
              "product_id         0\n",
              "product_title      0\n",
              "likes              0\n",
              "dislikes           0\n",
              "comment          117\n",
              "recommend          0\n",
              "dtype: int64"
            ]
          },
          "metadata": {
            "tags": []
          },
          "execution_count": 15
        }
      ]
    },
    {
      "cell_type": "markdown",
      "metadata": {
        "id": "ZHF0f1OMFSOJ"
      },
      "source": [
        "looking at the database 'recommend' we can see that \\N values also represent null values which wouldn't be considered in the above"
      ]
    },
    {
      "cell_type": "code",
      "metadata": {
        "colab": {
          "base_uri": "https://localhost:8080/"
        },
        "id": "_eF9GFiGFmge",
        "outputId": "10d94280-3c37-42dd-8c2b-4d2f03743c1f"
      },
      "source": [
        "df1['recommend'].value_counts()"
      ],
      "execution_count": 16,
      "outputs": [
        {
          "output_type": "execute_result",
          "data": {
            "text/plain": [
              "recommended        36972\n",
              "\\N                 36382\n",
              "not_recommended    16110\n",
              "no_idea            10536\n",
              "Name: recommend, dtype: int64"
            ]
          },
          "metadata": {
            "tags": []
          },
          "execution_count": 16
        }
      ]
    },
    {
      "cell_type": "markdown",
      "metadata": {
        "id": "lEix1a8AF7m0"
      },
      "source": [
        "we can see that beside the 117 missing values we have 36382 records with \\N values  \r\n",
        "now we understand tha \\N too should be considered as missing value\r\n"
      ]
    },
    {
      "cell_type": "code",
      "metadata": {
        "id": "3lq8cNtTT8tw"
      },
      "source": [
        "missing_values = [\"\\\\N\", \"na\", \"--\", \"NA\", \"n/a\"]\r\n",
        "df = pd.read_excel('/content/drive/MyDrive/Clustering_according_to_item_popularity/keifiat.xlsx', na_values = missing_values)\r\n",
        "df1 = df[['product_id', 'product_title', 'likes', 'dislikes','comment', 'recommend']]\r\n"
      ],
      "execution_count": 17,
      "outputs": []
    },
    {
      "cell_type": "markdown",
      "metadata": {
        "id": "CsxF1DWT1tQr"
      },
      "source": [
        "after importing database with newly found aspects on NA we are going to handle null values"
      ]
    },
    {
      "cell_type": "code",
      "metadata": {
        "colab": {
          "base_uri": "https://localhost:8080/"
        },
        "id": "GZ5e6Rl61_be",
        "outputId": "ca02cb1b-e4d9-461c-d52e-7416d80956fe"
      },
      "source": [
        "df1.isnull().sum()"
      ],
      "execution_count": 18,
      "outputs": [
        {
          "output_type": "execute_result",
          "data": {
            "text/plain": [
              "product_id           0\n",
              "product_title        0\n",
              "likes                0\n",
              "dislikes             0\n",
              "comment            118\n",
              "recommend        36382\n",
              "dtype: int64"
            ]
          },
          "metadata": {
            "tags": []
          },
          "execution_count": 18
        }
      ]
    },
    {
      "cell_type": "code",
      "metadata": {
        "colab": {
          "base_uri": "https://localhost:8080/"
        },
        "id": "uF_6eOxQ2Fin",
        "outputId": "5f38b392-277b-4aa3-99c3-3498406ebf67"
      },
      "source": [
        "df1['recommend'].value_counts()"
      ],
      "execution_count": 19,
      "outputs": [
        {
          "output_type": "execute_result",
          "data": {
            "text/plain": [
              "recommended        36972\n",
              "not_recommended    16110\n",
              "no_idea            10536\n",
              "Name: recommend, dtype: int64"
            ]
          },
          "metadata": {
            "tags": []
          },
          "execution_count": 19
        }
      ]
    },
    {
      "cell_type": "code",
      "metadata": {
        "colab": {
          "base_uri": "https://localhost:8080/"
        },
        "id": "tYOY7txj2YVE",
        "outputId": "82e487cc-3e3b-4990-d40f-be1b1612eb50"
      },
      "source": [
        "most_common = df1[\"recommend\"].value_counts().idxmax\r\n",
        "# df1['recommend'].fillna(median, inplace=True)\r\n",
        "most_common"
      ],
      "execution_count": 20,
      "outputs": [
        {
          "output_type": "execute_result",
          "data": {
            "text/plain": [
              "<bound method Series.idxmax of recommended        36972\n",
              "not_recommended    16110\n",
              "no_idea            10536\n",
              "Name: recommend, dtype: int64>"
            ]
          },
          "metadata": {
            "tags": []
          },
          "execution_count": 20
        }
      ]
    },
    {
      "cell_type": "markdown",
      "metadata": {
        "id": "abP45dpl3EYI"
      },
      "source": [
        "replacing the null values with one of the above would falsely impact the clustering so let's take another approach:  \r\n",
        "1. use interpolation to find values\r\n",
        "2. fill with mean/median\r\n",
        "\r\n",
        "in order to use interpolation let us first use label encoder to obtain numerical values"
      ]
    },
    {
      "cell_type": "code",
      "metadata": {
        "colab": {
          "base_uri": "https://localhost:8080/"
        },
        "id": "I89opnq1HU_e",
        "outputId": "f5c24123-60ba-44c7-f748-955da8f0ca25"
      },
      "source": [
        "df1['recommend'].fillna(value='null_values', inplace=True)\r\n",
        "df1.isnull().sum()"
      ],
      "execution_count": 21,
      "outputs": [
        {
          "output_type": "stream",
          "text": [
            "/usr/local/lib/python3.6/dist-packages/pandas/core/series.py:4536: SettingWithCopyWarning: \n",
            "A value is trying to be set on a copy of a slice from a DataFrame\n",
            "\n",
            "See the caveats in the documentation: https://pandas.pydata.org/pandas-docs/stable/user_guide/indexing.html#returning-a-view-versus-a-copy\n",
            "  downcast=downcast,\n"
          ],
          "name": "stderr"
        },
        {
          "output_type": "execute_result",
          "data": {
            "text/plain": [
              "product_id         0\n",
              "product_title      0\n",
              "likes              0\n",
              "dislikes           0\n",
              "comment          118\n",
              "recommend          0\n",
              "dtype: int64"
            ]
          },
          "metadata": {
            "tags": []
          },
          "execution_count": 21
        }
      ]
    },
    {
      "cell_type": "code",
      "metadata": {
        "colab": {
          "base_uri": "https://localhost:8080/"
        },
        "id": "KFy-crzh9bdE",
        "outputId": "070fee6c-5094-4178-86c5-eb903e8ccd39"
      },
      "source": [
        "le = LabelEncoder()\r\n",
        "le.fit(df1['recommend'])\r\n",
        "le.classes_"
      ],
      "execution_count": 22,
      "outputs": [
        {
          "output_type": "execute_result",
          "data": {
            "text/plain": [
              "array(['no_idea', 'not_recommended', 'null_values', 'recommended'],\n",
              "      dtype=object)"
            ]
          },
          "metadata": {
            "tags": []
          },
          "execution_count": 22
        }
      ]
    },
    {
      "cell_type": "code",
      "metadata": {
        "colab": {
          "base_uri": "https://localhost:8080/"
        },
        "id": "-NMpJuu7IDr1",
        "outputId": "f6d3725e-3a35-4b0a-96b5-808f80433ee6"
      },
      "source": [
        "recomm_trans = le.transform(df1['recommend'])\r\n",
        "recomm_trans"
      ],
      "execution_count": 23,
      "outputs": [
        {
          "output_type": "execute_result",
          "data": {
            "text/plain": [
              "array([2, 3, 1, ..., 3, 0, 0])"
            ]
          },
          "metadata": {
            "tags": []
          },
          "execution_count": 23
        }
      ]
    },
    {
      "cell_type": "code",
      "metadata": {
        "colab": {
          "base_uri": "https://localhost:8080/"
        },
        "id": "ZyW6dB21Ibfk",
        "outputId": "ee760ab1-ded5-4bc5-ec8c-1b893e7406c5"
      },
      "source": [
        "df1['recommend'] = recomm_trans"
      ],
      "execution_count": 24,
      "outputs": [
        {
          "output_type": "stream",
          "text": [
            "/usr/local/lib/python3.6/dist-packages/ipykernel_launcher.py:1: SettingWithCopyWarning: \n",
            "A value is trying to be set on a copy of a slice from a DataFrame.\n",
            "Try using .loc[row_indexer,col_indexer] = value instead\n",
            "\n",
            "See the caveats in the documentation: https://pandas.pydata.org/pandas-docs/stable/user_guide/indexing.html#returning-a-view-versus-a-copy\n",
            "  \"\"\"Entry point for launching an IPython kernel.\n"
          ],
          "name": "stderr"
        }
      ]
    },
    {
      "cell_type": "code",
      "metadata": {
        "id": "BVtdd8Bq-q9p",
        "collapsed": true,
        "colab": {
          "base_uri": "https://localhost:8080/",
          "height": 424
        },
        "outputId": "fe18237a-0d3e-4c84-8fab-b17b49f6c046"
      },
      "source": [
        "df1[['recommend']]"
      ],
      "execution_count": 25,
      "outputs": [
        {
          "output_type": "execute_result",
          "data": {
            "text/html": [
              "<div>\n",
              "<style scoped>\n",
              "    .dataframe tbody tr th:only-of-type {\n",
              "        vertical-align: middle;\n",
              "    }\n",
              "\n",
              "    .dataframe tbody tr th {\n",
              "        vertical-align: top;\n",
              "    }\n",
              "\n",
              "    .dataframe thead th {\n",
              "        text-align: right;\n",
              "    }\n",
              "</style>\n",
              "<table border=\"1\" class=\"dataframe\">\n",
              "  <thead>\n",
              "    <tr style=\"text-align: right;\">\n",
              "      <th></th>\n",
              "      <th>recommend</th>\n",
              "    </tr>\n",
              "  </thead>\n",
              "  <tbody>\n",
              "    <tr>\n",
              "      <th>0</th>\n",
              "      <td>2</td>\n",
              "    </tr>\n",
              "    <tr>\n",
              "      <th>1</th>\n",
              "      <td>3</td>\n",
              "    </tr>\n",
              "    <tr>\n",
              "      <th>2</th>\n",
              "      <td>1</td>\n",
              "    </tr>\n",
              "    <tr>\n",
              "      <th>3</th>\n",
              "      <td>0</td>\n",
              "    </tr>\n",
              "    <tr>\n",
              "      <th>4</th>\n",
              "      <td>0</td>\n",
              "    </tr>\n",
              "    <tr>\n",
              "      <th>...</th>\n",
              "      <td>...</td>\n",
              "    </tr>\n",
              "    <tr>\n",
              "      <th>99995</th>\n",
              "      <td>3</td>\n",
              "    </tr>\n",
              "    <tr>\n",
              "      <th>99996</th>\n",
              "      <td>2</td>\n",
              "    </tr>\n",
              "    <tr>\n",
              "      <th>99997</th>\n",
              "      <td>3</td>\n",
              "    </tr>\n",
              "    <tr>\n",
              "      <th>99998</th>\n",
              "      <td>0</td>\n",
              "    </tr>\n",
              "    <tr>\n",
              "      <th>99999</th>\n",
              "      <td>0</td>\n",
              "    </tr>\n",
              "  </tbody>\n",
              "</table>\n",
              "<p>100000 rows × 1 columns</p>\n",
              "</div>"
            ],
            "text/plain": [
              "       recommend\n",
              "0              2\n",
              "1              3\n",
              "2              1\n",
              "3              0\n",
              "4              0\n",
              "...          ...\n",
              "99995          3\n",
              "99996          2\n",
              "99997          3\n",
              "99998          0\n",
              "99999          0\n",
              "\n",
              "[100000 rows x 1 columns]"
            ]
          },
          "metadata": {
            "tags": []
          },
          "execution_count": 25
        }
      ]
    },
    {
      "cell_type": "code",
      "metadata": {
        "colab": {
          "base_uri": "https://localhost:8080/"
        },
        "id": "Y8akRRiNJSmS",
        "outputId": "0dffa6ac-03d9-4e72-d373-b83f50ed6e6f"
      },
      "source": [
        "df1['recommend'] = df1['recommend'].replace(2,np.nan)\r\n",
        "df1['recommend']"
      ],
      "execution_count": 26,
      "outputs": [
        {
          "output_type": "stream",
          "text": [
            "/usr/local/lib/python3.6/dist-packages/ipykernel_launcher.py:1: SettingWithCopyWarning: \n",
            "A value is trying to be set on a copy of a slice from a DataFrame.\n",
            "Try using .loc[row_indexer,col_indexer] = value instead\n",
            "\n",
            "See the caveats in the documentation: https://pandas.pydata.org/pandas-docs/stable/user_guide/indexing.html#returning-a-view-versus-a-copy\n",
            "  \"\"\"Entry point for launching an IPython kernel.\n"
          ],
          "name": "stderr"
        },
        {
          "output_type": "execute_result",
          "data": {
            "text/plain": [
              "0        NaN\n",
              "1        3.0\n",
              "2        1.0\n",
              "3        0.0\n",
              "4        0.0\n",
              "        ... \n",
              "99995    3.0\n",
              "99996    NaN\n",
              "99997    3.0\n",
              "99998    0.0\n",
              "99999    0.0\n",
              "Name: recommend, Length: 100000, dtype: float64"
            ]
          },
          "metadata": {
            "tags": []
          },
          "execution_count": 26
        }
      ]
    },
    {
      "cell_type": "code",
      "metadata": {
        "id": "WmK5cvRiNcEH",
        "colab": {
          "base_uri": "https://localhost:8080/"
        },
        "outputId": "55e91d70-c116-4162-9f75-307781bf0a88"
      },
      "source": [
        "recomm_filled = df1['recommend'].interpolate(method='linear')\r\n",
        "recomm_filled.isnull().sum()"
      ],
      "execution_count": 27,
      "outputs": [
        {
          "output_type": "execute_result",
          "data": {
            "text/plain": [
              "1"
            ]
          },
          "metadata": {
            "tags": []
          },
          "execution_count": 27
        }
      ]
    },
    {
      "cell_type": "code",
      "metadata": {
        "colab": {
          "base_uri": "https://localhost:8080/",
          "height": 1000
        },
        "id": "toAFAfPW2et6",
        "outputId": "5b614e12-98ef-4995-b571-fee7f1529b2f"
      },
      "source": [
        "df1['recommend'] = recomm_filled\r\n",
        "df1.head(50)"
      ],
      "execution_count": 28,
      "outputs": [
        {
          "output_type": "stream",
          "text": [
            "/usr/local/lib/python3.6/dist-packages/ipykernel_launcher.py:1: SettingWithCopyWarning: \n",
            "A value is trying to be set on a copy of a slice from a DataFrame.\n",
            "Try using .loc[row_indexer,col_indexer] = value instead\n",
            "\n",
            "See the caveats in the documentation: https://pandas.pydata.org/pandas-docs/stable/user_guide/indexing.html#returning-a-view-versus-a-copy\n",
            "  \"\"\"Entry point for launching an IPython kernel.\n"
          ],
          "name": "stderr"
        },
        {
          "output_type": "execute_result",
          "data": {
            "text/html": [
              "<div>\n",
              "<style scoped>\n",
              "    .dataframe tbody tr th:only-of-type {\n",
              "        vertical-align: middle;\n",
              "    }\n",
              "\n",
              "    .dataframe tbody tr th {\n",
              "        vertical-align: top;\n",
              "    }\n",
              "\n",
              "    .dataframe thead th {\n",
              "        text-align: right;\n",
              "    }\n",
              "</style>\n",
              "<table border=\"1\" class=\"dataframe\">\n",
              "  <thead>\n",
              "    <tr style=\"text-align: right;\">\n",
              "      <th></th>\n",
              "      <th>product_id</th>\n",
              "      <th>product_title</th>\n",
              "      <th>likes</th>\n",
              "      <th>dislikes</th>\n",
              "      <th>comment</th>\n",
              "      <th>recommend</th>\n",
              "    </tr>\n",
              "  </thead>\n",
              "  <tbody>\n",
              "    <tr>\n",
              "      <th>0</th>\n",
              "      <td>3692</td>\n",
              "      <td>ماوس بی‌سیم لاجیتک مدل M325</td>\n",
              "      <td>0</td>\n",
              "      <td>0</td>\n",
              "      <td>واقعا عالیه. من که ازش خیلی راضیم</td>\n",
              "      <td>NaN</td>\n",
              "    </tr>\n",
              "    <tr>\n",
              "      <th>1</th>\n",
              "      <td>90213</td>\n",
              "      <td>شارژر همراه شیاومی مدل NDY-02-AN با ظرفیت 1000...</td>\n",
              "      <td>4</td>\n",
              "      <td>1</td>\n",
              "      <td>سلام، قبل اینکه نظرم رو بگم میخواستم به یک موض...</td>\n",
              "      <td>3.000000</td>\n",
              "    </tr>\n",
              "    <tr>\n",
              "      <th>2</th>\n",
              "      <td>59473</td>\n",
              "      <td>یدک پولیشر میکروفایبر مهسان مدل 20119</td>\n",
              "      <td>1</td>\n",
              "      <td>0</td>\n",
              "      <td>گیره های فلزی خیلی سخت تا میشوند و لذا حوله را...</td>\n",
              "      <td>1.000000</td>\n",
              "    </tr>\n",
              "    <tr>\n",
              "      <th>3</th>\n",
              "      <td>120499</td>\n",
              "      <td>گوشی موبایل هوآوی آنر مدل 5X KIW-L21 دو سیم‌کارت</td>\n",
              "      <td>6</td>\n",
              "      <td>11</td>\n",
              "      <td>همه چیز در رابطه با ظاهر این گوشی بسیار خوب اس...</td>\n",
              "      <td>0.000000</td>\n",
              "    </tr>\n",
              "    <tr>\n",
              "      <th>4</th>\n",
              "      <td>67200</td>\n",
              "      <td>شارژر همراه شیائومی مدل Mi ظرفیت 5000 میلی آمپ...</td>\n",
              "      <td>19</td>\n",
              "      <td>4</td>\n",
              "      <td>اگر ظرفیتش براتون کافیه حتما بخرید.\\r\\nیه شارژ...</td>\n",
              "      <td>0.000000</td>\n",
              "    </tr>\n",
              "    <tr>\n",
              "      <th>5</th>\n",
              "      <td>133722</td>\n",
              "      <td>لپ تاپ 15 اینچی ایسوس مدل N501VW - A</td>\n",
              "      <td>6</td>\n",
              "      <td>1</td>\n",
              "      <td>سلام دوستان،،\\r\\nمنم مثه بعضی از دوستان قبل از...</td>\n",
              "      <td>3.000000</td>\n",
              "    </tr>\n",
              "    <tr>\n",
              "      <th>6</th>\n",
              "      <td>148509</td>\n",
              "      <td>اسپیکر بلوتوثی دیووم مدل Bluetune bean</td>\n",
              "      <td>3</td>\n",
              "      <td>0</td>\n",
              "      <td>من چند سالی هست که این اسپیکرو خریدم و واقعا ح...</td>\n",
              "      <td>3.000000</td>\n",
              "    </tr>\n",
              "    <tr>\n",
              "      <th>7</th>\n",
              "      <td>56871</td>\n",
              "      <td>ادو پرفیوم زنانه امپر مدل Chifon حجم 100 میلی ...</td>\n",
              "      <td>2</td>\n",
              "      <td>2</td>\n",
              "      <td>بوی تند ولی خوشبو داره.ماندگاریش خوبه و هر چقد...</td>\n",
              "      <td>2.000000</td>\n",
              "    </tr>\n",
              "    <tr>\n",
              "      <th>8</th>\n",
              "      <td>49738</td>\n",
              "      <td>ماشین اصلاح صورت رمینگتون مدل MB4555</td>\n",
              "      <td>2</td>\n",
              "      <td>1</td>\n",
              "      <td>متاسفانه عمر مفید این ماشین کم هست و بعد از دو...</td>\n",
              "      <td>1.000000</td>\n",
              "    </tr>\n",
              "    <tr>\n",
              "      <th>9</th>\n",
              "      <td>161548</td>\n",
              "      <td>فلاسک هنری مدل Virginia Special ظرفیت 1.9 لیتر</td>\n",
              "      <td>1</td>\n",
              "      <td>0</td>\n",
              "      <td>خوب بودممنون</td>\n",
              "      <td>0.000000</td>\n",
              "    </tr>\n",
              "    <tr>\n",
              "      <th>10</th>\n",
              "      <td>5107</td>\n",
              "      <td>هارددیسک اکسترنال سیگیت مدل Backup Plus Deskto...</td>\n",
              "      <td>1</td>\n",
              "      <td>0</td>\n",
              "      <td>نزدیک به دو ساله که این هارد رو خریدم. استفاده...</td>\n",
              "      <td>3.000000</td>\n",
              "    </tr>\n",
              "    <tr>\n",
              "      <th>11</th>\n",
              "      <td>156041</td>\n",
              "      <td>شمع خودرو ان جی کی مدل BKR6EGP</td>\n",
              "      <td>11</td>\n",
              "      <td>4</td>\n",
              "      <td>بعد از گذشت 3سال و 60000کیلومتر کارکرد روی ماش...</td>\n",
              "      <td>3.000000</td>\n",
              "    </tr>\n",
              "    <tr>\n",
              "      <th>12</th>\n",
              "      <td>134367</td>\n",
              "      <td>ماشین بازی بیبی لند مدل Top Car</td>\n",
              "      <td>10</td>\n",
              "      <td>5</td>\n",
              "      <td>افا از وقتی من اینو واسه پسرم خریدم همه بچه ها...</td>\n",
              "      <td>3.000000</td>\n",
              "    </tr>\n",
              "    <tr>\n",
              "      <th>13</th>\n",
              "      <td>114006</td>\n",
              "      <td>شارژر همراه لنوو با ظرفیت 10400 میلی آمپر ساعت</td>\n",
              "      <td>4</td>\n",
              "      <td>2</td>\n",
              "      <td>من این پاور بانک رو حدود یک سال پیش از دیجی کا...</td>\n",
              "      <td>3.000000</td>\n",
              "    </tr>\n",
              "    <tr>\n",
              "      <th>14</th>\n",
              "      <td>151402</td>\n",
              "      <td>خودتراش سیلور مدل M5 Magnum به همراه یک یدک</td>\n",
              "      <td>2</td>\n",
              "      <td>6</td>\n",
              "      <td>این تیغ محصول کشور آمریکا هست ( در عکس محصول م...</td>\n",
              "      <td>3.000000</td>\n",
              "    </tr>\n",
              "    <tr>\n",
              "      <th>15</th>\n",
              "      <td>146879</td>\n",
              "      <td>فلاسک غذا خودرو بلک اند دکر مدل BDV212F</td>\n",
              "      <td>15</td>\n",
              "      <td>12</td>\n",
              "      <td>با توجه به قدرت خنک کنندگی حداقل ۲ ساعت زمان ل...</td>\n",
              "      <td>3.000000</td>\n",
              "    </tr>\n",
              "    <tr>\n",
              "      <th>16</th>\n",
              "      <td>81254</td>\n",
              "      <td>کرم نرم کننده دست و صورت آلوئه ورا کاسه ای مای...</td>\n",
              "      <td>4</td>\n",
              "      <td>1</td>\n",
              "      <td>امیوارم کیفیتش همینطور بمونه\\r\\nمن مدت هاس ازی...</td>\n",
              "      <td>2.000000</td>\n",
              "    </tr>\n",
              "    <tr>\n",
              "      <th>17</th>\n",
              "      <td>26368</td>\n",
              "      <td>ماساژور بیورر MG80</td>\n",
              "      <td>5</td>\n",
              "      <td>0</td>\n",
              "      <td>الان حدود یک سالی هست که دارمش و خیلی راضی ام ازش</td>\n",
              "      <td>1.000000</td>\n",
              "    </tr>\n",
              "    <tr>\n",
              "      <th>18</th>\n",
              "      <td>90894</td>\n",
              "      <td>مچ‌ بند هوشمند آی واون مدل i5 Plus</td>\n",
              "      <td>2</td>\n",
              "      <td>1</td>\n",
              "      <td>ساعت خوبی بود از نظر ظاهر و سنسوراش خوب بود\\r\\...</td>\n",
              "      <td>0.000000</td>\n",
              "    </tr>\n",
              "    <tr>\n",
              "      <th>19</th>\n",
              "      <td>21340</td>\n",
              "      <td>ماشین اصلاح صورت پاناسونیک سری Lamdash مدل ES-...</td>\n",
              "      <td>3</td>\n",
              "      <td>1</td>\n",
              "      <td>حدود یک ساله دارمش راضی ام ازش نسبت به قیمتش م...</td>\n",
              "      <td>0.500000</td>\n",
              "    </tr>\n",
              "    <tr>\n",
              "      <th>20</th>\n",
              "      <td>144139</td>\n",
              "      <td>هدفون کریتیو مدل MA200</td>\n",
              "      <td>3</td>\n",
              "      <td>12</td>\n",
              "      <td>سلام و خسته نباشید به تمامی کارکنان و بازدید ک...</td>\n",
              "      <td>1.000000</td>\n",
              "    </tr>\n",
              "    <tr>\n",
              "      <th>21</th>\n",
              "      <td>138040</td>\n",
              "      <td>هارددیسک اکسترنال ترنسند مدل StoreJet 25H3 ظرف...</td>\n",
              "      <td>11</td>\n",
              "      <td>3</td>\n",
              "      <td>با سلام..منم اینو از دیجی گرفتم ..تو نگاه اول ...</td>\n",
              "      <td>1.666667</td>\n",
              "    </tr>\n",
              "    <tr>\n",
              "      <th>22</th>\n",
              "      <td>105719</td>\n",
              "      <td>ادو تویلت مردانه دیور مدل Sauvage حجم 100 میلی...</td>\n",
              "      <td>25</td>\n",
              "      <td>8</td>\n",
              "      <td>این عطر یه بدی بزرگ داره... من خریدم و وقتی تم...</td>\n",
              "      <td>2.333333</td>\n",
              "    </tr>\n",
              "    <tr>\n",
              "      <th>23</th>\n",
              "      <td>147165</td>\n",
              "      <td>روغن موتور خودرو توتال مدل Quartz 7000 حجم 4 لیتر</td>\n",
              "      <td>10</td>\n",
              "      <td>11</td>\n",
              "      <td>بهترین روغن موتور برای موتورهای پژو همین روغنه...</td>\n",
              "      <td>3.000000</td>\n",
              "    </tr>\n",
              "    <tr>\n",
              "      <th>24</th>\n",
              "      <td>116387</td>\n",
              "      <td>اسپیکر هترون مدل HSP260</td>\n",
              "      <td>3</td>\n",
              "      <td>0</td>\n",
              "      <td>اگر با قیمتش مشکلی ندارید نسبت به صداش شک نکنی...</td>\n",
              "      <td>3.000000</td>\n",
              "    </tr>\n",
              "    <tr>\n",
              "      <th>25</th>\n",
              "      <td>73064</td>\n",
              "      <td>گوشی موبایل ال‌جی مدل G4 H818P دو سیم‌کارت ظرف...</td>\n",
              "      <td>5</td>\n",
              "      <td>0</td>\n",
              "      <td>گوشی بسیار خوبی هست واقعا راضی هستم ی مشکل که ...</td>\n",
              "      <td>3.000000</td>\n",
              "    </tr>\n",
              "    <tr>\n",
              "      <th>26</th>\n",
              "      <td>110040</td>\n",
              "      <td>گوشی موبایل هوآوی مدل Mate 8 دو سیم‌کارت - ظرف...</td>\n",
              "      <td>24</td>\n",
              "      <td>6</td>\n",
              "      <td>آپدیت: دو سال و نیم گذشت از خریدم. بهترین گوشی...</td>\n",
              "      <td>3.000000</td>\n",
              "    </tr>\n",
              "    <tr>\n",
              "      <th>27</th>\n",
              "      <td>139131</td>\n",
              "      <td>گوشی موبایل تی پی-لینک مدل Neffos C5 Max TP702...</td>\n",
              "      <td>8</td>\n",
              "      <td>4</td>\n",
              "      <td>جزو اولین نفرهایی بودم که این گوشی رو از دیجی ...</td>\n",
              "      <td>3.000000</td>\n",
              "    </tr>\n",
              "    <tr>\n",
              "      <th>28</th>\n",
              "      <td>80854</td>\n",
              "      <td>اسپری مردانه اکس  مدل Apollo حجم 150 میلی لیتر</td>\n",
              "      <td>9</td>\n",
              "      <td>1</td>\n",
              "      <td>بینظیره\\r\\nمن که خیلی راضی بودم</td>\n",
              "      <td>3.000000</td>\n",
              "    </tr>\n",
              "    <tr>\n",
              "      <th>29</th>\n",
              "      <td>163519</td>\n",
              "      <td>جعبه نظم دهنده صندوق خودرو تاشو</td>\n",
              "      <td>10</td>\n",
              "      <td>2</td>\n",
              "      <td>با سلام\\r\\nعالیه، امیدوارم شگفت انگیز شود و دو...</td>\n",
              "      <td>3.000000</td>\n",
              "    </tr>\n",
              "    <tr>\n",
              "      <th>30</th>\n",
              "      <td>102068</td>\n",
              "      <td>گوشی موبایل ال جی مدل V10 ظرفیت 32 گیگابایت</td>\n",
              "      <td>14</td>\n",
              "      <td>5</td>\n",
              "      <td>با سلام به همه دوستان عزیز\\r\\nبعد از 20 روز خر...</td>\n",
              "      <td>3.000000</td>\n",
              "    </tr>\n",
              "    <tr>\n",
              "      <th>31</th>\n",
              "      <td>129988</td>\n",
              "      <td>هدفون شیائومی مدل Quantie</td>\n",
              "      <td>8</td>\n",
              "      <td>7</td>\n",
              "      <td>با سلام  من  این محصولو یه هفته پیش خریدم و کم...</td>\n",
              "      <td>1.000000</td>\n",
              "    </tr>\n",
              "    <tr>\n",
              "      <th>32</th>\n",
              "      <td>130386</td>\n",
              "      <td>هدست واقعیت مجازی سامسونگ مدل Gear VR</td>\n",
              "      <td>1</td>\n",
              "      <td>0</td>\n",
              "      <td>سلام. دوستان این هدست با توجه به قیمتش فوق الع...</td>\n",
              "      <td>3.000000</td>\n",
              "    </tr>\n",
              "    <tr>\n",
              "      <th>33</th>\n",
              "      <td>160008</td>\n",
              "      <td>پایه نگهدارنده گوشی موبایل دبلیو کی مدل WA-S01</td>\n",
              "      <td>1</td>\n",
              "      <td>1</td>\n",
              "      <td>یادش بخیر من این محصول عالی رو دو سال پیش برای...</td>\n",
              "      <td>3.000000</td>\n",
              "    </tr>\n",
              "    <tr>\n",
              "      <th>34</th>\n",
              "      <td>93850</td>\n",
              "      <td>نرم افزار آموزشی زبان ساتل انگلیسی شیرین</td>\n",
              "      <td>7</td>\n",
              "      <td>3</td>\n",
              "      <td>همه چی عالیه\\r\\nاستاد نکته هایی میگن که تا حال...</td>\n",
              "      <td>3.000000</td>\n",
              "    </tr>\n",
              "    <tr>\n",
              "      <th>35</th>\n",
              "      <td>154624</td>\n",
              "      <td>شارژر همراه روموس مدل Polymos 20 ظرفیت 20000 م...</td>\n",
              "      <td>1</td>\n",
              "      <td>1</td>\n",
              "      <td>حدود دوسال و نیم هست که5عددش رو خریدیم.یکیش خر...</td>\n",
              "      <td>3.000000</td>\n",
              "    </tr>\n",
              "    <tr>\n",
              "      <th>36</th>\n",
              "      <td>106471</td>\n",
              "      <td>گوشی موبایل هوآوی مدل P8 دو سیم کارت - 64 گیگا...</td>\n",
              "      <td>18</td>\n",
              "      <td>4</td>\n",
              "      <td>عالی و رضایت بخش بدون هیچ مشکلی</td>\n",
              "      <td>3.000000</td>\n",
              "    </tr>\n",
              "    <tr>\n",
              "      <th>37</th>\n",
              "      <td>112714</td>\n",
              "      <td>جاروبرقی فلر مدل VC 206</td>\n",
              "      <td>5</td>\n",
              "      <td>0</td>\n",
              "      <td>خیلی ساده و بی دردسر. امکانت خیلی زیادی نداره ...</td>\n",
              "      <td>3.000000</td>\n",
              "    </tr>\n",
              "    <tr>\n",
              "      <th>38</th>\n",
              "      <td>104427</td>\n",
              "      <td>شارژر همراه هوآوی مدل AP007 ظرفیت 13000 میلی آ...</td>\n",
              "      <td>9</td>\n",
              "      <td>1</td>\n",
              "      <td>با سلام به دوستان\\r\\nاین پاوربانک رو تقریبا 3 ...</td>\n",
              "      <td>3.000000</td>\n",
              "    </tr>\n",
              "    <tr>\n",
              "      <th>39</th>\n",
              "      <td>133709</td>\n",
              "      <td>هدفون بی سیم ای کی جی مدل Y50BT</td>\n",
              "      <td>15</td>\n",
              "      <td>0</td>\n",
              "      <td>اگر بخوام دوباره هدفون بخرم بازم همینو میخرم چ...</td>\n",
              "      <td>3.000000</td>\n",
              "    </tr>\n",
              "    <tr>\n",
              "      <th>40</th>\n",
              "      <td>55495</td>\n",
              "      <td>ادو تویلت زنانه خسوس دل پوزو مدل Halloween حجم...</td>\n",
              "      <td>7</td>\n",
              "      <td>4</td>\n",
              "      <td>من این عطر رو برای هدیه دادن گرفتم، بنابرین وک...</td>\n",
              "      <td>3.000000</td>\n",
              "    </tr>\n",
              "    <tr>\n",
              "      <th>41</th>\n",
              "      <td>121304</td>\n",
              "      <td>هدفون بی سیم سامسونگ مدل Level U Pro</td>\n",
              "      <td>3</td>\n",
              "      <td>0</td>\n",
              "      <td>در هنگام پیاده روی وقتی تو جیبتونه و یا تو دست...</td>\n",
              "      <td>3.000000</td>\n",
              "    </tr>\n",
              "    <tr>\n",
              "      <th>42</th>\n",
              "      <td>150718</td>\n",
              "      <td>لپ تاپ 15 اینچی ایسوس مدل K550VX - A</td>\n",
              "      <td>8</td>\n",
              "      <td>0</td>\n",
              "      <td>من ۲ساله خریدم. اوایل هنگی داشت اما بعد ش روون...</td>\n",
              "      <td>3.000000</td>\n",
              "    </tr>\n",
              "    <tr>\n",
              "      <th>43</th>\n",
              "      <td>154559</td>\n",
              "      <td>فیلتر کابین خودروی سرکان مدل SF 1438</td>\n",
              "      <td>6</td>\n",
              "      <td>0</td>\n",
              "      <td>سلام\\r\\nخوبه جلوی گرد و خاک میگیرهه\\r\\n بو کمت...</td>\n",
              "      <td>3.000000</td>\n",
              "    </tr>\n",
              "    <tr>\n",
              "      <th>44</th>\n",
              "      <td>127328</td>\n",
              "      <td>مودم روتر 4G LTE بی سیم N300 تی پی-لینک مدل TL...</td>\n",
              "      <td>7</td>\n",
              "      <td>1</td>\n",
              "      <td>من این مودم رو یک ساله دارم واقعاااا بی نظیره....</td>\n",
              "      <td>3.000000</td>\n",
              "    </tr>\n",
              "    <tr>\n",
              "      <th>45</th>\n",
              "      <td>162788</td>\n",
              "      <td>تیغه برف پاک کن هلا مدل 2616</td>\n",
              "      <td>1</td>\n",
              "      <td>4</td>\n",
              "      <td>به نظر من این تیغه بهترین تیغه ای هست که من اس...</td>\n",
              "      <td>3.000000</td>\n",
              "    </tr>\n",
              "    <tr>\n",
              "      <th>46</th>\n",
              "      <td>24666</td>\n",
              "      <td>مودم 3G قابل حمل دی-لینک مدل DWR-730/N</td>\n",
              "      <td>3</td>\n",
              "      <td>2</td>\n",
              "      <td>بعد از حدود 8 9 ماه استفاده، به دلایل نامعلوم ...</td>\n",
              "      <td>3.000000</td>\n",
              "    </tr>\n",
              "    <tr>\n",
              "      <th>47</th>\n",
              "      <td>81429</td>\n",
              "      <td>ماژیک سی دی اونر مدل Permanent با قطر نوشتاری ...</td>\n",
              "      <td>2</td>\n",
              "      <td>1</td>\n",
              "      <td>البته من غیر از سی دی (روی کارت بانکی) که استف...</td>\n",
              "      <td>3.000000</td>\n",
              "    </tr>\n",
              "    <tr>\n",
              "      <th>48</th>\n",
              "      <td>58800</td>\n",
              "      <td>چراغ قوه کملیون مدل 9LED</td>\n",
              "      <td>3</td>\n",
              "      <td>6</td>\n",
              "      <td>ارزش خرید نداره. هزینه بیشتر بکنید و گزینه های...</td>\n",
              "      <td>3.000000</td>\n",
              "    </tr>\n",
              "    <tr>\n",
              "      <th>49</th>\n",
              "      <td>149656</td>\n",
              "      <td>گوشی موبایل ال جی مدل K8 K350 دو سیم کارت</td>\n",
              "      <td>5</td>\n",
              "      <td>0</td>\n",
              "      <td>سلام بعد دوسال استفاده \\r\\nعالیه از همه نظر \\r...</td>\n",
              "      <td>3.000000</td>\n",
              "    </tr>\n",
              "  </tbody>\n",
              "</table>\n",
              "</div>"
            ],
            "text/plain": [
              "    product_id  ... recommend\n",
              "0         3692  ...       NaN\n",
              "1        90213  ...  3.000000\n",
              "2        59473  ...  1.000000\n",
              "3       120499  ...  0.000000\n",
              "4        67200  ...  0.000000\n",
              "5       133722  ...  3.000000\n",
              "6       148509  ...  3.000000\n",
              "7        56871  ...  2.000000\n",
              "8        49738  ...  1.000000\n",
              "9       161548  ...  0.000000\n",
              "10        5107  ...  3.000000\n",
              "11      156041  ...  3.000000\n",
              "12      134367  ...  3.000000\n",
              "13      114006  ...  3.000000\n",
              "14      151402  ...  3.000000\n",
              "15      146879  ...  3.000000\n",
              "16       81254  ...  2.000000\n",
              "17       26368  ...  1.000000\n",
              "18       90894  ...  0.000000\n",
              "19       21340  ...  0.500000\n",
              "20      144139  ...  1.000000\n",
              "21      138040  ...  1.666667\n",
              "22      105719  ...  2.333333\n",
              "23      147165  ...  3.000000\n",
              "24      116387  ...  3.000000\n",
              "25       73064  ...  3.000000\n",
              "26      110040  ...  3.000000\n",
              "27      139131  ...  3.000000\n",
              "28       80854  ...  3.000000\n",
              "29      163519  ...  3.000000\n",
              "30      102068  ...  3.000000\n",
              "31      129988  ...  1.000000\n",
              "32      130386  ...  3.000000\n",
              "33      160008  ...  3.000000\n",
              "34       93850  ...  3.000000\n",
              "35      154624  ...  3.000000\n",
              "36      106471  ...  3.000000\n",
              "37      112714  ...  3.000000\n",
              "38      104427  ...  3.000000\n",
              "39      133709  ...  3.000000\n",
              "40       55495  ...  3.000000\n",
              "41      121304  ...  3.000000\n",
              "42      150718  ...  3.000000\n",
              "43      154559  ...  3.000000\n",
              "44      127328  ...  3.000000\n",
              "45      162788  ...  3.000000\n",
              "46       24666  ...  3.000000\n",
              "47       81429  ...  3.000000\n",
              "48       58800  ...  3.000000\n",
              "49      149656  ...  3.000000\n",
              "\n",
              "[50 rows x 6 columns]"
            ]
          },
          "metadata": {
            "tags": []
          },
          "execution_count": 28
        }
      ]
    },
    {
      "cell_type": "code",
      "metadata": {
        "colab": {
          "base_uri": "https://localhost:8080/"
        },
        "id": "Vo5P9TFTHOM-",
        "outputId": "6f79c5ad-2b15-4b4e-db1b-2a81a402b993"
      },
      "source": [
        "df1.isnull().sum()"
      ],
      "execution_count": 29,
      "outputs": [
        {
          "output_type": "execute_result",
          "data": {
            "text/plain": [
              "product_id         0\n",
              "product_title      0\n",
              "likes              0\n",
              "dislikes           0\n",
              "comment          118\n",
              "recommend          1\n",
              "dtype: int64"
            ]
          },
          "metadata": {
            "tags": []
          },
          "execution_count": 29
        }
      ]
    },
    {
      "cell_type": "code",
      "metadata": {
        "colab": {
          "base_uri": "https://localhost:8080/"
        },
        "id": "rINchT3qHRXz",
        "outputId": "19c6b153-85d0-4e83-9412-11595849a202"
      },
      "source": [
        "df1.dropna(inplace=True)\r\n",
        "df1.isnull().sum()"
      ],
      "execution_count": 30,
      "outputs": [
        {
          "output_type": "stream",
          "text": [
            "/usr/local/lib/python3.6/dist-packages/ipykernel_launcher.py:1: SettingWithCopyWarning: \n",
            "A value is trying to be set on a copy of a slice from a DataFrame\n",
            "\n",
            "See the caveats in the documentation: https://pandas.pydata.org/pandas-docs/stable/user_guide/indexing.html#returning-a-view-versus-a-copy\n",
            "  \"\"\"Entry point for launching an IPython kernel.\n"
          ],
          "name": "stderr"
        },
        {
          "output_type": "execute_result",
          "data": {
            "text/plain": [
              "product_id       0\n",
              "product_title    0\n",
              "likes            0\n",
              "dislikes         0\n",
              "comment          0\n",
              "recommend        0\n",
              "dtype: int64"
            ]
          },
          "metadata": {
            "tags": []
          },
          "execution_count": 30
        }
      ]
    },
    {
      "cell_type": "markdown",
      "metadata": {
        "id": "GwgO2Vj9MmKi"
      },
      "source": [
        "## handling NULL values is DONE!!! "
      ]
    },
    {
      "cell_type": "code",
      "metadata": {
        "id": "W3xiFSOcOBkb"
      },
      "source": [
        "# df1.to_csv('preprocessed_item_recomm.csv',index=False, encoding='utf-8-sig')"
      ],
      "execution_count": 31,
      "outputs": []
    },
    {
      "cell_type": "code",
      "metadata": {
        "colab": {
          "base_uri": "https://localhost:8080/"
        },
        "id": "MU9fp8QwnLB5",
        "outputId": "e50f68cc-c044-4460-edbf-9a7b7e06f63d"
      },
      "source": [
        "prep_df = pd.read_csv('/content/drive/MyDrive/Clustering_according_to_item_popularity/preprocessed_item_recomm.csv')\r\n",
        "prep_df['recommend']=prep_df['recommend'].round()\r\n",
        "prep_df['recommend'] = pd.to_numeric(prep_df['recommend'], downcast='integer')\r\n",
        "inv_tr=le.inverse_transform(prep_df['recommend'])\r\n",
        "inv_tr"
      ],
      "execution_count": 32,
      "outputs": [
        {
          "output_type": "execute_result",
          "data": {
            "text/plain": [
              "array(['recommended', 'not_recommended', 'no_idea', ..., 'recommended',\n",
              "       'no_idea', 'no_idea'], dtype=object)"
            ]
          },
          "metadata": {
            "tags": []
          },
          "execution_count": 32
        }
      ]
    },
    {
      "cell_type": "code",
      "metadata": {
        "colab": {
          "base_uri": "https://localhost:8080/"
        },
        "id": "5wcmmAxS2Oa3",
        "outputId": "98fcde5f-ea9e-4be0-c589-2ac719f6af9e"
      },
      "source": [
        "prep_df.info()"
      ],
      "execution_count": 33,
      "outputs": [
        {
          "output_type": "stream",
          "text": [
            "<class 'pandas.core.frame.DataFrame'>\n",
            "RangeIndex: 99881 entries, 0 to 99880\n",
            "Data columns (total 6 columns):\n",
            " #   Column         Non-Null Count  Dtype \n",
            "---  ------         --------------  ----- \n",
            " 0   product_id     99881 non-null  int64 \n",
            " 1   product_title  99881 non-null  object\n",
            " 2   likes          99881 non-null  int64 \n",
            " 3   dislikes       99881 non-null  int64 \n",
            " 4   comment        99881 non-null  object\n",
            " 5   recommend      99881 non-null  int8  \n",
            "dtypes: int64(3), int8(1), object(2)\n",
            "memory usage: 3.9+ MB\n"
          ],
          "name": "stdout"
        }
      ]
    },
    {
      "cell_type": "code",
      "metadata": {
        "colab": {
          "base_uri": "https://localhost:8080/",
          "height": 206
        },
        "id": "2-6mvULRpDGh",
        "outputId": "3a913470-463b-416a-d5e5-a28070191105"
      },
      "source": [
        "dummies = pd.get_dummies(prep_df['recommend'])\r\n",
        "dummies.head()"
      ],
      "execution_count": 34,
      "outputs": [
        {
          "output_type": "execute_result",
          "data": {
            "text/html": [
              "<div>\n",
              "<style scoped>\n",
              "    .dataframe tbody tr th:only-of-type {\n",
              "        vertical-align: middle;\n",
              "    }\n",
              "\n",
              "    .dataframe tbody tr th {\n",
              "        vertical-align: top;\n",
              "    }\n",
              "\n",
              "    .dataframe thead th {\n",
              "        text-align: right;\n",
              "    }\n",
              "</style>\n",
              "<table border=\"1\" class=\"dataframe\">\n",
              "  <thead>\n",
              "    <tr style=\"text-align: right;\">\n",
              "      <th></th>\n",
              "      <th>0</th>\n",
              "      <th>1</th>\n",
              "      <th>2</th>\n",
              "      <th>3</th>\n",
              "    </tr>\n",
              "  </thead>\n",
              "  <tbody>\n",
              "    <tr>\n",
              "      <th>0</th>\n",
              "      <td>0</td>\n",
              "      <td>0</td>\n",
              "      <td>0</td>\n",
              "      <td>1</td>\n",
              "    </tr>\n",
              "    <tr>\n",
              "      <th>1</th>\n",
              "      <td>0</td>\n",
              "      <td>1</td>\n",
              "      <td>0</td>\n",
              "      <td>0</td>\n",
              "    </tr>\n",
              "    <tr>\n",
              "      <th>2</th>\n",
              "      <td>1</td>\n",
              "      <td>0</td>\n",
              "      <td>0</td>\n",
              "      <td>0</td>\n",
              "    </tr>\n",
              "    <tr>\n",
              "      <th>3</th>\n",
              "      <td>1</td>\n",
              "      <td>0</td>\n",
              "      <td>0</td>\n",
              "      <td>0</td>\n",
              "    </tr>\n",
              "    <tr>\n",
              "      <th>4</th>\n",
              "      <td>0</td>\n",
              "      <td>0</td>\n",
              "      <td>0</td>\n",
              "      <td>1</td>\n",
              "    </tr>\n",
              "  </tbody>\n",
              "</table>\n",
              "</div>"
            ],
            "text/plain": [
              "   0  1  2  3\n",
              "0  0  0  0  1\n",
              "1  0  1  0  0\n",
              "2  1  0  0  0\n",
              "3  1  0  0  0\n",
              "4  0  0  0  1"
            ]
          },
          "metadata": {
            "tags": []
          },
          "execution_count": 34
        }
      ]
    },
    {
      "cell_type": "markdown",
      "metadata": {
        "id": "RwQQwmd8pcPP"
      },
      "source": [
        "recommended: 3  \r\n",
        "not_recommended: 1  \r\n",
        "no_idea: 0 "
      ]
    },
    {
      "cell_type": "code",
      "metadata": {
        "colab": {
          "base_uri": "https://localhost:8080/",
          "height": 537
        },
        "id": "pAGdHB7Yzt2T",
        "outputId": "79c217ae-9e70-4b23-9741-adc4f8fab583"
      },
      "source": [
        "prep_df['recommended'] = dummies.iloc[:, 3]\r\n",
        "prep_df['not_recommended'] = dummies.iloc[:, 1]\r\n",
        "prep_df['no_idea'] = dummies.iloc[:, 0]\r\n",
        "prep_df.drop(columns=['recommend'], inplace=True)\r\n",
        "prep_df.head(10)"
      ],
      "execution_count": 35,
      "outputs": [
        {
          "output_type": "execute_result",
          "data": {
            "text/html": [
              "<div>\n",
              "<style scoped>\n",
              "    .dataframe tbody tr th:only-of-type {\n",
              "        vertical-align: middle;\n",
              "    }\n",
              "\n",
              "    .dataframe tbody tr th {\n",
              "        vertical-align: top;\n",
              "    }\n",
              "\n",
              "    .dataframe thead th {\n",
              "        text-align: right;\n",
              "    }\n",
              "</style>\n",
              "<table border=\"1\" class=\"dataframe\">\n",
              "  <thead>\n",
              "    <tr style=\"text-align: right;\">\n",
              "      <th></th>\n",
              "      <th>product_id</th>\n",
              "      <th>product_title</th>\n",
              "      <th>likes</th>\n",
              "      <th>dislikes</th>\n",
              "      <th>comment</th>\n",
              "      <th>recommended</th>\n",
              "      <th>not_recommended</th>\n",
              "      <th>no_idea</th>\n",
              "    </tr>\n",
              "  </thead>\n",
              "  <tbody>\n",
              "    <tr>\n",
              "      <th>0</th>\n",
              "      <td>90213</td>\n",
              "      <td>شارژر همراه شیاومی مدل NDY-02-AN با ظرفیت 1000...</td>\n",
              "      <td>4</td>\n",
              "      <td>1</td>\n",
              "      <td>سلام، قبل اینکه نظرم رو بگم میخواستم به یک موض...</td>\n",
              "      <td>1</td>\n",
              "      <td>0</td>\n",
              "      <td>0</td>\n",
              "    </tr>\n",
              "    <tr>\n",
              "      <th>1</th>\n",
              "      <td>59473</td>\n",
              "      <td>یدک پولیشر میکروفایبر مهسان مدل 20119</td>\n",
              "      <td>1</td>\n",
              "      <td>0</td>\n",
              "      <td>گیره های فلزی خیلی سخت تا میشوند و لذا حوله را...</td>\n",
              "      <td>0</td>\n",
              "      <td>1</td>\n",
              "      <td>0</td>\n",
              "    </tr>\n",
              "    <tr>\n",
              "      <th>2</th>\n",
              "      <td>120499</td>\n",
              "      <td>گوشی موبایل هوآوی آنر مدل 5X KIW-L21 دو سیم‌کارت</td>\n",
              "      <td>6</td>\n",
              "      <td>11</td>\n",
              "      <td>همه چیز در رابطه با ظاهر این گوشی بسیار خوب اس...</td>\n",
              "      <td>0</td>\n",
              "      <td>0</td>\n",
              "      <td>1</td>\n",
              "    </tr>\n",
              "    <tr>\n",
              "      <th>3</th>\n",
              "      <td>67200</td>\n",
              "      <td>شارژر همراه شیائومی مدل Mi ظرفیت 5000 میلی آمپ...</td>\n",
              "      <td>19</td>\n",
              "      <td>4</td>\n",
              "      <td>اگر ظرفیتش براتون کافیه حتما بخرید.\\r\\nیه شارژ...</td>\n",
              "      <td>0</td>\n",
              "      <td>0</td>\n",
              "      <td>1</td>\n",
              "    </tr>\n",
              "    <tr>\n",
              "      <th>4</th>\n",
              "      <td>133722</td>\n",
              "      <td>لپ تاپ 15 اینچی ایسوس مدل N501VW - A</td>\n",
              "      <td>6</td>\n",
              "      <td>1</td>\n",
              "      <td>سلام دوستان،،\\r\\nمنم مثه بعضی از دوستان قبل از...</td>\n",
              "      <td>1</td>\n",
              "      <td>0</td>\n",
              "      <td>0</td>\n",
              "    </tr>\n",
              "    <tr>\n",
              "      <th>5</th>\n",
              "      <td>148509</td>\n",
              "      <td>اسپیکر بلوتوثی دیووم مدل Bluetune bean</td>\n",
              "      <td>3</td>\n",
              "      <td>0</td>\n",
              "      <td>من چند سالی هست که این اسپیکرو خریدم و واقعا ح...</td>\n",
              "      <td>1</td>\n",
              "      <td>0</td>\n",
              "      <td>0</td>\n",
              "    </tr>\n",
              "    <tr>\n",
              "      <th>6</th>\n",
              "      <td>56871</td>\n",
              "      <td>ادو پرفیوم زنانه امپر مدل Chifon حجم 100 میلی ...</td>\n",
              "      <td>2</td>\n",
              "      <td>2</td>\n",
              "      <td>بوی تند ولی خوشبو داره.ماندگاریش خوبه و هر چقد...</td>\n",
              "      <td>0</td>\n",
              "      <td>0</td>\n",
              "      <td>0</td>\n",
              "    </tr>\n",
              "    <tr>\n",
              "      <th>7</th>\n",
              "      <td>49738</td>\n",
              "      <td>ماشین اصلاح صورت رمینگتون مدل MB4555</td>\n",
              "      <td>2</td>\n",
              "      <td>1</td>\n",
              "      <td>متاسفانه عمر مفید این ماشین کم هست و بعد از دو...</td>\n",
              "      <td>0</td>\n",
              "      <td>1</td>\n",
              "      <td>0</td>\n",
              "    </tr>\n",
              "    <tr>\n",
              "      <th>8</th>\n",
              "      <td>161548</td>\n",
              "      <td>فلاسک هنری مدل Virginia Special ظرفیت 1.9 لیتر</td>\n",
              "      <td>1</td>\n",
              "      <td>0</td>\n",
              "      <td>خوب بودممنون</td>\n",
              "      <td>0</td>\n",
              "      <td>0</td>\n",
              "      <td>1</td>\n",
              "    </tr>\n",
              "    <tr>\n",
              "      <th>9</th>\n",
              "      <td>5107</td>\n",
              "      <td>هارددیسک اکسترنال سیگیت مدل Backup Plus Deskto...</td>\n",
              "      <td>1</td>\n",
              "      <td>0</td>\n",
              "      <td>نزدیک به دو ساله که این هارد رو خریدم. استفاده...</td>\n",
              "      <td>1</td>\n",
              "      <td>0</td>\n",
              "      <td>0</td>\n",
              "    </tr>\n",
              "  </tbody>\n",
              "</table>\n",
              "</div>"
            ],
            "text/plain": [
              "   product_id  ... no_idea\n",
              "0       90213  ...       0\n",
              "1       59473  ...       0\n",
              "2      120499  ...       1\n",
              "3       67200  ...       1\n",
              "4      133722  ...       0\n",
              "5      148509  ...       0\n",
              "6       56871  ...       0\n",
              "7       49738  ...       0\n",
              "8      161548  ...       1\n",
              "9        5107  ...       0\n",
              "\n",
              "[10 rows x 8 columns]"
            ]
          },
          "metadata": {
            "tags": []
          },
          "execution_count": 35
        }
      ]
    },
    {
      "cell_type": "markdown",
      "metadata": {
        "id": "0Nyi8pvF2jj8"
      },
      "source": [
        "Here we aim to obtain sum of number times an item has been recommended "
      ]
    },
    {
      "cell_type": "code",
      "metadata": {
        "colab": {
          "base_uri": "https://localhost:8080/",
          "height": 363
        },
        "id": "JpdmCnOe22jW",
        "outputId": "f8c38923-af1a-4be8-ab81-db2d16722576"
      },
      "source": [
        "sum_of_recomm = prep_df.groupby(by=['product_id'], as_index=False).sum()\r\n",
        "sum_of_recomm.head(10)\r\n"
      ],
      "execution_count": 36,
      "outputs": [
        {
          "output_type": "execute_result",
          "data": {
            "text/html": [
              "<div>\n",
              "<style scoped>\n",
              "    .dataframe tbody tr th:only-of-type {\n",
              "        vertical-align: middle;\n",
              "    }\n",
              "\n",
              "    .dataframe tbody tr th {\n",
              "        vertical-align: top;\n",
              "    }\n",
              "\n",
              "    .dataframe thead th {\n",
              "        text-align: right;\n",
              "    }\n",
              "</style>\n",
              "<table border=\"1\" class=\"dataframe\">\n",
              "  <thead>\n",
              "    <tr style=\"text-align: right;\">\n",
              "      <th></th>\n",
              "      <th>product_id</th>\n",
              "      <th>likes</th>\n",
              "      <th>dislikes</th>\n",
              "      <th>recommended</th>\n",
              "      <th>not_recommended</th>\n",
              "      <th>no_idea</th>\n",
              "    </tr>\n",
              "  </thead>\n",
              "  <tbody>\n",
              "    <tr>\n",
              "      <th>0</th>\n",
              "      <td>300</td>\n",
              "      <td>5</td>\n",
              "      <td>1</td>\n",
              "      <td>2</td>\n",
              "      <td>1</td>\n",
              "      <td>0</td>\n",
              "    </tr>\n",
              "    <tr>\n",
              "      <th>1</th>\n",
              "      <td>310</td>\n",
              "      <td>2</td>\n",
              "      <td>0</td>\n",
              "      <td>1</td>\n",
              "      <td>0</td>\n",
              "      <td>0</td>\n",
              "    </tr>\n",
              "    <tr>\n",
              "      <th>2</th>\n",
              "      <td>352</td>\n",
              "      <td>0</td>\n",
              "      <td>0</td>\n",
              "      <td>0</td>\n",
              "      <td>0</td>\n",
              "      <td>1</td>\n",
              "    </tr>\n",
              "    <tr>\n",
              "      <th>3</th>\n",
              "      <td>363</td>\n",
              "      <td>0</td>\n",
              "      <td>0</td>\n",
              "      <td>1</td>\n",
              "      <td>0</td>\n",
              "      <td>0</td>\n",
              "    </tr>\n",
              "    <tr>\n",
              "      <th>4</th>\n",
              "      <td>423</td>\n",
              "      <td>0</td>\n",
              "      <td>0</td>\n",
              "      <td>1</td>\n",
              "      <td>0</td>\n",
              "      <td>0</td>\n",
              "    </tr>\n",
              "    <tr>\n",
              "      <th>5</th>\n",
              "      <td>481</td>\n",
              "      <td>1</td>\n",
              "      <td>0</td>\n",
              "      <td>0</td>\n",
              "      <td>0</td>\n",
              "      <td>0</td>\n",
              "    </tr>\n",
              "    <tr>\n",
              "      <th>6</th>\n",
              "      <td>482</td>\n",
              "      <td>1</td>\n",
              "      <td>1</td>\n",
              "      <td>1</td>\n",
              "      <td>0</td>\n",
              "      <td>0</td>\n",
              "    </tr>\n",
              "    <tr>\n",
              "      <th>7</th>\n",
              "      <td>485</td>\n",
              "      <td>0</td>\n",
              "      <td>0</td>\n",
              "      <td>0</td>\n",
              "      <td>0</td>\n",
              "      <td>0</td>\n",
              "    </tr>\n",
              "    <tr>\n",
              "      <th>8</th>\n",
              "      <td>496</td>\n",
              "      <td>0</td>\n",
              "      <td>0</td>\n",
              "      <td>0</td>\n",
              "      <td>0</td>\n",
              "      <td>1</td>\n",
              "    </tr>\n",
              "    <tr>\n",
              "      <th>9</th>\n",
              "      <td>515</td>\n",
              "      <td>9</td>\n",
              "      <td>0</td>\n",
              "      <td>1</td>\n",
              "      <td>0</td>\n",
              "      <td>0</td>\n",
              "    </tr>\n",
              "  </tbody>\n",
              "</table>\n",
              "</div>"
            ],
            "text/plain": [
              "   product_id  likes  dislikes  recommended  not_recommended  no_idea\n",
              "0         300      5         1            2                1        0\n",
              "1         310      2         0            1                0        0\n",
              "2         352      0         0            0                0        1\n",
              "3         363      0         0            1                0        0\n",
              "4         423      0         0            1                0        0\n",
              "5         481      1         0            0                0        0\n",
              "6         482      1         1            1                0        0\n",
              "7         485      0         0            0                0        0\n",
              "8         496      0         0            0                0        1\n",
              "9         515      9         0            1                0        0"
            ]
          },
          "metadata": {
            "tags": []
          },
          "execution_count": 36
        }
      ]
    },
    {
      "cell_type": "markdown",
      "metadata": {
        "id": "mey_uZPj600X"
      },
      "source": [
        "Drop duplicates here\r\n",
        "\r\n"
      ]
    },
    {
      "cell_type": "code",
      "metadata": {
        "colab": {
          "base_uri": "https://localhost:8080/",
          "height": 206
        },
        "id": "Gvfiy9hK3nJa",
        "outputId": "8277503b-cc86-4d15-8edf-a2ff7675c3d3"
      },
      "source": [
        "unique_products = prep_df.filter(['product_id', 'product_title'])\r\n",
        "unique_products.drop_duplicates(subset='product_id', inplace=True, keep='first')\r\n",
        "unique_products.head()"
      ],
      "execution_count": 37,
      "outputs": [
        {
          "output_type": "execute_result",
          "data": {
            "text/html": [
              "<div>\n",
              "<style scoped>\n",
              "    .dataframe tbody tr th:only-of-type {\n",
              "        vertical-align: middle;\n",
              "    }\n",
              "\n",
              "    .dataframe tbody tr th {\n",
              "        vertical-align: top;\n",
              "    }\n",
              "\n",
              "    .dataframe thead th {\n",
              "        text-align: right;\n",
              "    }\n",
              "</style>\n",
              "<table border=\"1\" class=\"dataframe\">\n",
              "  <thead>\n",
              "    <tr style=\"text-align: right;\">\n",
              "      <th></th>\n",
              "      <th>product_id</th>\n",
              "      <th>product_title</th>\n",
              "    </tr>\n",
              "  </thead>\n",
              "  <tbody>\n",
              "    <tr>\n",
              "      <th>0</th>\n",
              "      <td>90213</td>\n",
              "      <td>شارژر همراه شیاومی مدل NDY-02-AN با ظرفیت 1000...</td>\n",
              "    </tr>\n",
              "    <tr>\n",
              "      <th>1</th>\n",
              "      <td>59473</td>\n",
              "      <td>یدک پولیشر میکروفایبر مهسان مدل 20119</td>\n",
              "    </tr>\n",
              "    <tr>\n",
              "      <th>2</th>\n",
              "      <td>120499</td>\n",
              "      <td>گوشی موبایل هوآوی آنر مدل 5X KIW-L21 دو سیم‌کارت</td>\n",
              "    </tr>\n",
              "    <tr>\n",
              "      <th>3</th>\n",
              "      <td>67200</td>\n",
              "      <td>شارژر همراه شیائومی مدل Mi ظرفیت 5000 میلی آمپ...</td>\n",
              "    </tr>\n",
              "    <tr>\n",
              "      <th>4</th>\n",
              "      <td>133722</td>\n",
              "      <td>لپ تاپ 15 اینچی ایسوس مدل N501VW - A</td>\n",
              "    </tr>\n",
              "  </tbody>\n",
              "</table>\n",
              "</div>"
            ],
            "text/plain": [
              "   product_id                                      product_title\n",
              "0       90213  شارژر همراه شیاومی مدل NDY-02-AN با ظرفیت 1000...\n",
              "1       59473              یدک پولیشر میکروفایبر مهسان مدل 20119\n",
              "2      120499   گوشی موبایل هوآوی آنر مدل 5X KIW-L21 دو سیم‌کارت\n",
              "3       67200  شارژر همراه شیائومی مدل Mi ظرفیت 5000 میلی آمپ...\n",
              "4      133722               لپ تاپ 15 اینچی ایسوس مدل N501VW - A"
            ]
          },
          "metadata": {
            "tags": []
          },
          "execution_count": 37
        }
      ]
    },
    {
      "cell_type": "code",
      "metadata": {
        "colab": {
          "base_uri": "https://localhost:8080/"
        },
        "id": "eCPTXrDXM-0d",
        "outputId": "a0bee3f9-3c1a-4311-a82a-f6a1c6e5aec0"
      },
      "source": [
        "unique_products.info()"
      ],
      "execution_count": 38,
      "outputs": [
        {
          "output_type": "stream",
          "text": [
            "<class 'pandas.core.frame.DataFrame'>\n",
            "Int64Index: 50189 entries, 0 to 99879\n",
            "Data columns (total 2 columns):\n",
            " #   Column         Non-Null Count  Dtype \n",
            "---  ------         --------------  ----- \n",
            " 0   product_id     50189 non-null  int64 \n",
            " 1   product_title  50189 non-null  object\n",
            "dtypes: int64(1), object(1)\n",
            "memory usage: 1.1+ MB\n"
          ],
          "name": "stdout"
        }
      ]
    },
    {
      "cell_type": "markdown",
      "metadata": {
        "id": "0cqma277N0yM"
      },
      "source": [
        "More than 49000 products with duplicate records were deleted as a result\r\n",
        "let's save the preproccessed dataframe upto now"
      ]
    },
    {
      "cell_type": "code",
      "metadata": {
        "colab": {
          "base_uri": "https://localhost:8080/",
          "height": 206
        },
        "id": "6CmUJjdT0loO",
        "outputId": "f6aef35e-05b3-4334-c253-e2e0d9b30094"
      },
      "source": [
        "final_df = pd.merge(sum_of_recomm,unique_products,on=\"product_id\")\r\n",
        "final_df.head()"
      ],
      "execution_count": 39,
      "outputs": [
        {
          "output_type": "execute_result",
          "data": {
            "text/html": [
              "<div>\n",
              "<style scoped>\n",
              "    .dataframe tbody tr th:only-of-type {\n",
              "        vertical-align: middle;\n",
              "    }\n",
              "\n",
              "    .dataframe tbody tr th {\n",
              "        vertical-align: top;\n",
              "    }\n",
              "\n",
              "    .dataframe thead th {\n",
              "        text-align: right;\n",
              "    }\n",
              "</style>\n",
              "<table border=\"1\" class=\"dataframe\">\n",
              "  <thead>\n",
              "    <tr style=\"text-align: right;\">\n",
              "      <th></th>\n",
              "      <th>product_id</th>\n",
              "      <th>likes</th>\n",
              "      <th>dislikes</th>\n",
              "      <th>recommended</th>\n",
              "      <th>not_recommended</th>\n",
              "      <th>no_idea</th>\n",
              "      <th>product_title</th>\n",
              "    </tr>\n",
              "  </thead>\n",
              "  <tbody>\n",
              "    <tr>\n",
              "      <th>0</th>\n",
              "      <td>300</td>\n",
              "      <td>5</td>\n",
              "      <td>1</td>\n",
              "      <td>2</td>\n",
              "      <td>1</td>\n",
              "      <td>0</td>\n",
              "      <td>پرینتر لیزری اچ پی مدل LaserJet P2035</td>\n",
              "    </tr>\n",
              "    <tr>\n",
              "      <th>1</th>\n",
              "      <td>310</td>\n",
              "      <td>2</td>\n",
              "      <td>0</td>\n",
              "      <td>1</td>\n",
              "      <td>0</td>\n",
              "      <td>0</td>\n",
              "      <td>اچ پی لیزر جت پی 2055 دی</td>\n",
              "    </tr>\n",
              "    <tr>\n",
              "      <th>2</th>\n",
              "      <td>352</td>\n",
              "      <td>0</td>\n",
              "      <td>0</td>\n",
              "      <td>0</td>\n",
              "      <td>0</td>\n",
              "      <td>1</td>\n",
              "      <td>گوشی موبایل نوکیا 5800 نویگیشن ادیشن</td>\n",
              "    </tr>\n",
              "    <tr>\n",
              "      <th>3</th>\n",
              "      <td>363</td>\n",
              "      <td>0</td>\n",
              "      <td>0</td>\n",
              "      <td>1</td>\n",
              "      <td>0</td>\n",
              "      <td>0</td>\n",
              "      <td>گوشی موبایل نوکیا 6303 کلاسیک</td>\n",
              "    </tr>\n",
              "    <tr>\n",
              "      <th>4</th>\n",
              "      <td>423</td>\n",
              "      <td>0</td>\n",
              "      <td>0</td>\n",
              "      <td>1</td>\n",
              "      <td>0</td>\n",
              "      <td>0</td>\n",
              "      <td>لپ تاپ ایسر اسپایر 5738 زد جی</td>\n",
              "    </tr>\n",
              "  </tbody>\n",
              "</table>\n",
              "</div>"
            ],
            "text/plain": [
              "   product_id  likes  ...  no_idea                          product_title\n",
              "0         300      5  ...        0  پرینتر لیزری اچ پی مدل LaserJet P2035\n",
              "1         310      2  ...        0               اچ پی لیزر جت پی 2055 دی\n",
              "2         352      0  ...        1   گوشی موبایل نوکیا 5800 نویگیشن ادیشن\n",
              "3         363      0  ...        0          گوشی موبایل نوکیا 6303 کلاسیک\n",
              "4         423      0  ...        0          لپ تاپ ایسر اسپایر 5738 زد جی\n",
              "\n",
              "[5 rows x 7 columns]"
            ]
          },
          "metadata": {
            "tags": []
          },
          "execution_count": 39
        }
      ]
    },
    {
      "cell_type": "code",
      "metadata": {
        "colab": {
          "base_uri": "https://localhost:8080/",
          "height": 1000
        },
        "id": "9iI-oQ5y2NRL",
        "outputId": "97e0cccf-5dba-408e-f0eb-9683e79b7c80"
      },
      "source": [
        "final_df.head(50)"
      ],
      "execution_count": 40,
      "outputs": [
        {
          "output_type": "execute_result",
          "data": {
            "text/html": [
              "<div>\n",
              "<style scoped>\n",
              "    .dataframe tbody tr th:only-of-type {\n",
              "        vertical-align: middle;\n",
              "    }\n",
              "\n",
              "    .dataframe tbody tr th {\n",
              "        vertical-align: top;\n",
              "    }\n",
              "\n",
              "    .dataframe thead th {\n",
              "        text-align: right;\n",
              "    }\n",
              "</style>\n",
              "<table border=\"1\" class=\"dataframe\">\n",
              "  <thead>\n",
              "    <tr style=\"text-align: right;\">\n",
              "      <th></th>\n",
              "      <th>product_id</th>\n",
              "      <th>likes</th>\n",
              "      <th>dislikes</th>\n",
              "      <th>recommended</th>\n",
              "      <th>not_recommended</th>\n",
              "      <th>no_idea</th>\n",
              "      <th>product_title</th>\n",
              "    </tr>\n",
              "  </thead>\n",
              "  <tbody>\n",
              "    <tr>\n",
              "      <th>0</th>\n",
              "      <td>300</td>\n",
              "      <td>5</td>\n",
              "      <td>1</td>\n",
              "      <td>2</td>\n",
              "      <td>1</td>\n",
              "      <td>0</td>\n",
              "      <td>پرینتر لیزری اچ پی مدل LaserJet P2035</td>\n",
              "    </tr>\n",
              "    <tr>\n",
              "      <th>1</th>\n",
              "      <td>310</td>\n",
              "      <td>2</td>\n",
              "      <td>0</td>\n",
              "      <td>1</td>\n",
              "      <td>0</td>\n",
              "      <td>0</td>\n",
              "      <td>اچ پی لیزر جت پی 2055 دی</td>\n",
              "    </tr>\n",
              "    <tr>\n",
              "      <th>2</th>\n",
              "      <td>352</td>\n",
              "      <td>0</td>\n",
              "      <td>0</td>\n",
              "      <td>0</td>\n",
              "      <td>0</td>\n",
              "      <td>1</td>\n",
              "      <td>گوشی موبایل نوکیا 5800 نویگیشن ادیشن</td>\n",
              "    </tr>\n",
              "    <tr>\n",
              "      <th>3</th>\n",
              "      <td>363</td>\n",
              "      <td>0</td>\n",
              "      <td>0</td>\n",
              "      <td>1</td>\n",
              "      <td>0</td>\n",
              "      <td>0</td>\n",
              "      <td>گوشی موبایل نوکیا 6303 کلاسیک</td>\n",
              "    </tr>\n",
              "    <tr>\n",
              "      <th>4</th>\n",
              "      <td>423</td>\n",
              "      <td>0</td>\n",
              "      <td>0</td>\n",
              "      <td>1</td>\n",
              "      <td>0</td>\n",
              "      <td>0</td>\n",
              "      <td>لپ تاپ ایسر اسپایر 5738 زد جی</td>\n",
              "    </tr>\n",
              "    <tr>\n",
              "      <th>5</th>\n",
              "      <td>481</td>\n",
              "      <td>1</td>\n",
              "      <td>0</td>\n",
              "      <td>0</td>\n",
              "      <td>0</td>\n",
              "      <td>0</td>\n",
              "      <td>سونی پلی استیشن 2</td>\n",
              "    </tr>\n",
              "    <tr>\n",
              "      <th>6</th>\n",
              "      <td>482</td>\n",
              "      <td>1</td>\n",
              "      <td>1</td>\n",
              "      <td>1</td>\n",
              "      <td>0</td>\n",
              "      <td>0</td>\n",
              "      <td>سونی پلی استیشن پورتابل (پی اس پی) - 3000</td>\n",
              "    </tr>\n",
              "    <tr>\n",
              "      <th>7</th>\n",
              "      <td>485</td>\n",
              "      <td>0</td>\n",
              "      <td>0</td>\n",
              "      <td>0</td>\n",
              "      <td>0</td>\n",
              "      <td>0</td>\n",
              "      <td>گوشی موبایل نوکیا 6500 اسلاید</td>\n",
              "    </tr>\n",
              "    <tr>\n",
              "      <th>8</th>\n",
              "      <td>496</td>\n",
              "      <td>0</td>\n",
              "      <td>0</td>\n",
              "      <td>0</td>\n",
              "      <td>0</td>\n",
              "      <td>1</td>\n",
              "      <td>نینتندو وی</td>\n",
              "    </tr>\n",
              "    <tr>\n",
              "      <th>9</th>\n",
              "      <td>515</td>\n",
              "      <td>9</td>\n",
              "      <td>0</td>\n",
              "      <td>1</td>\n",
              "      <td>0</td>\n",
              "      <td>0</td>\n",
              "      <td>گوشی موبایل نوکیا ان 82</td>\n",
              "    </tr>\n",
              "    <tr>\n",
              "      <th>10</th>\n",
              "      <td>542</td>\n",
              "      <td>0</td>\n",
              "      <td>1</td>\n",
              "      <td>0</td>\n",
              "      <td>0</td>\n",
              "      <td>0</td>\n",
              "      <td>گوشی موبایل نوکیا 1202</td>\n",
              "    </tr>\n",
              "    <tr>\n",
              "      <th>11</th>\n",
              "      <td>553</td>\n",
              "      <td>0</td>\n",
              "      <td>0</td>\n",
              "      <td>0</td>\n",
              "      <td>0</td>\n",
              "      <td>0</td>\n",
              "      <td>گوشی موبایل نوکیا 5700</td>\n",
              "    </tr>\n",
              "    <tr>\n",
              "      <th>12</th>\n",
              "      <td>623</td>\n",
              "      <td>0</td>\n",
              "      <td>1</td>\n",
              "      <td>0</td>\n",
              "      <td>0</td>\n",
              "      <td>1</td>\n",
              "      <td>گوشی موبایل سونی اریکسون کا 970 - اِلم</td>\n",
              "    </tr>\n",
              "    <tr>\n",
              "      <th>13</th>\n",
              "      <td>696</td>\n",
              "      <td>3</td>\n",
              "      <td>0</td>\n",
              "      <td>0</td>\n",
              "      <td>0</td>\n",
              "      <td>0</td>\n",
              "      <td>گوشی موبایل سونی اریکسون کا 810</td>\n",
              "    </tr>\n",
              "    <tr>\n",
              "      <th>14</th>\n",
              "      <td>882</td>\n",
              "      <td>0</td>\n",
              "      <td>0</td>\n",
              "      <td>1</td>\n",
              "      <td>0</td>\n",
              "      <td>0</td>\n",
              "      <td>هارد وسترن دیجیتال پرتابل مای پاسپورت استدیو -...</td>\n",
              "    </tr>\n",
              "    <tr>\n",
              "      <th>15</th>\n",
              "      <td>935</td>\n",
              "      <td>1</td>\n",
              "      <td>0</td>\n",
              "      <td>0</td>\n",
              "      <td>0</td>\n",
              "      <td>0</td>\n",
              "      <td>دوربین فیلمبرداری سونی اچ دی آر-اس آر 11</td>\n",
              "    </tr>\n",
              "    <tr>\n",
              "      <th>16</th>\n",
              "      <td>953</td>\n",
              "      <td>0</td>\n",
              "      <td>0</td>\n",
              "      <td>1</td>\n",
              "      <td>0</td>\n",
              "      <td>0</td>\n",
              "      <td>مانیتور سامسونگ مدل 2033SN سایز 20 اینچ</td>\n",
              "    </tr>\n",
              "    <tr>\n",
              "      <th>17</th>\n",
              "      <td>965</td>\n",
              "      <td>0</td>\n",
              "      <td>0</td>\n",
              "      <td>0</td>\n",
              "      <td>0</td>\n",
              "      <td>1</td>\n",
              "      <td>دوربین دیجیتال کانن پاورشات اس ایکس 20 آی اس</td>\n",
              "    </tr>\n",
              "    <tr>\n",
              "      <th>18</th>\n",
              "      <td>996</td>\n",
              "      <td>0</td>\n",
              "      <td>0</td>\n",
              "      <td>1</td>\n",
              "      <td>0</td>\n",
              "      <td>0</td>\n",
              "      <td>ماوس باسیم فراسو مدل FOM-1380 با رابط USB</td>\n",
              "    </tr>\n",
              "    <tr>\n",
              "      <th>19</th>\n",
              "      <td>1179</td>\n",
              "      <td>1</td>\n",
              "      <td>1</td>\n",
              "      <td>0</td>\n",
              "      <td>0</td>\n",
              "      <td>1</td>\n",
              "      <td>پرینتر مخصوص چاپ عکس اپسون مدل Stylus Photo 1410</td>\n",
              "    </tr>\n",
              "    <tr>\n",
              "      <th>20</th>\n",
              "      <td>1204</td>\n",
              "      <td>0</td>\n",
              "      <td>0</td>\n",
              "      <td>0</td>\n",
              "      <td>0</td>\n",
              "      <td>0</td>\n",
              "      <td>لپ تاپ دل وسترو 1015-D</td>\n",
              "    </tr>\n",
              "    <tr>\n",
              "      <th>21</th>\n",
              "      <td>1317</td>\n",
              "      <td>1</td>\n",
              "      <td>0</td>\n",
              "      <td>1</td>\n",
              "      <td>0</td>\n",
              "      <td>0</td>\n",
              "      <td>گوشی موبایل نوکیا 1203</td>\n",
              "    </tr>\n",
              "    <tr>\n",
              "      <th>22</th>\n",
              "      <td>1334</td>\n",
              "      <td>1</td>\n",
              "      <td>0</td>\n",
              "      <td>1</td>\n",
              "      <td>0</td>\n",
              "      <td>0</td>\n",
              "      <td>اسپیکر کریتیو اینسپایر ام 4500</td>\n",
              "    </tr>\n",
              "    <tr>\n",
              "      <th>23</th>\n",
              "      <td>1336</td>\n",
              "      <td>4</td>\n",
              "      <td>2</td>\n",
              "      <td>2</td>\n",
              "      <td>0</td>\n",
              "      <td>1</td>\n",
              "      <td>اسپیکر کریتیو مدل SBS A60</td>\n",
              "    </tr>\n",
              "    <tr>\n",
              "      <th>24</th>\n",
              "      <td>1339</td>\n",
              "      <td>0</td>\n",
              "      <td>0</td>\n",
              "      <td>0</td>\n",
              "      <td>0</td>\n",
              "      <td>0</td>\n",
              "      <td>اسپیکر ادیفایر ام 3310</td>\n",
              "    </tr>\n",
              "    <tr>\n",
              "      <th>25</th>\n",
              "      <td>1345</td>\n",
              "      <td>0</td>\n",
              "      <td>0</td>\n",
              "      <td>0</td>\n",
              "      <td>0</td>\n",
              "      <td>0</td>\n",
              "      <td>لپ تاپ دل اینسپایرون 1564-C</td>\n",
              "    </tr>\n",
              "    <tr>\n",
              "      <th>26</th>\n",
              "      <td>1464</td>\n",
              "      <td>0</td>\n",
              "      <td>0</td>\n",
              "      <td>0</td>\n",
              "      <td>0</td>\n",
              "      <td>1</td>\n",
              "      <td>کریتیو زن استایل 300 8 گیگابایت</td>\n",
              "    </tr>\n",
              "    <tr>\n",
              "      <th>27</th>\n",
              "      <td>1482</td>\n",
              "      <td>11</td>\n",
              "      <td>4</td>\n",
              "      <td>3</td>\n",
              "      <td>1</td>\n",
              "      <td>0</td>\n",
              "      <td>پرینتر لیزری اچ پی مدل LaserJet P1102</td>\n",
              "    </tr>\n",
              "    <tr>\n",
              "      <th>28</th>\n",
              "      <td>1540</td>\n",
              "      <td>1</td>\n",
              "      <td>2</td>\n",
              "      <td>0</td>\n",
              "      <td>1</td>\n",
              "      <td>0</td>\n",
              "      <td>پرزنتر رادیویی بی سیم</td>\n",
              "    </tr>\n",
              "    <tr>\n",
              "      <th>29</th>\n",
              "      <td>2097</td>\n",
              "      <td>0</td>\n",
              "      <td>0</td>\n",
              "      <td>1</td>\n",
              "      <td>0</td>\n",
              "      <td>0</td>\n",
              "      <td>اپل آی پاد تاچ نسل چهارم - 32 گیگابایت</td>\n",
              "    </tr>\n",
              "    <tr>\n",
              "      <th>30</th>\n",
              "      <td>2118</td>\n",
              "      <td>3</td>\n",
              "      <td>0</td>\n",
              "      <td>1</td>\n",
              "      <td>0</td>\n",
              "      <td>0</td>\n",
              "      <td>اچ پی لیزر جت ام 1132</td>\n",
              "    </tr>\n",
              "    <tr>\n",
              "      <th>31</th>\n",
              "      <td>2179</td>\n",
              "      <td>4</td>\n",
              "      <td>2</td>\n",
              "      <td>1</td>\n",
              "      <td>0</td>\n",
              "      <td>0</td>\n",
              "      <td>اپل آی پاد شافل</td>\n",
              "    </tr>\n",
              "    <tr>\n",
              "      <th>32</th>\n",
              "      <td>2306</td>\n",
              "      <td>0</td>\n",
              "      <td>1</td>\n",
              "      <td>0</td>\n",
              "      <td>0</td>\n",
              "      <td>0</td>\n",
              "      <td>کیبورد فراسو اف سی آر 8910</td>\n",
              "    </tr>\n",
              "    <tr>\n",
              "      <th>33</th>\n",
              "      <td>2535</td>\n",
              "      <td>0</td>\n",
              "      <td>0</td>\n",
              "      <td>1</td>\n",
              "      <td>0</td>\n",
              "      <td>0</td>\n",
              "      <td>فلش مموری ای دیتا مدل C906 ظرفیت 16 گیگابایت</td>\n",
              "    </tr>\n",
              "    <tr>\n",
              "      <th>34</th>\n",
              "      <td>2582</td>\n",
              "      <td>2</td>\n",
              "      <td>1</td>\n",
              "      <td>1</td>\n",
              "      <td>0</td>\n",
              "      <td>0</td>\n",
              "      <td>گوشی موبایل سونی اریکسون اکسپریا پلی</td>\n",
              "    </tr>\n",
              "    <tr>\n",
              "      <th>35</th>\n",
              "      <td>2640</td>\n",
              "      <td>5</td>\n",
              "      <td>5</td>\n",
              "      <td>0</td>\n",
              "      <td>0</td>\n",
              "      <td>0</td>\n",
              "      <td>مودم روتر +ADSL2 بی‌ سیم N300 تی پی-لینک مدل T...</td>\n",
              "    </tr>\n",
              "    <tr>\n",
              "      <th>36</th>\n",
              "      <td>2739</td>\n",
              "      <td>1</td>\n",
              "      <td>2</td>\n",
              "      <td>2</td>\n",
              "      <td>0</td>\n",
              "      <td>0</td>\n",
              "      <td>کارت شبکه بی‌سیم تی پی-لینک TL-WN821N</td>\n",
              "    </tr>\n",
              "    <tr>\n",
              "      <th>37</th>\n",
              "      <td>2747</td>\n",
              "      <td>7</td>\n",
              "      <td>1</td>\n",
              "      <td>7</td>\n",
              "      <td>0</td>\n",
              "      <td>1</td>\n",
              "      <td>کارت شبکه USB و بی‌سیم تی پی-لینک مدل TL-WN722N</td>\n",
              "    </tr>\n",
              "    <tr>\n",
              "      <th>38</th>\n",
              "      <td>2767</td>\n",
              "      <td>0</td>\n",
              "      <td>0</td>\n",
              "      <td>0</td>\n",
              "      <td>0</td>\n",
              "      <td>1</td>\n",
              "      <td>ماوس مایکروسافت مدل Arc Touch رنگ مشکی</td>\n",
              "    </tr>\n",
              "    <tr>\n",
              "      <th>39</th>\n",
              "      <td>2842</td>\n",
              "      <td>0</td>\n",
              "      <td>0</td>\n",
              "      <td>0</td>\n",
              "      <td>0</td>\n",
              "      <td>0</td>\n",
              "      <td>گوشی موبایل نوکیا ایکس 7-00</td>\n",
              "    </tr>\n",
              "    <tr>\n",
              "      <th>40</th>\n",
              "      <td>2847</td>\n",
              "      <td>1</td>\n",
              "      <td>0</td>\n",
              "      <td>1</td>\n",
              "      <td>0</td>\n",
              "      <td>0</td>\n",
              "      <td>کیبورد فراسو FCR-6160 USB با حروف فارسی</td>\n",
              "    </tr>\n",
              "    <tr>\n",
              "      <th>41</th>\n",
              "      <td>2854</td>\n",
              "      <td>1</td>\n",
              "      <td>0</td>\n",
              "      <td>1</td>\n",
              "      <td>0</td>\n",
              "      <td>0</td>\n",
              "      <td>ماوس باسیم و اپتیکال فراسو مدل FOM-3505  با را...</td>\n",
              "    </tr>\n",
              "    <tr>\n",
              "      <th>42</th>\n",
              "      <td>2924</td>\n",
              "      <td>0</td>\n",
              "      <td>0</td>\n",
              "      <td>0</td>\n",
              "      <td>0</td>\n",
              "      <td>1</td>\n",
              "      <td>لپ تاپ دل اینسپایرون 5110</td>\n",
              "    </tr>\n",
              "    <tr>\n",
              "      <th>43</th>\n",
              "      <td>2953</td>\n",
              "      <td>0</td>\n",
              "      <td>0</td>\n",
              "      <td>1</td>\n",
              "      <td>0</td>\n",
              "      <td>0</td>\n",
              "      <td>هدست روگوشی استریو لاجیتک مدل H110</td>\n",
              "    </tr>\n",
              "    <tr>\n",
              "      <th>44</th>\n",
              "      <td>3159</td>\n",
              "      <td>0</td>\n",
              "      <td>0</td>\n",
              "      <td>1</td>\n",
              "      <td>0</td>\n",
              "      <td>0</td>\n",
              "      <td>گوشی موبایل سامسونگ آی 997 اینفیوز 4 جی</td>\n",
              "    </tr>\n",
              "    <tr>\n",
              "      <th>45</th>\n",
              "      <td>3261</td>\n",
              "      <td>3</td>\n",
              "      <td>0</td>\n",
              "      <td>1</td>\n",
              "      <td>0</td>\n",
              "      <td>0</td>\n",
              "      <td>پرینتر چندکاره لیزری اچ پی مدل LaserJet M1536DNF</td>\n",
              "    </tr>\n",
              "    <tr>\n",
              "      <th>46</th>\n",
              "      <td>3275</td>\n",
              "      <td>0</td>\n",
              "      <td>0</td>\n",
              "      <td>0</td>\n",
              "      <td>0</td>\n",
              "      <td>0</td>\n",
              "      <td>دوربین دیجیتال سونی سایبرشات دی اس سی - دبلیو ...</td>\n",
              "    </tr>\n",
              "    <tr>\n",
              "      <th>47</th>\n",
              "      <td>3281</td>\n",
              "      <td>0</td>\n",
              "      <td>0</td>\n",
              "      <td>1</td>\n",
              "      <td>0</td>\n",
              "      <td>0</td>\n",
              "      <td>کیبورد و ماوس بی‌سیم مایکروسافت مدل Desktop 3000</td>\n",
              "    </tr>\n",
              "    <tr>\n",
              "      <th>48</th>\n",
              "      <td>3288</td>\n",
              "      <td>0</td>\n",
              "      <td>0</td>\n",
              "      <td>0</td>\n",
              "      <td>1</td>\n",
              "      <td>0</td>\n",
              "      <td>کیبورد و ماوس مایکروسافت مدل Desktop 600</td>\n",
              "    </tr>\n",
              "    <tr>\n",
              "      <th>49</th>\n",
              "      <td>3290</td>\n",
              "      <td>0</td>\n",
              "      <td>0</td>\n",
              "      <td>1</td>\n",
              "      <td>0</td>\n",
              "      <td>0</td>\n",
              "      <td>کیبورد مایکروسافت بولوتوث موبایل 6000</td>\n",
              "    </tr>\n",
              "  </tbody>\n",
              "</table>\n",
              "</div>"
            ],
            "text/plain": [
              "    product_id  ...                                      product_title\n",
              "0          300  ...              پرینتر لیزری اچ پی مدل LaserJet P2035\n",
              "1          310  ...                           اچ پی لیزر جت پی 2055 دی\n",
              "2          352  ...               گوشی موبایل نوکیا 5800 نویگیشن ادیشن\n",
              "3          363  ...                      گوشی موبایل نوکیا 6303 کلاسیک\n",
              "4          423  ...                      لپ تاپ ایسر اسپایر 5738 زد جی\n",
              "5          481  ...                                  سونی پلی استیشن 2\n",
              "6          482  ...          سونی پلی استیشن پورتابل (پی اس پی) - 3000\n",
              "7          485  ...                      گوشی موبایل نوکیا 6500 اسلاید\n",
              "8          496  ...                                         نینتندو وی\n",
              "9          515  ...                            گوشی موبایل نوکیا ان 82\n",
              "10         542  ...                             گوشی موبایل نوکیا 1202\n",
              "11         553  ...                             گوشی موبایل نوکیا 5700\n",
              "12         623  ...             گوشی موبایل سونی اریکسون کا 970 - اِلم\n",
              "13         696  ...                    گوشی موبایل سونی اریکسون کا 810\n",
              "14         882  ...  هارد وسترن دیجیتال پرتابل مای پاسپورت استدیو -...\n",
              "15         935  ...           دوربین فیلمبرداری سونی اچ دی آر-اس آر 11\n",
              "16         953  ...            مانیتور سامسونگ مدل 2033SN سایز 20 اینچ\n",
              "17         965  ...       دوربین دیجیتال کانن پاورشات اس ایکس 20 آی اس\n",
              "18         996  ...          ماوس باسیم فراسو مدل FOM-1380 با رابط USB\n",
              "19        1179  ...   پرینتر مخصوص چاپ عکس اپسون مدل Stylus Photo 1410\n",
              "20        1204  ...                             لپ تاپ دل وسترو 1015-D\n",
              "21        1317  ...                             گوشی موبایل نوکیا 1203\n",
              "22        1334  ...                     اسپیکر کریتیو اینسپایر ام 4500\n",
              "23        1336  ...                          اسپیکر کریتیو مدل SBS A60\n",
              "24        1339  ...                             اسپیکر ادیفایر ام 3310\n",
              "25        1345  ...                        لپ تاپ دل اینسپایرون 1564-C\n",
              "26        1464  ...                    کریتیو زن استایل 300 8 گیگابایت\n",
              "27        1482  ...              پرینتر لیزری اچ پی مدل LaserJet P1102\n",
              "28        1540  ...                              پرزنتر رادیویی بی سیم\n",
              "29        2097  ...             اپل آی پاد تاچ نسل چهارم - 32 گیگابایت\n",
              "30        2118  ...                              اچ پی لیزر جت ام 1132\n",
              "31        2179  ...                                    اپل آی پاد شافل\n",
              "32        2306  ...                         کیبورد فراسو اف سی آر 8910\n",
              "33        2535  ...       فلش مموری ای دیتا مدل C906 ظرفیت 16 گیگابایت\n",
              "34        2582  ...               گوشی موبایل سونی اریکسون اکسپریا پلی\n",
              "35        2640  ...  مودم روتر +ADSL2 بی‌ سیم N300 تی پی-لینک مدل T...\n",
              "36        2739  ...              کارت شبکه بی‌سیم تی پی-لینک TL-WN821N\n",
              "37        2747  ...    کارت شبکه USB و بی‌سیم تی پی-لینک مدل TL-WN722N\n",
              "38        2767  ...             ماوس مایکروسافت مدل Arc Touch رنگ مشکی\n",
              "39        2842  ...                        گوشی موبایل نوکیا ایکس 7-00\n",
              "40        2847  ...            کیبورد فراسو FCR-6160 USB با حروف فارسی\n",
              "41        2854  ...  ماوس باسیم و اپتیکال فراسو مدل FOM-3505  با را...\n",
              "42        2924  ...                          لپ تاپ دل اینسپایرون 5110\n",
              "43        2953  ...                 هدست روگوشی استریو لاجیتک مدل H110\n",
              "44        3159  ...            گوشی موبایل سامسونگ آی 997 اینفیوز 4 جی\n",
              "45        3261  ...   پرینتر چندکاره لیزری اچ پی مدل LaserJet M1536DNF\n",
              "46        3275  ...  دوربین دیجیتال سونی سایبرشات دی اس سی - دبلیو ...\n",
              "47        3281  ...   کیبورد و ماوس بی‌سیم مایکروسافت مدل Desktop 3000\n",
              "48        3288  ...           کیبورد و ماوس مایکروسافت مدل Desktop 600\n",
              "49        3290  ...              کیبورد مایکروسافت بولوتوث موبایل 6000\n",
              "\n",
              "[50 rows x 7 columns]"
            ]
          },
          "metadata": {
            "tags": []
          },
          "execution_count": 40
        }
      ]
    },
    {
      "cell_type": "markdown",
      "metadata": {
        "id": "dr-8b5By3ijT"
      },
      "source": [
        "Optional: nomralize\r\n"
      ]
    },
    {
      "cell_type": "code",
      "metadata": {
        "id": "Uwk12Tx7XZY8"
      },
      "source": [
        "X = final_df.drop(columns='product_title')"
      ],
      "execution_count": 41,
      "outputs": []
    },
    {
      "cell_type": "markdown",
      "metadata": {
        "id": "SgWP7RI37j5m"
      },
      "source": [
        "## K-Means  \r\n",
        "here since we don't know the number of cluster we can find it out by trying out a possible range of k  \r\n",
        "here we will consider k to be 1-15\r\n",
        "\r\n",
        "   \r\n",
        "Tried to use K-Medoids memory error"
      ]
    },
    {
      "cell_type": "code",
      "metadata": {
        "colab": {
          "base_uri": "https://localhost:8080/",
          "height": 295
        },
        "id": "4ULJWjTQVYX2",
        "outputId": "9fb8223d-a4d5-45e7-c1b8-50755b0b88e6"
      },
      "source": [
        "k_vals = range(1,15)\r\n",
        "y = []\r\n",
        "for k in k_vals:\r\n",
        "  k_medoid = KMeans(n_clusters=k, n_init=50, max_iter=100)\r\n",
        "  k_medoid.fit(X)\r\n",
        "  y.append(k_medoid.inertia_)\r\n",
        "\r\n",
        "plt.plot(k_vals, y, 'ro-')\r\n",
        "plt.xlabel('k values')\r\n",
        "plt.ylabel('Inertia')\r\n",
        "plt.title('k-values & inertia graph')\r\n",
        "plt.show()"
      ],
      "execution_count": 46,
      "outputs": [
        {
          "output_type": "display_data",
          "data": {
            "image/png": "[encoded data removed]",
            "text/plain": [
              "<Figure size 432x288 with 1 Axes>"
            ]
          },
          "metadata": {
            "tags": [],
            "needs_background": "light"
          }
        }
      ]
    },
    {
      "cell_type": "markdown",
      "metadata": {
        "id": "qW2tYMbka7dB"
      },
      "source": [
        "Looking at the number of clusters we can see that @k=4 the curve is bent and upper values can make a slight change"
      ]
    },
    {
      "cell_type": "code",
      "metadata": {
        "id": "Uq_tRfJPhDql"
      },
      "source": [
        ""
      ],
      "execution_count": null,
      "outputs": []
    }
  ]
}