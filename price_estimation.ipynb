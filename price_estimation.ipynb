{
  "nbformat": 4,
  "nbformat_minor": 0,
  "metadata": {
    "colab": {
      "name": "price_estimation.ipynb",
      "provenance": [],
      "collapsed_sections": [],
      "include_colab_link": true
    },
    "kernelspec": {
      "display_name": "Python 3",
      "language": "python",
      "name": "python3"
    },
    "language_info": {
      "codemirror_mode": {
        "name": "ipython",
        "version": 3
      },
      "file_extension": ".py",
      "mimetype": "text/x-python",
      "name": "python",
      "nbconvert_exporter": "python",
      "pygments_lexer": "ipython3",
      "version": "3.8.3"
    }
  },
  "cells": [
    {
      "cell_type": "markdown",
      "metadata": {
        "id": "view-in-github",
        "colab_type": "text"
      },
      "source": [
        "<a href=\"https://colab.research.google.com/github/sulaimanbehzad/Clustering_according_to_item_popularity/blob/main/price_estimation.ipynb\" target=\"_parent\"><img src=\"https://colab.research.google.com/assets/colab-badge.svg\" alt=\"Open In Colab\"/></a>"
      ]
    },
    {
      "cell_type": "markdown",
      "metadata": {
        "id": "rs6sL_flPtNy"
      },
      "source": [
        "# Estimating the price of each product\n",
        "We will use Neural Network to predict the price of each product"
      ]
    },
    {
      "cell_type": "code",
      "metadata": {
        "id": "l67Fk_VQP83Z"
      },
      "source": [
        "import pandas as pd\n",
        "import numpy as np\n",
        "import matplotlib.pyplot as plt\n",
        "from sklearn.preprocessing import LabelEncoder, normalize, MinMaxScaler\n",
        "from sklearn.neighbors import LocalOutlierFactor\n",
        "from sklearn.model_selection import train_test_split\n",
        "from sklearn.linear_model import LinearRegression\n",
        "from sklearn.linear_model import Lasso \n",
        "from sklearn.metrics import explained_variance_score as evs\n",
        "from sklearn.metrics import r2_score as r2\n",
        "from sklearn import metrics"
      ],
      "execution_count": null,
      "outputs": []
    },
    {
      "cell_type": "code",
      "metadata": {
        "colab": {
          "base_uri": "https://localhost:8080/",
          "height": 325
        },
        "id": "40q_YZk9Qa3E",
        "outputId": "41637711-13c0-4055-f2b6-7597d4b2be74"
      },
      "source": [
        "transactions = pd.read_csv('tarikhche kharid.csv')\n",
        "orders = pd.read_csv('orders.csv')\n",
        "transactions.head()"
      ],
      "execution_count": null,
      "outputs": [
        {
          "output_type": "execute_result",
          "data": {
            "text/html": [
              "<div>\n",
              "<style scoped>\n",
              "    .dataframe tbody tr th:only-of-type {\n",
              "        vertical-align: middle;\n",
              "    }\n",
              "\n",
              "    .dataframe tbody tr th {\n",
              "        vertical-align: top;\n",
              "    }\n",
              "\n",
              "    .dataframe thead th {\n",
              "        text-align: right;\n",
              "    }\n",
              "</style>\n",
              "<table border=\"1\" class=\"dataframe\">\n",
              "  <thead>\n",
              "    <tr style=\"text-align: right;\">\n",
              "      <th></th>\n",
              "      <th>id</th>\n",
              "      <th>product_variant_id</th>\n",
              "      <th>selling_price</th>\n",
              "      <th>rrp_price</th>\n",
              "      <th>base_price</th>\n",
              "      <th>buy_price</th>\n",
              "      <th>order_limit</th>\n",
              "      <th>start_at</th>\n",
              "      <th>end_at</th>\n",
              "      <th>tags</th>\n",
              "      <th>show_in_price_history</th>\n",
              "      <th>active</th>\n",
              "      <th>created_at</th>\n",
              "      <th>product_id</th>\n",
              "      <th>marketplace_seller_id</th>\n",
              "    </tr>\n",
              "  </thead>\n",
              "  <tbody>\n",
              "    <tr>\n",
              "      <th>0</th>\n",
              "      <td>18752043</td>\n",
              "      <td>1977385</td>\n",
              "      <td>850000</td>\n",
              "      <td>850000</td>\n",
              "      <td>\\N</td>\n",
              "      <td>\\N</td>\n",
              "      <td>1</td>\n",
              "      <td>\\N</td>\n",
              "      <td>\\N</td>\n",
              "      <td>\\N</td>\n",
              "      <td>1</td>\n",
              "      <td>1</td>\n",
              "      <td>2018-11-26 18:59:52</td>\n",
              "      <td>667969</td>\n",
              "      <td>2962</td>\n",
              "    </tr>\n",
              "    <tr>\n",
              "      <th>1</th>\n",
              "      <td>18752022</td>\n",
              "      <td>1977380</td>\n",
              "      <td>12550000</td>\n",
              "      <td>12550000</td>\n",
              "      <td>\\N</td>\n",
              "      <td>\\N</td>\n",
              "      <td>2</td>\n",
              "      <td>\\N</td>\n",
              "      <td>\\N</td>\n",
              "      <td>\\N</td>\n",
              "      <td>1</td>\n",
              "      <td>0</td>\n",
              "      <td>2018-11-26 18:59:31</td>\n",
              "      <td>150144</td>\n",
              "      <td>78525</td>\n",
              "    </tr>\n",
              "    <tr>\n",
              "      <th>2</th>\n",
              "      <td>18752046</td>\n",
              "      <td>1977380</td>\n",
              "      <td>12500000</td>\n",
              "      <td>12500000</td>\n",
              "      <td>\\N</td>\n",
              "      <td>\\N</td>\n",
              "      <td>2</td>\n",
              "      <td>\\N</td>\n",
              "      <td>\\N</td>\n",
              "      <td>\\N</td>\n",
              "      <td>1</td>\n",
              "      <td>1</td>\n",
              "      <td>2018-11-26 18:59:55</td>\n",
              "      <td>150144</td>\n",
              "      <td>78525</td>\n",
              "    </tr>\n",
              "    <tr>\n",
              "      <th>3</th>\n",
              "      <td>18751982</td>\n",
              "      <td>1977374</td>\n",
              "      <td>310000</td>\n",
              "      <td>310000</td>\n",
              "      <td>\\N</td>\n",
              "      <td>\\N</td>\n",
              "      <td>2</td>\n",
              "      <td>\\N</td>\n",
              "      <td>\\N</td>\n",
              "      <td>\\N</td>\n",
              "      <td>1</td>\n",
              "      <td>0</td>\n",
              "      <td>2018-11-26 18:58:48</td>\n",
              "      <td>908541</td>\n",
              "      <td>4199</td>\n",
              "    </tr>\n",
              "    <tr>\n",
              "      <th>4</th>\n",
              "      <td>18752018</td>\n",
              "      <td>1977374</td>\n",
              "      <td>300000</td>\n",
              "      <td>300000</td>\n",
              "      <td>\\N</td>\n",
              "      <td>\\N</td>\n",
              "      <td>2</td>\n",
              "      <td>\\N</td>\n",
              "      <td>\\N</td>\n",
              "      <td>\\N</td>\n",
              "      <td>1</td>\n",
              "      <td>1</td>\n",
              "      <td>2018-11-26 18:59:28</td>\n",
              "      <td>908541</td>\n",
              "      <td>4199</td>\n",
              "    </tr>\n",
              "  </tbody>\n",
              "</table>\n",
              "</div>"
            ],
            "text/plain": [
              "         id  product_variant_id  selling_price  rrp_price base_price  \\\n",
              "0  18752043             1977385         850000     850000         \\N   \n",
              "1  18752022             1977380       12550000   12550000         \\N   \n",
              "2  18752046             1977380       12500000   12500000         \\N   \n",
              "3  18751982             1977374         310000     310000         \\N   \n",
              "4  18752018             1977374         300000     300000         \\N   \n",
              "\n",
              "  buy_price  order_limit start_at end_at tags  show_in_price_history  active  \\\n",
              "0        \\N            1       \\N     \\N   \\N                      1       1   \n",
              "1        \\N            2       \\N     \\N   \\N                      1       0   \n",
              "2        \\N            2       \\N     \\N   \\N                      1       1   \n",
              "3        \\N            2       \\N     \\N   \\N                      1       0   \n",
              "4        \\N            2       \\N     \\N   \\N                      1       1   \n",
              "\n",
              "            created_at  product_id  marketplace_seller_id  \n",
              "0  2018-11-26 18:59:52      667969                   2962  \n",
              "1  2018-11-26 18:59:31      150144                  78525  \n",
              "2  2018-11-26 18:59:55      150144                  78525  \n",
              "3  2018-11-26 18:58:48      908541                   4199  \n",
              "4  2018-11-26 18:59:28      908541                   4199  "
            ]
          },
          "metadata": {
            "tags": []
          },
          "execution_count": 2
        }
      ]
    },
    {
      "cell_type": "code",
      "metadata": {
        "id": "6twuI9Wsf-xx",
        "outputId": "a7935dbb-a77f-4968-ac92-e1f76f7b5263"
      },
      "source": [
        "orders.head()"
      ],
      "execution_count": null,
      "outputs": [
        {
          "output_type": "execute_result",
          "data": {
            "text/html": [
              "<div>\n",
              "<style scoped>\n",
              "    .dataframe tbody tr th:only-of-type {\n",
              "        vertical-align: middle;\n",
              "    }\n",
              "\n",
              "    .dataframe tbody tr th {\n",
              "        vertical-align: top;\n",
              "    }\n",
              "\n",
              "    .dataframe thead th {\n",
              "        text-align: right;\n",
              "    }\n",
              "</style>\n",
              "<table border=\"1\" class=\"dataframe\">\n",
              "  <thead>\n",
              "    <tr style=\"text-align: right;\">\n",
              "      <th></th>\n",
              "      <th>ID_Order</th>\n",
              "      <th>ID_Customer</th>\n",
              "      <th>ID_Item</th>\n",
              "      <th>DateTime_CartFinalize</th>\n",
              "      <th>Amount_Gross_Order</th>\n",
              "      <th>city_name_fa</th>\n",
              "      <th>Quantity_item</th>\n",
              "    </tr>\n",
              "  </thead>\n",
              "  <tbody>\n",
              "    <tr>\n",
              "      <th>0</th>\n",
              "      <td>2714054</td>\n",
              "      <td>469662</td>\n",
              "      <td>21386</td>\n",
              "      <td>2015-10-15 08:50:56.000</td>\n",
              "      <td>597982.0</td>\n",
              "      <td>محمود آباد</td>\n",
              "      <td>1.0</td>\n",
              "    </tr>\n",
              "    <tr>\n",
              "      <th>1</th>\n",
              "      <td>11104039</td>\n",
              "      <td>3063877</td>\n",
              "      <td>248497</td>\n",
              "      <td>2018-02-11 00:29:26.000</td>\n",
              "      <td>980000.0</td>\n",
              "      <td>خرمدره</td>\n",
              "      <td>1.0</td>\n",
              "    </tr>\n",
              "    <tr>\n",
              "      <th>2</th>\n",
              "      <td>4228130</td>\n",
              "      <td>3184893</td>\n",
              "      <td>50144</td>\n",
              "      <td>2016-06-14 00:30:08.000</td>\n",
              "      <td>229358.0</td>\n",
              "      <td>قرچک</td>\n",
              "      <td>1.0</td>\n",
              "    </tr>\n",
              "    <tr>\n",
              "      <th>3</th>\n",
              "      <td>22225624</td>\n",
              "      <td>6888562</td>\n",
              "      <td>70208</td>\n",
              "      <td>2018-09-03 14:37:19.000</td>\n",
              "      <td>16514.0</td>\n",
              "      <td>قم</td>\n",
              "      <td>1.0</td>\n",
              "    </tr>\n",
              "    <tr>\n",
              "      <th>4</th>\n",
              "      <td>4068771</td>\n",
              "      <td>2533490</td>\n",
              "      <td>67627</td>\n",
              "      <td>2016-05-21 11:51:02.000</td>\n",
              "      <td>133028.0</td>\n",
              "      <td>تهران</td>\n",
              "      <td>1.0</td>\n",
              "    </tr>\n",
              "  </tbody>\n",
              "</table>\n",
              "</div>"
            ],
            "text/plain": [
              "   ID_Order  ID_Customer  ID_Item    DateTime_CartFinalize  \\\n",
              "0   2714054       469662    21386  2015-10-15 08:50:56.000   \n",
              "1  11104039      3063877   248497  2018-02-11 00:29:26.000   \n",
              "2   4228130      3184893    50144  2016-06-14 00:30:08.000   \n",
              "3  22225624      6888562    70208  2018-09-03 14:37:19.000   \n",
              "4   4068771      2533490    67627  2016-05-21 11:51:02.000   \n",
              "\n",
              "   Amount_Gross_Order city_name_fa  Quantity_item  \n",
              "0            597982.0   محمود آباد            1.0  \n",
              "1            980000.0       خرمدره            1.0  \n",
              "2            229358.0         قرچک            1.0  \n",
              "3             16514.0           قم            1.0  \n",
              "4            133028.0        تهران            1.0  "
            ]
          },
          "metadata": {
            "tags": []
          },
          "execution_count": 3
        }
      ]
    },
    {
      "cell_type": "markdown",
      "metadata": {
        "id": "kuWOa4KkQ1A8"
      },
      "source": [
        "### Feature Selection\n"
      ]
    },
    {
      "cell_type": "code",
      "metadata": {
        "id": "bJWhySM2f-x1"
      },
      "source": [
        "orders = orders.filter(['ID_Item', 'Amount_Gross_Order', 'Quantity_item'])"
      ],
      "execution_count": null,
      "outputs": []
    },
    {
      "cell_type": "code",
      "metadata": {
        "colab": {
          "base_uri": "https://localhost:8080/"
        },
        "id": "puYAch6aSuei",
        "outputId": "26c9494e-7cfe-445a-b303-9c17fc886803"
      },
      "source": [
        "orders['Unit_Price'] = np.divide(orders['Amount_Gross_Order'], orders['Quantity_item'])\n",
        "orders['Unit_Price']"
      ],
      "execution_count": null,
      "outputs": [
        {
          "output_type": "execute_result",
          "data": {
            "text/plain": [
              "0         597982.0\n",
              "1         980000.0\n",
              "2         229358.0\n",
              "3          16514.0\n",
              "4         133028.0\n",
              "            ...   \n",
              "199995    172018.5\n",
              "199996    600000.0\n",
              "199997    450000.0\n",
              "199998    193486.0\n",
              "199999     55046.0\n",
              "Name: Unit_Price, Length: 200000, dtype: float64"
            ]
          },
          "metadata": {
            "tags": []
          },
          "execution_count": 5
        }
      ]
    },
    {
      "cell_type": "code",
      "metadata": {
        "colab": {
          "base_uri": "https://localhost:8080/",
          "height": 990
        },
        "id": "OVzl9CSsTjyd",
        "outputId": "9cb11e6a-99fa-4f09-ed7f-f4a5259be79b"
      },
      "source": [
        "orders.head(30)"
      ],
      "execution_count": null,
      "outputs": [
        {
          "output_type": "execute_result",
          "data": {
            "text/html": [
              "<div>\n",
              "<style scoped>\n",
              "    .dataframe tbody tr th:only-of-type {\n",
              "        vertical-align: middle;\n",
              "    }\n",
              "\n",
              "    .dataframe tbody tr th {\n",
              "        vertical-align: top;\n",
              "    }\n",
              "\n",
              "    .dataframe thead th {\n",
              "        text-align: right;\n",
              "    }\n",
              "</style>\n",
              "<table border=\"1\" class=\"dataframe\">\n",
              "  <thead>\n",
              "    <tr style=\"text-align: right;\">\n",
              "      <th></th>\n",
              "      <th>ID_Item</th>\n",
              "      <th>Amount_Gross_Order</th>\n",
              "      <th>Quantity_item</th>\n",
              "      <th>Unit_Price</th>\n",
              "    </tr>\n",
              "  </thead>\n",
              "  <tbody>\n",
              "    <tr>\n",
              "      <th>0</th>\n",
              "      <td>21386</td>\n",
              "      <td>597982.0</td>\n",
              "      <td>1.0</td>\n",
              "      <td>5.979820e+05</td>\n",
              "    </tr>\n",
              "    <tr>\n",
              "      <th>1</th>\n",
              "      <td>248497</td>\n",
              "      <td>980000.0</td>\n",
              "      <td>1.0</td>\n",
              "      <td>9.800000e+05</td>\n",
              "    </tr>\n",
              "    <tr>\n",
              "      <th>2</th>\n",
              "      <td>50144</td>\n",
              "      <td>229358.0</td>\n",
              "      <td>1.0</td>\n",
              "      <td>2.293580e+05</td>\n",
              "    </tr>\n",
              "    <tr>\n",
              "      <th>3</th>\n",
              "      <td>70208</td>\n",
              "      <td>16514.0</td>\n",
              "      <td>1.0</td>\n",
              "      <td>1.651400e+04</td>\n",
              "    </tr>\n",
              "    <tr>\n",
              "      <th>4</th>\n",
              "      <td>67627</td>\n",
              "      <td>133028.0</td>\n",
              "      <td>1.0</td>\n",
              "      <td>1.330280e+05</td>\n",
              "    </tr>\n",
              "    <tr>\n",
              "      <th>5</th>\n",
              "      <td>312932</td>\n",
              "      <td>290000.0</td>\n",
              "      <td>1.0</td>\n",
              "      <td>2.900000e+05</td>\n",
              "    </tr>\n",
              "    <tr>\n",
              "      <th>6</th>\n",
              "      <td>42365</td>\n",
              "      <td>55046.0</td>\n",
              "      <td>1.0</td>\n",
              "      <td>5.504600e+04</td>\n",
              "    </tr>\n",
              "    <tr>\n",
              "      <th>7</th>\n",
              "      <td>715680</td>\n",
              "      <td>2790000.0</td>\n",
              "      <td>1.0</td>\n",
              "      <td>2.790000e+06</td>\n",
              "    </tr>\n",
              "    <tr>\n",
              "      <th>8</th>\n",
              "      <td>102588</td>\n",
              "      <td>34862.0</td>\n",
              "      <td>1.0</td>\n",
              "      <td>3.486200e+04</td>\n",
              "    </tr>\n",
              "    <tr>\n",
              "      <th>9</th>\n",
              "      <td>658519</td>\n",
              "      <td>2600000.0</td>\n",
              "      <td>1.0</td>\n",
              "      <td>2.600000e+06</td>\n",
              "    </tr>\n",
              "    <tr>\n",
              "      <th>10</th>\n",
              "      <td>138296</td>\n",
              "      <td>469358.0</td>\n",
              "      <td>1.0</td>\n",
              "      <td>4.693580e+05</td>\n",
              "    </tr>\n",
              "    <tr>\n",
              "      <th>11</th>\n",
              "      <td>23927</td>\n",
              "      <td>108000.0</td>\n",
              "      <td>1.0</td>\n",
              "      <td>1.080000e+05</td>\n",
              "    </tr>\n",
              "    <tr>\n",
              "      <th>12</th>\n",
              "      <td>564993</td>\n",
              "      <td>525000.0</td>\n",
              "      <td>1.0</td>\n",
              "      <td>5.250000e+05</td>\n",
              "    </tr>\n",
              "    <tr>\n",
              "      <th>13</th>\n",
              "      <td>1707686</td>\n",
              "      <td>49000.0</td>\n",
              "      <td>1.0</td>\n",
              "      <td>4.900000e+04</td>\n",
              "    </tr>\n",
              "    <tr>\n",
              "      <th>14</th>\n",
              "      <td>183721</td>\n",
              "      <td>23853.0</td>\n",
              "      <td>1.0</td>\n",
              "      <td>2.385300e+04</td>\n",
              "    </tr>\n",
              "    <tr>\n",
              "      <th>15</th>\n",
              "      <td>376625</td>\n",
              "      <td>708440.0</td>\n",
              "      <td>1.0</td>\n",
              "      <td>7.084400e+05</td>\n",
              "    </tr>\n",
              "    <tr>\n",
              "      <th>16</th>\n",
              "      <td>1656648</td>\n",
              "      <td>229000.0</td>\n",
              "      <td>2.0</td>\n",
              "      <td>1.145000e+05</td>\n",
              "    </tr>\n",
              "    <tr>\n",
              "      <th>17</th>\n",
              "      <td>140331</td>\n",
              "      <td>717798.0</td>\n",
              "      <td>1.0</td>\n",
              "      <td>7.177980e+05</td>\n",
              "    </tr>\n",
              "    <tr>\n",
              "      <th>18</th>\n",
              "      <td>1671745</td>\n",
              "      <td>73211.0</td>\n",
              "      <td>3.0</td>\n",
              "      <td>2.440367e+04</td>\n",
              "    </tr>\n",
              "    <tr>\n",
              "      <th>19</th>\n",
              "      <td>36298</td>\n",
              "      <td>523761.0</td>\n",
              "      <td>1.0</td>\n",
              "      <td>5.237610e+05</td>\n",
              "    </tr>\n",
              "    <tr>\n",
              "      <th>20</th>\n",
              "      <td>193926</td>\n",
              "      <td>41284.0</td>\n",
              "      <td>3.0</td>\n",
              "      <td>1.376133e+04</td>\n",
              "    </tr>\n",
              "    <tr>\n",
              "      <th>21</th>\n",
              "      <td>574889</td>\n",
              "      <td>380000.0</td>\n",
              "      <td>1.0</td>\n",
              "      <td>3.800000e+05</td>\n",
              "    </tr>\n",
              "    <tr>\n",
              "      <th>22</th>\n",
              "      <td>449799</td>\n",
              "      <td>20000.0</td>\n",
              "      <td>1.0</td>\n",
              "      <td>2.000000e+04</td>\n",
              "    </tr>\n",
              "    <tr>\n",
              "      <th>23</th>\n",
              "      <td>67518</td>\n",
              "      <td>71560.0</td>\n",
              "      <td>1.0</td>\n",
              "      <td>7.156000e+04</td>\n",
              "    </tr>\n",
              "    <tr>\n",
              "      <th>24</th>\n",
              "      <td>882178</td>\n",
              "      <td>47706.0</td>\n",
              "      <td>1.0</td>\n",
              "      <td>4.770600e+04</td>\n",
              "    </tr>\n",
              "    <tr>\n",
              "      <th>25</th>\n",
              "      <td>294942</td>\n",
              "      <td>100000.0</td>\n",
              "      <td>1.0</td>\n",
              "      <td>1.000000e+05</td>\n",
              "    </tr>\n",
              "    <tr>\n",
              "      <th>26</th>\n",
              "      <td>10792</td>\n",
              "      <td>1657407.0</td>\n",
              "      <td>1.0</td>\n",
              "      <td>1.657407e+06</td>\n",
              "    </tr>\n",
              "    <tr>\n",
              "      <th>27</th>\n",
              "      <td>74547</td>\n",
              "      <td>465780.0</td>\n",
              "      <td>1.0</td>\n",
              "      <td>4.657800e+05</td>\n",
              "    </tr>\n",
              "    <tr>\n",
              "      <th>28</th>\n",
              "      <td>32475</td>\n",
              "      <td>73394.0</td>\n",
              "      <td>1.0</td>\n",
              "      <td>7.339400e+04</td>\n",
              "    </tr>\n",
              "    <tr>\n",
              "      <th>29</th>\n",
              "      <td>9556</td>\n",
              "      <td>256881.0</td>\n",
              "      <td>1.0</td>\n",
              "      <td>2.568810e+05</td>\n",
              "    </tr>\n",
              "  </tbody>\n",
              "</table>\n",
              "</div>"
            ],
            "text/plain": [
              "    ID_Item  Amount_Gross_Order  Quantity_item    Unit_Price\n",
              "0     21386            597982.0            1.0  5.979820e+05\n",
              "1    248497            980000.0            1.0  9.800000e+05\n",
              "2     50144            229358.0            1.0  2.293580e+05\n",
              "3     70208             16514.0            1.0  1.651400e+04\n",
              "4     67627            133028.0            1.0  1.330280e+05\n",
              "5    312932            290000.0            1.0  2.900000e+05\n",
              "6     42365             55046.0            1.0  5.504600e+04\n",
              "7    715680           2790000.0            1.0  2.790000e+06\n",
              "8    102588             34862.0            1.0  3.486200e+04\n",
              "9    658519           2600000.0            1.0  2.600000e+06\n",
              "10   138296            469358.0            1.0  4.693580e+05\n",
              "11    23927            108000.0            1.0  1.080000e+05\n",
              "12   564993            525000.0            1.0  5.250000e+05\n",
              "13  1707686             49000.0            1.0  4.900000e+04\n",
              "14   183721             23853.0            1.0  2.385300e+04\n",
              "15   376625            708440.0            1.0  7.084400e+05\n",
              "16  1656648            229000.0            2.0  1.145000e+05\n",
              "17   140331            717798.0            1.0  7.177980e+05\n",
              "18  1671745             73211.0            3.0  2.440367e+04\n",
              "19    36298            523761.0            1.0  5.237610e+05\n",
              "20   193926             41284.0            3.0  1.376133e+04\n",
              "21   574889            380000.0            1.0  3.800000e+05\n",
              "22   449799             20000.0            1.0  2.000000e+04\n",
              "23    67518             71560.0            1.0  7.156000e+04\n",
              "24   882178             47706.0            1.0  4.770600e+04\n",
              "25   294942            100000.0            1.0  1.000000e+05\n",
              "26    10792           1657407.0            1.0  1.657407e+06\n",
              "27    74547            465780.0            1.0  4.657800e+05\n",
              "28    32475             73394.0            1.0  7.339400e+04\n",
              "29     9556            256881.0            1.0  2.568810e+05"
            ]
          },
          "metadata": {
            "tags": []
          },
          "execution_count": 6
        }
      ]
    },
    {
      "cell_type": "markdown",
      "metadata": {
        "id": "P02gQeD8Tr5p"
      },
      "source": [
        "Let's inspect the database"
      ]
    },
    {
      "cell_type": "code",
      "metadata": {
        "colab": {
          "base_uri": "https://localhost:8080/"
        },
        "id": "j2q-fwrJT6qq",
        "outputId": "a44b0a6e-cb04-4f6f-c7cc-bd38e97e16a0"
      },
      "source": [
        "orders.info()"
      ],
      "execution_count": null,
      "outputs": [
        {
          "output_type": "stream",
          "text": [
            "<class 'pandas.core.frame.DataFrame'>\n",
            "RangeIndex: 200000 entries, 0 to 199999\n",
            "Data columns (total 4 columns):\n",
            " #   Column              Non-Null Count   Dtype  \n",
            "---  ------              --------------   -----  \n",
            " 0   ID_Item             200000 non-null  int64  \n",
            " 1   Amount_Gross_Order  200000 non-null  float64\n",
            " 2   Quantity_item       200000 non-null  float64\n",
            " 3   Unit_Price          200000 non-null  float64\n",
            "dtypes: float64(3), int64(1)\n",
            "memory usage: 6.1 MB\n"
          ],
          "name": "stdout"
        }
      ]
    },
    {
      "cell_type": "code",
      "metadata": {
        "colab": {
          "base_uri": "https://localhost:8080/"
        },
        "id": "UZFgbTYlT-hL",
        "outputId": "1d026811-bf19-4901-867c-f5f998a32cf7"
      },
      "source": [
        "orders.isnull().sum()"
      ],
      "execution_count": null,
      "outputs": [
        {
          "output_type": "execute_result",
          "data": {
            "text/plain": [
              "ID_Item               0\n",
              "Amount_Gross_Order    0\n",
              "Quantity_item         0\n",
              "Unit_Price            0\n",
              "dtype: int64"
            ]
          },
          "metadata": {
            "tags": []
          },
          "execution_count": 8
        }
      ]
    },
    {
      "cell_type": "code",
      "metadata": {
        "id": "w7MA4LVaf-x9",
        "outputId": "a198af37-2bad-4cf2-c831-01a2280dd60e"
      },
      "source": [
        "transactions = transactions.filter(['id', 'product_variant_id', 'selling_price', 'product_id', 'marketplace_seller_id'])\n",
        "transactions.head(10)"
      ],
      "execution_count": null,
      "outputs": [
        {
          "output_type": "execute_result",
          "data": {
            "text/html": [
              "<div>\n",
              "<style scoped>\n",
              "    .dataframe tbody tr th:only-of-type {\n",
              "        vertical-align: middle;\n",
              "    }\n",
              "\n",
              "    .dataframe tbody tr th {\n",
              "        vertical-align: top;\n",
              "    }\n",
              "\n",
              "    .dataframe thead th {\n",
              "        text-align: right;\n",
              "    }\n",
              "</style>\n",
              "<table border=\"1\" class=\"dataframe\">\n",
              "  <thead>\n",
              "    <tr style=\"text-align: right;\">\n",
              "      <th></th>\n",
              "      <th>id</th>\n",
              "      <th>product_variant_id</th>\n",
              "      <th>selling_price</th>\n",
              "      <th>product_id</th>\n",
              "      <th>marketplace_seller_id</th>\n",
              "    </tr>\n",
              "  </thead>\n",
              "  <tbody>\n",
              "    <tr>\n",
              "      <th>0</th>\n",
              "      <td>18752043</td>\n",
              "      <td>1977385</td>\n",
              "      <td>850000</td>\n",
              "      <td>667969</td>\n",
              "      <td>2962</td>\n",
              "    </tr>\n",
              "    <tr>\n",
              "      <th>1</th>\n",
              "      <td>18752022</td>\n",
              "      <td>1977380</td>\n",
              "      <td>12550000</td>\n",
              "      <td>150144</td>\n",
              "      <td>78525</td>\n",
              "    </tr>\n",
              "    <tr>\n",
              "      <th>2</th>\n",
              "      <td>18752046</td>\n",
              "      <td>1977380</td>\n",
              "      <td>12500000</td>\n",
              "      <td>150144</td>\n",
              "      <td>78525</td>\n",
              "    </tr>\n",
              "    <tr>\n",
              "      <th>3</th>\n",
              "      <td>18751982</td>\n",
              "      <td>1977374</td>\n",
              "      <td>310000</td>\n",
              "      <td>908541</td>\n",
              "      <td>4199</td>\n",
              "    </tr>\n",
              "    <tr>\n",
              "      <th>4</th>\n",
              "      <td>18752018</td>\n",
              "      <td>1977374</td>\n",
              "      <td>300000</td>\n",
              "      <td>908541</td>\n",
              "      <td>4199</td>\n",
              "    </tr>\n",
              "    <tr>\n",
              "      <th>5</th>\n",
              "      <td>18751959</td>\n",
              "      <td>1977367</td>\n",
              "      <td>15500000</td>\n",
              "      <td>150144</td>\n",
              "      <td>78525</td>\n",
              "    </tr>\n",
              "    <tr>\n",
              "      <th>6</th>\n",
              "      <td>18752064</td>\n",
              "      <td>1977367</td>\n",
              "      <td>12500000</td>\n",
              "      <td>150144</td>\n",
              "      <td>78525</td>\n",
              "    </tr>\n",
              "    <tr>\n",
              "      <th>7</th>\n",
              "      <td>18751958</td>\n",
              "      <td>1977366</td>\n",
              "      <td>750000</td>\n",
              "      <td>197348</td>\n",
              "      <td>11436</td>\n",
              "    </tr>\n",
              "    <tr>\n",
              "      <th>8</th>\n",
              "      <td>18751880</td>\n",
              "      <td>1977358</td>\n",
              "      <td>15800000</td>\n",
              "      <td>150144</td>\n",
              "      <td>78525</td>\n",
              "    </tr>\n",
              "    <tr>\n",
              "      <th>9</th>\n",
              "      <td>18751863</td>\n",
              "      <td>1977354</td>\n",
              "      <td>3500000</td>\n",
              "      <td>485078</td>\n",
              "      <td>66785</td>\n",
              "    </tr>\n",
              "  </tbody>\n",
              "</table>\n",
              "</div>"
            ],
            "text/plain": [
              "         id  product_variant_id  selling_price  product_id  \\\n",
              "0  18752043             1977385         850000      667969   \n",
              "1  18752022             1977380       12550000      150144   \n",
              "2  18752046             1977380       12500000      150144   \n",
              "3  18751982             1977374         310000      908541   \n",
              "4  18752018             1977374         300000      908541   \n",
              "5  18751959             1977367       15500000      150144   \n",
              "6  18752064             1977367       12500000      150144   \n",
              "7  18751958             1977366         750000      197348   \n",
              "8  18751880             1977358       15800000      150144   \n",
              "9  18751863             1977354        3500000      485078   \n",
              "\n",
              "   marketplace_seller_id  \n",
              "0                   2962  \n",
              "1                  78525  \n",
              "2                  78525  \n",
              "3                   4199  \n",
              "4                   4199  \n",
              "5                  78525  \n",
              "6                  78525  \n",
              "7                  11436  \n",
              "8                  78525  \n",
              "9                  66785  "
            ]
          },
          "metadata": {
            "tags": []
          },
          "execution_count": 9
        }
      ]
    },
    {
      "cell_type": "markdown",
      "metadata": {
        "id": "6U4QqA4df-x_"
      },
      "source": [
        "### Translation for Products"
      ]
    },
    {
      "cell_type": "code",
      "metadata": {
        "id": "PXuEw7Cmf-x_"
      },
      "source": [
        "# !pip install google_trans_new"
      ],
      "execution_count": null,
      "outputs": []
    },
    {
      "cell_type": "code",
      "metadata": {
        "id": "ApnzET2mf-yB"
      },
      "source": [
        "# from google_trans_new import google_translator"
      ],
      "execution_count": null,
      "outputs": []
    },
    {
      "cell_type": "code",
      "metadata": {
        "id": "8Knr_nu4f-yB"
      },
      "source": [
        "# translator = google_translator()"
      ],
      "execution_count": null,
      "outputs": []
    },
    {
      "cell_type": "code",
      "metadata": {
        "id": "OYh1gKeEf-yD"
      },
      "source": [
        "# translated_title = []\n",
        "# for title in products['product_title_fa']:\n",
        "#     translated_title.append(translator.translate(title, lang_src='fa', lang_tgt='english'))"
      ],
      "execution_count": null,
      "outputs": []
    },
    {
      "cell_type": "code",
      "metadata": {
        "id": "IYgo0J-pf-yE"
      },
      "source": [
        "# translated_title_alt = []\n",
        "# for text in products['title_alt']:\n",
        "#     translated_title_alt.append(translator.translate(text, lang_src='fa', lang_tgt='english'))"
      ],
      "execution_count": null,
      "outputs": []
    },
    {
      "cell_type": "code",
      "metadata": {
        "id": "zKt0hdb4f-yF"
      },
      "source": [
        "# translated_category = []"
      ],
      "execution_count": null,
      "outputs": []
    },
    {
      "cell_type": "code",
      "metadata": {
        "id": "zAqtFRn2f-yF",
        "outputId": "42a158f0-90dc-4cad-d62b-6bf0c90d32e5"
      },
      "source": [
        "transactions.info()"
      ],
      "execution_count": null,
      "outputs": [
        {
          "output_type": "stream",
          "text": [
            "<class 'pandas.core.frame.DataFrame'>\n",
            "RangeIndex: 2184358 entries, 0 to 2184357\n",
            "Data columns (total 5 columns):\n",
            " #   Column                 Dtype\n",
            "---  ------                 -----\n",
            " 0   id                     int64\n",
            " 1   product_variant_id     int64\n",
            " 2   selling_price          int64\n",
            " 3   product_id             int64\n",
            " 4   marketplace_seller_id  int64\n",
            "dtypes: int64(5)\n",
            "memory usage: 83.3 MB\n"
          ],
          "name": "stdout"
        }
      ]
    },
    {
      "cell_type": "code",
      "metadata": {
        "id": "W1Dld4yyf-yG",
        "outputId": "0319afd9-673a-45bc-88c4-3c4e98e2b07d"
      },
      "source": [
        "orders.info()"
      ],
      "execution_count": null,
      "outputs": [
        {
          "output_type": "stream",
          "text": [
            "<class 'pandas.core.frame.DataFrame'>\n",
            "RangeIndex: 200000 entries, 0 to 199999\n",
            "Data columns (total 4 columns):\n",
            " #   Column              Non-Null Count   Dtype  \n",
            "---  ------              --------------   -----  \n",
            " 0   ID_Item             200000 non-null  int64  \n",
            " 1   Amount_Gross_Order  200000 non-null  float64\n",
            " 2   Quantity_item       200000 non-null  float64\n",
            " 3   Unit_Price          200000 non-null  float64\n",
            "dtypes: float64(3), int64(1)\n",
            "memory usage: 6.1 MB\n"
          ],
          "name": "stdout"
        }
      ]
    },
    {
      "cell_type": "code",
      "metadata": {
        "id": "jBsq2foSf-yH",
        "outputId": "35dbca68-3883-47d3-d52c-c4c0b10a5ecb"
      },
      "source": [
        "df = pd.merge(transactions, orders, left_on='product_variant_id', right_on='ID_Item')\n",
        "df.head()"
      ],
      "execution_count": null,
      "outputs": [
        {
          "output_type": "execute_result",
          "data": {
            "text/html": [
              "<div>\n",
              "<style scoped>\n",
              "    .dataframe tbody tr th:only-of-type {\n",
              "        vertical-align: middle;\n",
              "    }\n",
              "\n",
              "    .dataframe tbody tr th {\n",
              "        vertical-align: top;\n",
              "    }\n",
              "\n",
              "    .dataframe thead th {\n",
              "        text-align: right;\n",
              "    }\n",
              "</style>\n",
              "<table border=\"1\" class=\"dataframe\">\n",
              "  <thead>\n",
              "    <tr style=\"text-align: right;\">\n",
              "      <th></th>\n",
              "      <th>id</th>\n",
              "      <th>product_variant_id</th>\n",
              "      <th>selling_price</th>\n",
              "      <th>product_id</th>\n",
              "      <th>marketplace_seller_id</th>\n",
              "      <th>ID_Item</th>\n",
              "      <th>Amount_Gross_Order</th>\n",
              "      <th>Quantity_item</th>\n",
              "      <th>Unit_Price</th>\n",
              "    </tr>\n",
              "  </thead>\n",
              "  <tbody>\n",
              "    <tr>\n",
              "      <th>0</th>\n",
              "      <td>18751958</td>\n",
              "      <td>1977366</td>\n",
              "      <td>750000</td>\n",
              "      <td>197348</td>\n",
              "      <td>11436</td>\n",
              "      <td>1977366</td>\n",
              "      <td>670000.0</td>\n",
              "      <td>1.0</td>\n",
              "      <td>670000.0</td>\n",
              "    </tr>\n",
              "    <tr>\n",
              "      <th>1</th>\n",
              "      <td>18750189</td>\n",
              "      <td>1977141</td>\n",
              "      <td>360000</td>\n",
              "      <td>140514</td>\n",
              "      <td>83712</td>\n",
              "      <td>1977141</td>\n",
              "      <td>250000.0</td>\n",
              "      <td>1.0</td>\n",
              "      <td>250000.0</td>\n",
              "    </tr>\n",
              "    <tr>\n",
              "      <th>2</th>\n",
              "      <td>18748963</td>\n",
              "      <td>1976967</td>\n",
              "      <td>60000</td>\n",
              "      <td>498137</td>\n",
              "      <td>83712</td>\n",
              "      <td>1976967</td>\n",
              "      <td>55000.0</td>\n",
              "      <td>4.0</td>\n",
              "      <td>13750.0</td>\n",
              "    </tr>\n",
              "    <tr>\n",
              "      <th>3</th>\n",
              "      <td>18741603</td>\n",
              "      <td>1975894</td>\n",
              "      <td>195000</td>\n",
              "      <td>125726</td>\n",
              "      <td>856</td>\n",
              "      <td>1975894</td>\n",
              "      <td>195000.0</td>\n",
              "      <td>1.0</td>\n",
              "      <td>195000.0</td>\n",
              "    </tr>\n",
              "    <tr>\n",
              "      <th>4</th>\n",
              "      <td>18750097</td>\n",
              "      <td>1975894</td>\n",
              "      <td>195000</td>\n",
              "      <td>125726</td>\n",
              "      <td>856</td>\n",
              "      <td>1975894</td>\n",
              "      <td>195000.0</td>\n",
              "      <td>1.0</td>\n",
              "      <td>195000.0</td>\n",
              "    </tr>\n",
              "  </tbody>\n",
              "</table>\n",
              "</div>"
            ],
            "text/plain": [
              "         id  product_variant_id  selling_price  product_id  \\\n",
              "0  18751958             1977366         750000      197348   \n",
              "1  18750189             1977141         360000      140514   \n",
              "2  18748963             1976967          60000      498137   \n",
              "3  18741603             1975894         195000      125726   \n",
              "4  18750097             1975894         195000      125726   \n",
              "\n",
              "   marketplace_seller_id  ID_Item  Amount_Gross_Order  Quantity_item  \\\n",
              "0                  11436  1977366            670000.0            1.0   \n",
              "1                  83712  1977141            250000.0            1.0   \n",
              "2                  83712  1976967             55000.0            4.0   \n",
              "3                    856  1975894            195000.0            1.0   \n",
              "4                    856  1975894            195000.0            1.0   \n",
              "\n",
              "   Unit_Price  \n",
              "0    670000.0  \n",
              "1    250000.0  \n",
              "2     13750.0  \n",
              "3    195000.0  \n",
              "4    195000.0  "
            ]
          },
          "metadata": {
            "tags": []
          },
          "execution_count": 18
        }
      ]
    },
    {
      "cell_type": "code",
      "metadata": {
        "id": "Nx_MqE4zf-yH",
        "outputId": "b68fd9b1-e23a-4d42-dcdb-ab89782714e0"
      },
      "source": [
        "df.drop_duplicates(subset=['product_id'])\n",
        "df.info()"
      ],
      "execution_count": null,
      "outputs": [
        {
          "output_type": "stream",
          "text": [
            "<class 'pandas.core.frame.DataFrame'>\n",
            "Int64Index: 176129 entries, 0 to 176128\n",
            "Data columns (total 9 columns):\n",
            " #   Column                 Non-Null Count   Dtype  \n",
            "---  ------                 --------------   -----  \n",
            " 0   id                     176129 non-null  int64  \n",
            " 1   product_variant_id     176129 non-null  int64  \n",
            " 2   selling_price          176129 non-null  int64  \n",
            " 3   product_id             176129 non-null  int64  \n",
            " 4   marketplace_seller_id  176129 non-null  int64  \n",
            " 5   ID_Item                176129 non-null  int64  \n",
            " 6   Amount_Gross_Order     176129 non-null  float64\n",
            " 7   Quantity_item          176129 non-null  float64\n",
            " 8   Unit_Price             176129 non-null  float64\n",
            "dtypes: float64(3), int64(6)\n",
            "memory usage: 13.4 MB\n"
          ],
          "name": "stdout"
        }
      ]
    },
    {
      "cell_type": "code",
      "metadata": {
        "id": "P-F6glTRf-yI",
        "outputId": "771c6f50-21fc-4d32-e117-e07b8771989d"
      },
      "source": [
        "df.head(30)"
      ],
      "execution_count": null,
      "outputs": [
        {
          "output_type": "execute_result",
          "data": {
            "text/html": [
              "<div>\n",
              "<style scoped>\n",
              "    .dataframe tbody tr th:only-of-type {\n",
              "        vertical-align: middle;\n",
              "    }\n",
              "\n",
              "    .dataframe tbody tr th {\n",
              "        vertical-align: top;\n",
              "    }\n",
              "\n",
              "    .dataframe thead th {\n",
              "        text-align: right;\n",
              "    }\n",
              "</style>\n",
              "<table border=\"1\" class=\"dataframe\">\n",
              "  <thead>\n",
              "    <tr style=\"text-align: right;\">\n",
              "      <th></th>\n",
              "      <th>id</th>\n",
              "      <th>product_variant_id</th>\n",
              "      <th>selling_price</th>\n",
              "      <th>product_id</th>\n",
              "      <th>marketplace_seller_id</th>\n",
              "      <th>ID_Item</th>\n",
              "      <th>Amount_Gross_Order</th>\n",
              "      <th>Quantity_item</th>\n",
              "      <th>Unit_Price</th>\n",
              "    </tr>\n",
              "  </thead>\n",
              "  <tbody>\n",
              "    <tr>\n",
              "      <th>0</th>\n",
              "      <td>18751958</td>\n",
              "      <td>1977366</td>\n",
              "      <td>750000</td>\n",
              "      <td>197348</td>\n",
              "      <td>11436</td>\n",
              "      <td>1977366</td>\n",
              "      <td>670000.0</td>\n",
              "      <td>1.0</td>\n",
              "      <td>670000.0</td>\n",
              "    </tr>\n",
              "    <tr>\n",
              "      <th>1</th>\n",
              "      <td>18750189</td>\n",
              "      <td>1977141</td>\n",
              "      <td>360000</td>\n",
              "      <td>140514</td>\n",
              "      <td>83712</td>\n",
              "      <td>1977141</td>\n",
              "      <td>250000.0</td>\n",
              "      <td>1.0</td>\n",
              "      <td>250000.0</td>\n",
              "    </tr>\n",
              "    <tr>\n",
              "      <th>2</th>\n",
              "      <td>18748963</td>\n",
              "      <td>1976967</td>\n",
              "      <td>60000</td>\n",
              "      <td>498137</td>\n",
              "      <td>83712</td>\n",
              "      <td>1976967</td>\n",
              "      <td>55000.0</td>\n",
              "      <td>4.0</td>\n",
              "      <td>13750.0</td>\n",
              "    </tr>\n",
              "    <tr>\n",
              "      <th>3</th>\n",
              "      <td>18741603</td>\n",
              "      <td>1975894</td>\n",
              "      <td>195000</td>\n",
              "      <td>125726</td>\n",
              "      <td>856</td>\n",
              "      <td>1975894</td>\n",
              "      <td>195000.0</td>\n",
              "      <td>1.0</td>\n",
              "      <td>195000.0</td>\n",
              "    </tr>\n",
              "    <tr>\n",
              "      <th>4</th>\n",
              "      <td>18750097</td>\n",
              "      <td>1975894</td>\n",
              "      <td>195000</td>\n",
              "      <td>125726</td>\n",
              "      <td>856</td>\n",
              "      <td>1975894</td>\n",
              "      <td>195000.0</td>\n",
              "      <td>1.0</td>\n",
              "      <td>195000.0</td>\n",
              "    </tr>\n",
              "    <tr>\n",
              "      <th>5</th>\n",
              "      <td>18730504</td>\n",
              "      <td>1974569</td>\n",
              "      <td>525000</td>\n",
              "      <td>469247</td>\n",
              "      <td>70532</td>\n",
              "      <td>1974569</td>\n",
              "      <td>495000.0</td>\n",
              "      <td>1.0</td>\n",
              "      <td>495000.0</td>\n",
              "    </tr>\n",
              "    <tr>\n",
              "      <th>6</th>\n",
              "      <td>18724640</td>\n",
              "      <td>1973834</td>\n",
              "      <td>475000</td>\n",
              "      <td>147614</td>\n",
              "      <td>7715</td>\n",
              "      <td>1973834</td>\n",
              "      <td>430000.0</td>\n",
              "      <td>1.0</td>\n",
              "      <td>430000.0</td>\n",
              "    </tr>\n",
              "    <tr>\n",
              "      <th>7</th>\n",
              "      <td>18724722</td>\n",
              "      <td>1973834</td>\n",
              "      <td>475000</td>\n",
              "      <td>147614</td>\n",
              "      <td>7715</td>\n",
              "      <td>1973834</td>\n",
              "      <td>430000.0</td>\n",
              "      <td>1.0</td>\n",
              "      <td>430000.0</td>\n",
              "    </tr>\n",
              "    <tr>\n",
              "      <th>8</th>\n",
              "      <td>18724856</td>\n",
              "      <td>1973834</td>\n",
              "      <td>475000</td>\n",
              "      <td>147614</td>\n",
              "      <td>7715</td>\n",
              "      <td>1973834</td>\n",
              "      <td>430000.0</td>\n",
              "      <td>1.0</td>\n",
              "      <td>430000.0</td>\n",
              "    </tr>\n",
              "    <tr>\n",
              "      <th>9</th>\n",
              "      <td>18724878</td>\n",
              "      <td>1973834</td>\n",
              "      <td>470000</td>\n",
              "      <td>147614</td>\n",
              "      <td>7715</td>\n",
              "      <td>1973834</td>\n",
              "      <td>430000.0</td>\n",
              "      <td>1.0</td>\n",
              "      <td>430000.0</td>\n",
              "    </tr>\n",
              "    <tr>\n",
              "      <th>10</th>\n",
              "      <td>18749511</td>\n",
              "      <td>1973834</td>\n",
              "      <td>420000</td>\n",
              "      <td>147614</td>\n",
              "      <td>7715</td>\n",
              "      <td>1973834</td>\n",
              "      <td>430000.0</td>\n",
              "      <td>1.0</td>\n",
              "      <td>430000.0</td>\n",
              "    </tr>\n",
              "    <tr>\n",
              "      <th>11</th>\n",
              "      <td>18749593</td>\n",
              "      <td>1973834</td>\n",
              "      <td>430000</td>\n",
              "      <td>147614</td>\n",
              "      <td>7715</td>\n",
              "      <td>1973834</td>\n",
              "      <td>430000.0</td>\n",
              "      <td>1.0</td>\n",
              "      <td>430000.0</td>\n",
              "    </tr>\n",
              "    <tr>\n",
              "      <th>12</th>\n",
              "      <td>18724488</td>\n",
              "      <td>1973813</td>\n",
              "      <td>900000</td>\n",
              "      <td>525405</td>\n",
              "      <td>77284</td>\n",
              "      <td>1973813</td>\n",
              "      <td>900000.0</td>\n",
              "      <td>1.0</td>\n",
              "      <td>900000.0</td>\n",
              "    </tr>\n",
              "    <tr>\n",
              "      <th>13</th>\n",
              "      <td>18722166</td>\n",
              "      <td>1973590</td>\n",
              "      <td>380000</td>\n",
              "      <td>222781</td>\n",
              "      <td>11692</td>\n",
              "      <td>1973590</td>\n",
              "      <td>380000.0</td>\n",
              "      <td>1.0</td>\n",
              "      <td>380000.0</td>\n",
              "    </tr>\n",
              "    <tr>\n",
              "      <th>14</th>\n",
              "      <td>18718971</td>\n",
              "      <td>1973263</td>\n",
              "      <td>100000</td>\n",
              "      <td>39127</td>\n",
              "      <td>81618</td>\n",
              "      <td>1973263</td>\n",
              "      <td>200000.0</td>\n",
              "      <td>2.0</td>\n",
              "      <td>100000.0</td>\n",
              "    </tr>\n",
              "    <tr>\n",
              "      <th>15</th>\n",
              "      <td>18703805</td>\n",
              "      <td>1972705</td>\n",
              "      <td>2020000</td>\n",
              "      <td>609902</td>\n",
              "      <td>7594</td>\n",
              "      <td>1972705</td>\n",
              "      <td>2075000.0</td>\n",
              "      <td>1.0</td>\n",
              "      <td>2075000.0</td>\n",
              "    </tr>\n",
              "    <tr>\n",
              "      <th>16</th>\n",
              "      <td>18716878</td>\n",
              "      <td>1972705</td>\n",
              "      <td>2020000</td>\n",
              "      <td>609902</td>\n",
              "      <td>7594</td>\n",
              "      <td>1972705</td>\n",
              "      <td>2075000.0</td>\n",
              "      <td>1.0</td>\n",
              "      <td>2075000.0</td>\n",
              "    </tr>\n",
              "    <tr>\n",
              "      <th>17</th>\n",
              "      <td>18738727</td>\n",
              "      <td>1972705</td>\n",
              "      <td>2020000</td>\n",
              "      <td>609902</td>\n",
              "      <td>7594</td>\n",
              "      <td>1972705</td>\n",
              "      <td>2075000.0</td>\n",
              "      <td>1.0</td>\n",
              "      <td>2075000.0</td>\n",
              "    </tr>\n",
              "    <tr>\n",
              "      <th>18</th>\n",
              "      <td>18678067</td>\n",
              "      <td>1971044</td>\n",
              "      <td>1610000</td>\n",
              "      <td>539941</td>\n",
              "      <td>66785</td>\n",
              "      <td>1971044</td>\n",
              "      <td>1610000.0</td>\n",
              "      <td>2.0</td>\n",
              "      <td>805000.0</td>\n",
              "    </tr>\n",
              "    <tr>\n",
              "      <th>19</th>\n",
              "      <td>18659745</td>\n",
              "      <td>1969699</td>\n",
              "      <td>494000</td>\n",
              "      <td>105944</td>\n",
              "      <td>86167</td>\n",
              "      <td>1969699</td>\n",
              "      <td>494000.0</td>\n",
              "      <td>1.0</td>\n",
              "      <td>494000.0</td>\n",
              "    </tr>\n",
              "    <tr>\n",
              "      <th>20</th>\n",
              "      <td>18651612</td>\n",
              "      <td>1969100</td>\n",
              "      <td>910000</td>\n",
              "      <td>226782</td>\n",
              "      <td>62313</td>\n",
              "      <td>1969100</td>\n",
              "      <td>889000.0</td>\n",
              "      <td>1.0</td>\n",
              "      <td>889000.0</td>\n",
              "    </tr>\n",
              "    <tr>\n",
              "      <th>21</th>\n",
              "      <td>18669729</td>\n",
              "      <td>1969100</td>\n",
              "      <td>908000</td>\n",
              "      <td>226782</td>\n",
              "      <td>62313</td>\n",
              "      <td>1969100</td>\n",
              "      <td>889000.0</td>\n",
              "      <td>1.0</td>\n",
              "      <td>889000.0</td>\n",
              "    </tr>\n",
              "    <tr>\n",
              "      <th>22</th>\n",
              "      <td>18650570</td>\n",
              "      <td>1969063</td>\n",
              "      <td>2690000</td>\n",
              "      <td>33874</td>\n",
              "      <td>6575</td>\n",
              "      <td>1969063</td>\n",
              "      <td>2990000.0</td>\n",
              "      <td>1.0</td>\n",
              "      <td>2990000.0</td>\n",
              "    </tr>\n",
              "    <tr>\n",
              "      <th>23</th>\n",
              "      <td>18637527</td>\n",
              "      <td>1968830</td>\n",
              "      <td>1410000</td>\n",
              "      <td>152513</td>\n",
              "      <td>6523</td>\n",
              "      <td>1968830</td>\n",
              "      <td>1185000.0</td>\n",
              "      <td>1.0</td>\n",
              "      <td>1185000.0</td>\n",
              "    </tr>\n",
              "    <tr>\n",
              "      <th>24</th>\n",
              "      <td>18617657</td>\n",
              "      <td>1967001</td>\n",
              "      <td>880000</td>\n",
              "      <td>146847</td>\n",
              "      <td>80476</td>\n",
              "      <td>1967001</td>\n",
              "      <td>650000.0</td>\n",
              "      <td>1.0</td>\n",
              "      <td>650000.0</td>\n",
              "    </tr>\n",
              "    <tr>\n",
              "      <th>25</th>\n",
              "      <td>18589824</td>\n",
              "      <td>1963744</td>\n",
              "      <td>230000</td>\n",
              "      <td>208846</td>\n",
              "      <td>1364</td>\n",
              "      <td>1963744</td>\n",
              "      <td>230000.0</td>\n",
              "      <td>1.0</td>\n",
              "      <td>230000.0</td>\n",
              "    </tr>\n",
              "    <tr>\n",
              "      <th>26</th>\n",
              "      <td>18576451</td>\n",
              "      <td>1963024</td>\n",
              "      <td>215000</td>\n",
              "      <td>693606</td>\n",
              "      <td>10245</td>\n",
              "      <td>1963024</td>\n",
              "      <td>215000.0</td>\n",
              "      <td>1.0</td>\n",
              "      <td>215000.0</td>\n",
              "    </tr>\n",
              "    <tr>\n",
              "      <th>27</th>\n",
              "      <td>18567411</td>\n",
              "      <td>1962514</td>\n",
              "      <td>52000</td>\n",
              "      <td>451897</td>\n",
              "      <td>1816</td>\n",
              "      <td>1962514</td>\n",
              "      <td>50000.0</td>\n",
              "      <td>1.0</td>\n",
              "      <td>50000.0</td>\n",
              "    </tr>\n",
              "    <tr>\n",
              "      <th>28</th>\n",
              "      <td>18567411</td>\n",
              "      <td>1962514</td>\n",
              "      <td>52000</td>\n",
              "      <td>451897</td>\n",
              "      <td>1816</td>\n",
              "      <td>1962514</td>\n",
              "      <td>50000.0</td>\n",
              "      <td>1.0</td>\n",
              "      <td>50000.0</td>\n",
              "    </tr>\n",
              "    <tr>\n",
              "      <th>29</th>\n",
              "      <td>18567411</td>\n",
              "      <td>1962514</td>\n",
              "      <td>52000</td>\n",
              "      <td>451897</td>\n",
              "      <td>1816</td>\n",
              "      <td>1962514</td>\n",
              "      <td>52000.0</td>\n",
              "      <td>1.0</td>\n",
              "      <td>52000.0</td>\n",
              "    </tr>\n",
              "  </tbody>\n",
              "</table>\n",
              "</div>"
            ],
            "text/plain": [
              "          id  product_variant_id  selling_price  product_id  \\\n",
              "0   18751958             1977366         750000      197348   \n",
              "1   18750189             1977141         360000      140514   \n",
              "2   18748963             1976967          60000      498137   \n",
              "3   18741603             1975894         195000      125726   \n",
              "4   18750097             1975894         195000      125726   \n",
              "5   18730504             1974569         525000      469247   \n",
              "6   18724640             1973834         475000      147614   \n",
              "7   18724722             1973834         475000      147614   \n",
              "8   18724856             1973834         475000      147614   \n",
              "9   18724878             1973834         470000      147614   \n",
              "10  18749511             1973834         420000      147614   \n",
              "11  18749593             1973834         430000      147614   \n",
              "12  18724488             1973813         900000      525405   \n",
              "13  18722166             1973590         380000      222781   \n",
              "14  18718971             1973263         100000       39127   \n",
              "15  18703805             1972705        2020000      609902   \n",
              "16  18716878             1972705        2020000      609902   \n",
              "17  18738727             1972705        2020000      609902   \n",
              "18  18678067             1971044        1610000      539941   \n",
              "19  18659745             1969699         494000      105944   \n",
              "20  18651612             1969100         910000      226782   \n",
              "21  18669729             1969100         908000      226782   \n",
              "22  18650570             1969063        2690000       33874   \n",
              "23  18637527             1968830        1410000      152513   \n",
              "24  18617657             1967001         880000      146847   \n",
              "25  18589824             1963744         230000      208846   \n",
              "26  18576451             1963024         215000      693606   \n",
              "27  18567411             1962514          52000      451897   \n",
              "28  18567411             1962514          52000      451897   \n",
              "29  18567411             1962514          52000      451897   \n",
              "\n",
              "    marketplace_seller_id  ID_Item  Amount_Gross_Order  Quantity_item  \\\n",
              "0                   11436  1977366            670000.0            1.0   \n",
              "1                   83712  1977141            250000.0            1.0   \n",
              "2                   83712  1976967             55000.0            4.0   \n",
              "3                     856  1975894            195000.0            1.0   \n",
              "4                     856  1975894            195000.0            1.0   \n",
              "5                   70532  1974569            495000.0            1.0   \n",
              "6                    7715  1973834            430000.0            1.0   \n",
              "7                    7715  1973834            430000.0            1.0   \n",
              "8                    7715  1973834            430000.0            1.0   \n",
              "9                    7715  1973834            430000.0            1.0   \n",
              "10                   7715  1973834            430000.0            1.0   \n",
              "11                   7715  1973834            430000.0            1.0   \n",
              "12                  77284  1973813            900000.0            1.0   \n",
              "13                  11692  1973590            380000.0            1.0   \n",
              "14                  81618  1973263            200000.0            2.0   \n",
              "15                   7594  1972705           2075000.0            1.0   \n",
              "16                   7594  1972705           2075000.0            1.0   \n",
              "17                   7594  1972705           2075000.0            1.0   \n",
              "18                  66785  1971044           1610000.0            2.0   \n",
              "19                  86167  1969699            494000.0            1.0   \n",
              "20                  62313  1969100            889000.0            1.0   \n",
              "21                  62313  1969100            889000.0            1.0   \n",
              "22                   6575  1969063           2990000.0            1.0   \n",
              "23                   6523  1968830           1185000.0            1.0   \n",
              "24                  80476  1967001            650000.0            1.0   \n",
              "25                   1364  1963744            230000.0            1.0   \n",
              "26                  10245  1963024            215000.0            1.0   \n",
              "27                   1816  1962514             50000.0            1.0   \n",
              "28                   1816  1962514             50000.0            1.0   \n",
              "29                   1816  1962514             52000.0            1.0   \n",
              "\n",
              "    Unit_Price  \n",
              "0     670000.0  \n",
              "1     250000.0  \n",
              "2      13750.0  \n",
              "3     195000.0  \n",
              "4     195000.0  \n",
              "5     495000.0  \n",
              "6     430000.0  \n",
              "7     430000.0  \n",
              "8     430000.0  \n",
              "9     430000.0  \n",
              "10    430000.0  \n",
              "11    430000.0  \n",
              "12    900000.0  \n",
              "13    380000.0  \n",
              "14    100000.0  \n",
              "15   2075000.0  \n",
              "16   2075000.0  \n",
              "17   2075000.0  \n",
              "18    805000.0  \n",
              "19    494000.0  \n",
              "20    889000.0  \n",
              "21    889000.0  \n",
              "22   2990000.0  \n",
              "23   1185000.0  \n",
              "24    650000.0  \n",
              "25    230000.0  \n",
              "26    215000.0  \n",
              "27     50000.0  \n",
              "28     50000.0  \n",
              "29     52000.0  "
            ]
          },
          "metadata": {
            "tags": []
          },
          "execution_count": 20
        }
      ]
    },
    {
      "cell_type": "code",
      "metadata": {
        "id": "NHV65JRXf-yK",
        "outputId": "6b2032d4-44aa-44a4-f7c7-29a668372f1a"
      },
      "source": [
        "prices = df['selling_price']\n",
        "prices"
      ],
      "execution_count": null,
      "outputs": [
        {
          "output_type": "execute_result",
          "data": {
            "text/plain": [
              "0         750000\n",
              "1         360000\n",
              "2          60000\n",
              "3         195000\n",
              "4         195000\n",
              "           ...  \n",
              "176124    124400\n",
              "176125    119800\n",
              "176126    118800\n",
              "176127    118400\n",
              "176128    117800\n",
              "Name: selling_price, Length: 176129, dtype: int64"
            ]
          },
          "metadata": {
            "tags": []
          },
          "execution_count": 42
        }
      ]
    },
    {
      "cell_type": "markdown",
      "metadata": {
        "id": "5jO1Yeevf-yK"
      },
      "source": [
        "<hr>"
      ]
    },
    {
      "cell_type": "code",
      "metadata": {
        "colab": {
          "base_uri": "https://localhost:8080/"
        },
        "id": "3Xjah9l0fNni",
        "outputId": "cae331c0-16c0-43ec-b2bd-4efde5b1ddc6"
      },
      "source": [
        "temp = df.drop(columns=['Unit_Price'])\n",
        "X = temp.values\n",
        "X"
      ],
      "execution_count": null,
      "outputs": [
        {
          "output_type": "execute_result",
          "data": {
            "text/plain": [
              "array([[1.8751958e+07, 1.9773660e+06, 7.5000000e+05, ..., 1.9773660e+06,\n",
              "        6.7000000e+05, 1.0000000e+00],\n",
              "       [1.8750189e+07, 1.9771410e+06, 3.6000000e+05, ..., 1.9771410e+06,\n",
              "        2.5000000e+05, 1.0000000e+00],\n",
              "       [1.8748963e+07, 1.9769670e+06, 6.0000000e+04, ..., 1.9769670e+06,\n",
              "        5.5000000e+04, 4.0000000e+00],\n",
              "       ...,\n",
              "       [1.8280403e+07, 1.1550660e+06, 1.1880000e+05, ..., 1.1550660e+06,\n",
              "        1.3110000e+05, 3.0000000e+00],\n",
              "       [1.8287245e+07, 1.1550660e+06, 1.1840000e+05, ..., 1.1550660e+06,\n",
              "        1.3110000e+05, 3.0000000e+00],\n",
              "       [1.8416565e+07, 1.1550660e+06, 1.1780000e+05, ..., 1.1550660e+06,\n",
              "        1.3110000e+05, 3.0000000e+00]])"
            ]
          },
          "metadata": {
            "tags": []
          },
          "execution_count": 65
        }
      ]
    },
    {
      "cell_type": "code",
      "metadata": {
        "colab": {
          "base_uri": "https://localhost:8080/"
        },
        "id": "n_i32pW_f5Nj",
        "outputId": "b1a09426-7ff6-4770-fb3a-7a132e8766a5"
      },
      "source": [
        "Y = prices.values\n",
        "Y"
      ],
      "execution_count": null,
      "outputs": [
        {
          "output_type": "execute_result",
          "data": {
            "text/plain": [
              "array([750000, 360000,  60000, ..., 118800, 118400, 117800], dtype=int64)"
            ]
          },
          "metadata": {
            "tags": []
          },
          "execution_count": 66
        }
      ]
    },
    {
      "cell_type": "code",
      "metadata": {
        "id": "pMJaKemdVcqp",
        "outputId": "f6ca86fc-da96-4a56-f796-3f80aba37d6f"
      },
      "source": [
        "Y.shape"
      ],
      "execution_count": null,
      "outputs": [
        {
          "output_type": "execute_result",
          "data": {
            "text/plain": [
              "(176129,)"
            ]
          },
          "metadata": {
            "tags": []
          },
          "execution_count": 67
        }
      ]
    },
    {
      "cell_type": "code",
      "metadata": {
        "id": "peYHyZ0wf-yM",
        "outputId": "dbdfd2e7-8606-421c-b67f-b62c756fa6df"
      },
      "source": [
        "X.shape"
      ],
      "execution_count": null,
      "outputs": [
        {
          "output_type": "execute_result",
          "data": {
            "text/plain": [
              "(176129, 8)"
            ]
          },
          "metadata": {
            "tags": []
          },
          "execution_count": 68
        }
      ]
    },
    {
      "cell_type": "code",
      "metadata": {
        "colab": {
          "base_uri": "https://localhost:8080/"
        },
        "id": "O1V7izhFVicR",
        "outputId": "144d9c3f-3211-4ab1-b130-7046f16827b8"
      },
      "source": [
        "min_max_scaler = MinMaxScaler()\n",
        "X_scale = min_max_scaler.fit_transform(X)\n",
        "X_scale"
      ],
      "execution_count": null,
      "outputs": [
        {
          "output_type": "execute_result",
          "data": {
            "text/plain": [
              "array([[9.99991828e-01, 1.00000000e+00, 5.99998624e-12, ...,\n",
              "        1.00000000e+00, 7.38181601e-03, 0.00000000e+00],\n",
              "       [9.99841251e-01, 9.99726377e-01, 2.87998924e-12, ...,\n",
              "        9.99726377e-01, 2.64916035e-03, 0.00000000e+00],\n",
              "       [9.99736894e-01, 9.99514776e-01, 4.79991539e-13, ...,\n",
              "        9.99514776e-01, 4.51855933e-04, 1.03448276e-01],\n",
              "       ...,\n",
              "       [9.59853107e-01, 0.00000000e+00, 9.50391088e-13, ...,\n",
              "        0.00000000e+00, 1.30936807e-03, 6.89655172e-02],\n",
              "       [9.60435497e-01, 0.00000000e+00, 9.47191091e-13, ...,\n",
              "        0.00000000e+00, 1.30936807e-03, 6.89655172e-02],\n",
              "       [9.71443205e-01, 0.00000000e+00, 9.42391095e-13, ...,\n",
              "        0.00000000e+00, 1.30936807e-03, 6.89655172e-02]])"
            ]
          },
          "metadata": {
            "tags": []
          },
          "execution_count": 69
        }
      ]
    },
    {
      "cell_type": "code",
      "metadata": {
        "id": "N54_tWQRf-yO",
        "outputId": "64ecbe80-2e94-4e00-c3dc-5cc5a8b88a91"
      },
      "source": [
        "X_scale.shape"
      ],
      "execution_count": null,
      "outputs": [
        {
          "output_type": "execute_result",
          "data": {
            "text/plain": [
              "(176129, 8)"
            ]
          },
          "metadata": {
            "tags": []
          },
          "execution_count": 70
        }
      ]
    },
    {
      "cell_type": "code",
      "metadata": {
        "id": "FqjvJHxdgdVS"
      },
      "source": [
        "x_train,x_test,y_train,y_test=train_test_split(X_scale,Y,test_size=0.2,random_state=123)"
      ],
      "execution_count": null,
      "outputs": []
    },
    {
      "cell_type": "code",
      "metadata": {
        "colab": {
          "base_uri": "https://localhost:8080/"
        },
        "id": "eYGaA16_gqxh",
        "outputId": "95fbc75d-79f1-4fcb-ce96-0fdcce3f0e2e"
      },
      "source": [
        "print(x_train.shape, x_test.shape, y_train.shape, y_test.shape)"
      ],
      "execution_count": null,
      "outputs": [
        {
          "output_type": "stream",
          "text": [
            "(140903, 8) (35226, 8) (140903,) (35226,)\n"
          ],
          "name": "stdout"
        }
      ]
    },
    {
      "cell_type": "code",
      "metadata": {
        "id": "Nh4qQPzahFRT",
        "outputId": "7f544d09-90e1-488b-eea1-a868f37b7a80"
      },
      "source": [
        "# 1. OLS\n",
        "\n",
        "ols = LinearRegression(normalize=True)\n",
        "ols.fit(x_train, y_train)\n",
        "ols_yhat = ols.predict(x_test)\n",
        "\n",
        "# 2. Lasso\n",
        "\n",
        "lasso = Lasso(alpha = 10)\n",
        "lasso.fit(x_train, y_train)\n",
        "lasso_yhat = lasso.predict(x_test)"
      ],
      "execution_count": null,
      "outputs": [
        {
          "output_type": "stream",
          "text": [
            "C:\\anaconda3\\lib\\site-packages\\sklearn\\linear_model\\_coordinate_descent.py:529: ConvergenceWarning: Objective did not converge. You might want to increase the number of iterations. Duality gap: 2.2018521116334554e+22, tolerance: 5.445645303303538e+20\n",
            "  model = cd_fast.enet_coordinate_descent(\n"
          ],
          "name": "stderr"
        }
      ]
    },
    {
      "cell_type": "code",
      "metadata": {
        "colab": {
          "base_uri": "https://localhost:8080/"
        },
        "id": "pfNJD1Aki5Gm",
        "outputId": "8150ff46-bdf4-409a-d096-10eb943e74c7"
      },
      "source": [
        "print(('EXPLAINED VARIANCE SCORE:'))\n",
        "print('-------------------------------------------------------------------------------')\n",
        "print(('Explained Variance Score of OLS model is {}'.format(evs(y_test, ols_yhat).round())))\n",
        "print(('Explained Variance Score of Lasso model is {}'.format(evs(y_test, lasso_yhat).round())))\n"
      ],
      "execution_count": null,
      "outputs": [
        {
          "output_type": "stream",
          "text": [
            "EXPLAINED VARIANCE SCORE:\n",
            "-------------------------------------------------------------------------------\n",
            "Explained Variance Score of OLS model is 1.0\n",
            "Explained Variance Score of Lasso model is 1.0\n"
          ],
          "name": "stdout"
        }
      ]
    },
    {
      "cell_type": "code",
      "metadata": {
        "colab": {
          "base_uri": "https://localhost:8080/"
        },
        "id": "cuY6ayrDjicJ",
        "outputId": "4a4823a3-bff2-4186-f757-5295f7f60d4f"
      },
      "source": [
        "print('R-SQUARED:')\n",
        "print('-------------------------------------------------------------------------------')\n",
        "print(('R-Squared of OLS model is {}'.format(r2(y_test, ols_yhat).round())))\n",
        "print(('R-Squared of Lasso model is {}'.format(r2(y_test, lasso_yhat).round())))\n"
      ],
      "execution_count": null,
      "outputs": [
        {
          "output_type": "stream",
          "text": [
            "R-SQUARED:\n",
            "-------------------------------------------------------------------------------\n",
            "R-Squared of OLS model is 1.0\n",
            "R-Squared of Lasso model is 1.0\n"
          ],
          "name": "stdout"
        }
      ]
    }
  ]
}