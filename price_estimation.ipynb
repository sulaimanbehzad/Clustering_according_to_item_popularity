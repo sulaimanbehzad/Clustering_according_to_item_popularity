{
  "nbformat": 4,
  "nbformat_minor": 0,
  "metadata": {
    "colab": {
      "name": "price_estimation.ipynb",
      "provenance": [],
      "toc_visible": true,
      "mount_file_id": "1s7-Ib6Wciro0mlynaN6JDq6xGcn6_lM2",
      "authorship_tag": "ABX9TyPzSqYZFpOuZYQPV6lLnga1",
      "include_colab_link": true
    },
    "kernelspec": {
      "name": "python3",
      "display_name": "Python 3"
    }
  },
  "cells": [
    {
      "cell_type": "markdown",
      "metadata": {
        "id": "view-in-github",
        "colab_type": "text"
      },
      "source": [
        "<a href=\"https://colab.research.google.com/github/sulaimanbehzad/Clustering_according_to_item_popularity/blob/main/price_estimation.ipynb\" target=\"_parent\"><img src=\"https://colab.research.google.com/assets/colab-badge.svg\" alt=\"Open In Colab\"/></a>"
      ]
    },
    {
      "cell_type": "markdown",
      "metadata": {
        "id": "rs6sL_flPtNy"
      },
      "source": [
        "# Estimating the price of each product\r\n",
        "We will use Neural Network to predict the price of each product"
      ]
    },
    {
      "cell_type": "code",
      "metadata": {
        "id": "l67Fk_VQP83Z"
      },
      "source": [
        "import pandas as pd\r\n",
        "import numpy as np\r\n",
        "import matplotlib.pyplot as plt\r\n",
        "from sklearn.preprocessing import LabelEncoder, normalize\r\n",
        "from sklearn.neighbors import LocalOutlierFactor\r\n"
      ],
      "execution_count": 1,
      "outputs": []
    },
    {
      "cell_type": "code",
      "metadata": {
        "colab": {
          "base_uri": "https://localhost:8080/",
          "height": 206
        },
        "id": "40q_YZk9Qa3E",
        "outputId": "5a334a3d-9c36-41af-cd74-feb507bb63c5"
      },
      "source": [
        "orders = pd.read_csv('/content/drive/MyDrive/Clustering_according_to_item_popularity/orders.csv')\r\n",
        "orders.head()"
      ],
      "execution_count": 2,
      "outputs": [
        {
          "output_type": "execute_result",
          "data": {
            "text/html": [
              "<div>\n",
              "<style scoped>\n",
              "    .dataframe tbody tr th:only-of-type {\n",
              "        vertical-align: middle;\n",
              "    }\n",
              "\n",
              "    .dataframe tbody tr th {\n",
              "        vertical-align: top;\n",
              "    }\n",
              "\n",
              "    .dataframe thead th {\n",
              "        text-align: right;\n",
              "    }\n",
              "</style>\n",
              "<table border=\"1\" class=\"dataframe\">\n",
              "  <thead>\n",
              "    <tr style=\"text-align: right;\">\n",
              "      <th></th>\n",
              "      <th>ID_Order</th>\n",
              "      <th>ID_Customer</th>\n",
              "      <th>ID_Item</th>\n",
              "      <th>DateTime_CartFinalize</th>\n",
              "      <th>Amount_Gross_Order</th>\n",
              "      <th>city_name_fa</th>\n",
              "      <th>Quantity_item</th>\n",
              "    </tr>\n",
              "  </thead>\n",
              "  <tbody>\n",
              "    <tr>\n",
              "      <th>0</th>\n",
              "      <td>2714054</td>\n",
              "      <td>469662</td>\n",
              "      <td>21386</td>\n",
              "      <td>2015-10-15 08:50:56.000</td>\n",
              "      <td>597982.0</td>\n",
              "      <td>محمود آباد</td>\n",
              "      <td>1.0</td>\n",
              "    </tr>\n",
              "    <tr>\n",
              "      <th>1</th>\n",
              "      <td>11104039</td>\n",
              "      <td>3063877</td>\n",
              "      <td>248497</td>\n",
              "      <td>2018-02-11 00:29:26.000</td>\n",
              "      <td>980000.0</td>\n",
              "      <td>خرمدره</td>\n",
              "      <td>1.0</td>\n",
              "    </tr>\n",
              "    <tr>\n",
              "      <th>2</th>\n",
              "      <td>4228130</td>\n",
              "      <td>3184893</td>\n",
              "      <td>50144</td>\n",
              "      <td>2016-06-14 00:30:08.000</td>\n",
              "      <td>229358.0</td>\n",
              "      <td>قرچک</td>\n",
              "      <td>1.0</td>\n",
              "    </tr>\n",
              "    <tr>\n",
              "      <th>3</th>\n",
              "      <td>22225624</td>\n",
              "      <td>6888562</td>\n",
              "      <td>70208</td>\n",
              "      <td>2018-09-03 14:37:19.000</td>\n",
              "      <td>16514.0</td>\n",
              "      <td>قم</td>\n",
              "      <td>1.0</td>\n",
              "    </tr>\n",
              "    <tr>\n",
              "      <th>4</th>\n",
              "      <td>4068771</td>\n",
              "      <td>2533490</td>\n",
              "      <td>67627</td>\n",
              "      <td>2016-05-21 11:51:02.000</td>\n",
              "      <td>133028.0</td>\n",
              "      <td>تهران</td>\n",
              "      <td>1.0</td>\n",
              "    </tr>\n",
              "  </tbody>\n",
              "</table>\n",
              "</div>"
            ],
            "text/plain": [
              "   ID_Order  ID_Customer  ...  city_name_fa Quantity_item\n",
              "0   2714054       469662  ...    محمود آباد           1.0\n",
              "1  11104039      3063877  ...        خرمدره           1.0\n",
              "2   4228130      3184893  ...          قرچک           1.0\n",
              "3  22225624      6888562  ...            قم           1.0\n",
              "4   4068771      2533490  ...         تهران           1.0\n",
              "\n",
              "[5 rows x 7 columns]"
            ]
          },
          "metadata": {
            "tags": []
          },
          "execution_count": 2
        }
      ]
    },
    {
      "cell_type": "markdown",
      "metadata": {
        "id": "kuWOa4KkQ1A8"
      },
      "source": [
        "For the above purpose we will need these features:  \r\n",
        "1. ID_Item\r\n",
        "2. Quantity_item\r\n",
        "3. Amount_Gross Order"
      ]
    },
    {
      "cell_type": "code",
      "metadata": {
        "colab": {
          "base_uri": "https://localhost:8080/",
          "height": 206
        },
        "id": "6eoPEGv3Risj",
        "outputId": "5a27b32c-5263-4725-d698-2f88764a69e7"
      },
      "source": [
        "orders = orders.filter(['ID_Item', 'Quantity_item', 'Amount_Gross_Order'])\r\n",
        "orders.head()"
      ],
      "execution_count": 3,
      "outputs": [
        {
          "output_type": "execute_result",
          "data": {
            "text/html": [
              "<div>\n",
              "<style scoped>\n",
              "    .dataframe tbody tr th:only-of-type {\n",
              "        vertical-align: middle;\n",
              "    }\n",
              "\n",
              "    .dataframe tbody tr th {\n",
              "        vertical-align: top;\n",
              "    }\n",
              "\n",
              "    .dataframe thead th {\n",
              "        text-align: right;\n",
              "    }\n",
              "</style>\n",
              "<table border=\"1\" class=\"dataframe\">\n",
              "  <thead>\n",
              "    <tr style=\"text-align: right;\">\n",
              "      <th></th>\n",
              "      <th>ID_Item</th>\n",
              "      <th>Quantity_item</th>\n",
              "      <th>Amount_Gross_Order</th>\n",
              "    </tr>\n",
              "  </thead>\n",
              "  <tbody>\n",
              "    <tr>\n",
              "      <th>0</th>\n",
              "      <td>21386</td>\n",
              "      <td>1.0</td>\n",
              "      <td>597982.0</td>\n",
              "    </tr>\n",
              "    <tr>\n",
              "      <th>1</th>\n",
              "      <td>248497</td>\n",
              "      <td>1.0</td>\n",
              "      <td>980000.0</td>\n",
              "    </tr>\n",
              "    <tr>\n",
              "      <th>2</th>\n",
              "      <td>50144</td>\n",
              "      <td>1.0</td>\n",
              "      <td>229358.0</td>\n",
              "    </tr>\n",
              "    <tr>\n",
              "      <th>3</th>\n",
              "      <td>70208</td>\n",
              "      <td>1.0</td>\n",
              "      <td>16514.0</td>\n",
              "    </tr>\n",
              "    <tr>\n",
              "      <th>4</th>\n",
              "      <td>67627</td>\n",
              "      <td>1.0</td>\n",
              "      <td>133028.0</td>\n",
              "    </tr>\n",
              "  </tbody>\n",
              "</table>\n",
              "</div>"
            ],
            "text/plain": [
              "   ID_Item  Quantity_item  Amount_Gross_Order\n",
              "0    21386            1.0            597982.0\n",
              "1   248497            1.0            980000.0\n",
              "2    50144            1.0            229358.0\n",
              "3    70208            1.0             16514.0\n",
              "4    67627            1.0            133028.0"
            ]
          },
          "metadata": {
            "tags": []
          },
          "execution_count": 3
        }
      ]
    },
    {
      "cell_type": "code",
      "metadata": {
        "colab": {
          "base_uri": "https://localhost:8080/"
        },
        "id": "puYAch6aSuei",
        "outputId": "053325fa-e97d-47b8-a353-b19c3ce4857b"
      },
      "source": [
        "orders['Unit_Price'] = np.divide(orders['Amount_Gross_Order'], orders['Quantity_item'])\r\n",
        "orders['Unit_Price']"
      ],
      "execution_count": 6,
      "outputs": [
        {
          "output_type": "execute_result",
          "data": {
            "text/plain": [
              "0         597982.0\n",
              "1         980000.0\n",
              "2         229358.0\n",
              "3          16514.0\n",
              "4         133028.0\n",
              "            ...   \n",
              "199995    172018.5\n",
              "199996    600000.0\n",
              "199997    450000.0\n",
              "199998    193486.0\n",
              "199999     55046.0\n",
              "Name: Unit_Price, Length: 200000, dtype: float64"
            ]
          },
          "metadata": {
            "tags": []
          },
          "execution_count": 6
        }
      ]
    },
    {
      "cell_type": "code",
      "metadata": {
        "colab": {
          "base_uri": "https://localhost:8080/",
          "height": 990
        },
        "id": "OVzl9CSsTjyd",
        "outputId": "832ab987-5c02-4503-9d38-a9d39a424774"
      },
      "source": [
        "orders.head(30)"
      ],
      "execution_count": 7,
      "outputs": [
        {
          "output_type": "execute_result",
          "data": {
            "text/html": [
              "<div>\n",
              "<style scoped>\n",
              "    .dataframe tbody tr th:only-of-type {\n",
              "        vertical-align: middle;\n",
              "    }\n",
              "\n",
              "    .dataframe tbody tr th {\n",
              "        vertical-align: top;\n",
              "    }\n",
              "\n",
              "    .dataframe thead th {\n",
              "        text-align: right;\n",
              "    }\n",
              "</style>\n",
              "<table border=\"1\" class=\"dataframe\">\n",
              "  <thead>\n",
              "    <tr style=\"text-align: right;\">\n",
              "      <th></th>\n",
              "      <th>ID_Item</th>\n",
              "      <th>Quantity_item</th>\n",
              "      <th>Amount_Gross_Order</th>\n",
              "      <th>Unit_Price</th>\n",
              "    </tr>\n",
              "  </thead>\n",
              "  <tbody>\n",
              "    <tr>\n",
              "      <th>0</th>\n",
              "      <td>21386</td>\n",
              "      <td>1.0</td>\n",
              "      <td>597982.0</td>\n",
              "      <td>5.979820e+05</td>\n",
              "    </tr>\n",
              "    <tr>\n",
              "      <th>1</th>\n",
              "      <td>248497</td>\n",
              "      <td>1.0</td>\n",
              "      <td>980000.0</td>\n",
              "      <td>9.800000e+05</td>\n",
              "    </tr>\n",
              "    <tr>\n",
              "      <th>2</th>\n",
              "      <td>50144</td>\n",
              "      <td>1.0</td>\n",
              "      <td>229358.0</td>\n",
              "      <td>2.293580e+05</td>\n",
              "    </tr>\n",
              "    <tr>\n",
              "      <th>3</th>\n",
              "      <td>70208</td>\n",
              "      <td>1.0</td>\n",
              "      <td>16514.0</td>\n",
              "      <td>1.651400e+04</td>\n",
              "    </tr>\n",
              "    <tr>\n",
              "      <th>4</th>\n",
              "      <td>67627</td>\n",
              "      <td>1.0</td>\n",
              "      <td>133028.0</td>\n",
              "      <td>1.330280e+05</td>\n",
              "    </tr>\n",
              "    <tr>\n",
              "      <th>5</th>\n",
              "      <td>312932</td>\n",
              "      <td>1.0</td>\n",
              "      <td>290000.0</td>\n",
              "      <td>2.900000e+05</td>\n",
              "    </tr>\n",
              "    <tr>\n",
              "      <th>6</th>\n",
              "      <td>42365</td>\n",
              "      <td>1.0</td>\n",
              "      <td>55046.0</td>\n",
              "      <td>5.504600e+04</td>\n",
              "    </tr>\n",
              "    <tr>\n",
              "      <th>7</th>\n",
              "      <td>715680</td>\n",
              "      <td>1.0</td>\n",
              "      <td>2790000.0</td>\n",
              "      <td>2.790000e+06</td>\n",
              "    </tr>\n",
              "    <tr>\n",
              "      <th>8</th>\n",
              "      <td>102588</td>\n",
              "      <td>1.0</td>\n",
              "      <td>34862.0</td>\n",
              "      <td>3.486200e+04</td>\n",
              "    </tr>\n",
              "    <tr>\n",
              "      <th>9</th>\n",
              "      <td>658519</td>\n",
              "      <td>1.0</td>\n",
              "      <td>2600000.0</td>\n",
              "      <td>2.600000e+06</td>\n",
              "    </tr>\n",
              "    <tr>\n",
              "      <th>10</th>\n",
              "      <td>138296</td>\n",
              "      <td>1.0</td>\n",
              "      <td>469358.0</td>\n",
              "      <td>4.693580e+05</td>\n",
              "    </tr>\n",
              "    <tr>\n",
              "      <th>11</th>\n",
              "      <td>23927</td>\n",
              "      <td>1.0</td>\n",
              "      <td>108000.0</td>\n",
              "      <td>1.080000e+05</td>\n",
              "    </tr>\n",
              "    <tr>\n",
              "      <th>12</th>\n",
              "      <td>564993</td>\n",
              "      <td>1.0</td>\n",
              "      <td>525000.0</td>\n",
              "      <td>5.250000e+05</td>\n",
              "    </tr>\n",
              "    <tr>\n",
              "      <th>13</th>\n",
              "      <td>1707686</td>\n",
              "      <td>1.0</td>\n",
              "      <td>49000.0</td>\n",
              "      <td>4.900000e+04</td>\n",
              "    </tr>\n",
              "    <tr>\n",
              "      <th>14</th>\n",
              "      <td>183721</td>\n",
              "      <td>1.0</td>\n",
              "      <td>23853.0</td>\n",
              "      <td>2.385300e+04</td>\n",
              "    </tr>\n",
              "    <tr>\n",
              "      <th>15</th>\n",
              "      <td>376625</td>\n",
              "      <td>1.0</td>\n",
              "      <td>708440.0</td>\n",
              "      <td>7.084400e+05</td>\n",
              "    </tr>\n",
              "    <tr>\n",
              "      <th>16</th>\n",
              "      <td>1656648</td>\n",
              "      <td>2.0</td>\n",
              "      <td>229000.0</td>\n",
              "      <td>1.145000e+05</td>\n",
              "    </tr>\n",
              "    <tr>\n",
              "      <th>17</th>\n",
              "      <td>140331</td>\n",
              "      <td>1.0</td>\n",
              "      <td>717798.0</td>\n",
              "      <td>7.177980e+05</td>\n",
              "    </tr>\n",
              "    <tr>\n",
              "      <th>18</th>\n",
              "      <td>1671745</td>\n",
              "      <td>3.0</td>\n",
              "      <td>73211.0</td>\n",
              "      <td>2.440367e+04</td>\n",
              "    </tr>\n",
              "    <tr>\n",
              "      <th>19</th>\n",
              "      <td>36298</td>\n",
              "      <td>1.0</td>\n",
              "      <td>523761.0</td>\n",
              "      <td>5.237610e+05</td>\n",
              "    </tr>\n",
              "    <tr>\n",
              "      <th>20</th>\n",
              "      <td>193926</td>\n",
              "      <td>3.0</td>\n",
              "      <td>41284.0</td>\n",
              "      <td>1.376133e+04</td>\n",
              "    </tr>\n",
              "    <tr>\n",
              "      <th>21</th>\n",
              "      <td>574889</td>\n",
              "      <td>1.0</td>\n",
              "      <td>380000.0</td>\n",
              "      <td>3.800000e+05</td>\n",
              "    </tr>\n",
              "    <tr>\n",
              "      <th>22</th>\n",
              "      <td>449799</td>\n",
              "      <td>1.0</td>\n",
              "      <td>20000.0</td>\n",
              "      <td>2.000000e+04</td>\n",
              "    </tr>\n",
              "    <tr>\n",
              "      <th>23</th>\n",
              "      <td>67518</td>\n",
              "      <td>1.0</td>\n",
              "      <td>71560.0</td>\n",
              "      <td>7.156000e+04</td>\n",
              "    </tr>\n",
              "    <tr>\n",
              "      <th>24</th>\n",
              "      <td>882178</td>\n",
              "      <td>1.0</td>\n",
              "      <td>47706.0</td>\n",
              "      <td>4.770600e+04</td>\n",
              "    </tr>\n",
              "    <tr>\n",
              "      <th>25</th>\n",
              "      <td>294942</td>\n",
              "      <td>1.0</td>\n",
              "      <td>100000.0</td>\n",
              "      <td>1.000000e+05</td>\n",
              "    </tr>\n",
              "    <tr>\n",
              "      <th>26</th>\n",
              "      <td>10792</td>\n",
              "      <td>1.0</td>\n",
              "      <td>1657407.0</td>\n",
              "      <td>1.657407e+06</td>\n",
              "    </tr>\n",
              "    <tr>\n",
              "      <th>27</th>\n",
              "      <td>74547</td>\n",
              "      <td>1.0</td>\n",
              "      <td>465780.0</td>\n",
              "      <td>4.657800e+05</td>\n",
              "    </tr>\n",
              "    <tr>\n",
              "      <th>28</th>\n",
              "      <td>32475</td>\n",
              "      <td>1.0</td>\n",
              "      <td>73394.0</td>\n",
              "      <td>7.339400e+04</td>\n",
              "    </tr>\n",
              "    <tr>\n",
              "      <th>29</th>\n",
              "      <td>9556</td>\n",
              "      <td>1.0</td>\n",
              "      <td>256881.0</td>\n",
              "      <td>2.568810e+05</td>\n",
              "    </tr>\n",
              "  </tbody>\n",
              "</table>\n",
              "</div>"
            ],
            "text/plain": [
              "    ID_Item  Quantity_item  Amount_Gross_Order    Unit_Price\n",
              "0     21386            1.0            597982.0  5.979820e+05\n",
              "1    248497            1.0            980000.0  9.800000e+05\n",
              "2     50144            1.0            229358.0  2.293580e+05\n",
              "3     70208            1.0             16514.0  1.651400e+04\n",
              "4     67627            1.0            133028.0  1.330280e+05\n",
              "5    312932            1.0            290000.0  2.900000e+05\n",
              "6     42365            1.0             55046.0  5.504600e+04\n",
              "7    715680            1.0           2790000.0  2.790000e+06\n",
              "8    102588            1.0             34862.0  3.486200e+04\n",
              "9    658519            1.0           2600000.0  2.600000e+06\n",
              "10   138296            1.0            469358.0  4.693580e+05\n",
              "11    23927            1.0            108000.0  1.080000e+05\n",
              "12   564993            1.0            525000.0  5.250000e+05\n",
              "13  1707686            1.0             49000.0  4.900000e+04\n",
              "14   183721            1.0             23853.0  2.385300e+04\n",
              "15   376625            1.0            708440.0  7.084400e+05\n",
              "16  1656648            2.0            229000.0  1.145000e+05\n",
              "17   140331            1.0            717798.0  7.177980e+05\n",
              "18  1671745            3.0             73211.0  2.440367e+04\n",
              "19    36298            1.0            523761.0  5.237610e+05\n",
              "20   193926            3.0             41284.0  1.376133e+04\n",
              "21   574889            1.0            380000.0  3.800000e+05\n",
              "22   449799            1.0             20000.0  2.000000e+04\n",
              "23    67518            1.0             71560.0  7.156000e+04\n",
              "24   882178            1.0             47706.0  4.770600e+04\n",
              "25   294942            1.0            100000.0  1.000000e+05\n",
              "26    10792            1.0           1657407.0  1.657407e+06\n",
              "27    74547            1.0            465780.0  4.657800e+05\n",
              "28    32475            1.0             73394.0  7.339400e+04\n",
              "29     9556            1.0            256881.0  2.568810e+05"
            ]
          },
          "metadata": {
            "tags": []
          },
          "execution_count": 7
        }
      ]
    },
    {
      "cell_type": "markdown",
      "metadata": {
        "id": "P02gQeD8Tr5p"
      },
      "source": [
        "Let's inspect the database"
      ]
    },
    {
      "cell_type": "code",
      "metadata": {
        "colab": {
          "base_uri": "https://localhost:8080/"
        },
        "id": "j2q-fwrJT6qq",
        "outputId": "47b13bd2-4488-42c6-bfa6-f24af9f3d622"
      },
      "source": [
        "orders.info()"
      ],
      "execution_count": 8,
      "outputs": [
        {
          "output_type": "stream",
          "text": [
            "<class 'pandas.core.frame.DataFrame'>\n",
            "RangeIndex: 200000 entries, 0 to 199999\n",
            "Data columns (total 4 columns):\n",
            " #   Column              Non-Null Count   Dtype  \n",
            "---  ------              --------------   -----  \n",
            " 0   ID_Item             200000 non-null  int64  \n",
            " 1   Quantity_item       200000 non-null  float64\n",
            " 2   Amount_Gross_Order  200000 non-null  float64\n",
            " 3   Unit_Price          200000 non-null  float64\n",
            "dtypes: float64(3), int64(1)\n",
            "memory usage: 6.1 MB\n"
          ],
          "name": "stdout"
        }
      ]
    },
    {
      "cell_type": "code",
      "metadata": {
        "colab": {
          "base_uri": "https://localhost:8080/"
        },
        "id": "UZFgbTYlT-hL",
        "outputId": "731ffc53-c7ca-48f6-a084-479726207e15"
      },
      "source": [
        "orders.isnull().sum()"
      ],
      "execution_count": 10,
      "outputs": [
        {
          "output_type": "execute_result",
          "data": {
            "text/plain": [
              "ID_Item               0\n",
              "Quantity_item         0\n",
              "Amount_Gross_Order    0\n",
              "Unit_Price            0\n",
              "dtype: int64"
            ]
          },
          "metadata": {
            "tags": []
          },
          "execution_count": 10
        }
      ]
    }
  ]
}