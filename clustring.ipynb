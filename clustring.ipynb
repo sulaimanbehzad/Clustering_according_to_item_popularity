{
  "nbformat": 4,
  "nbformat_minor": 0,
  "metadata": {
    "colab": {
      "name": "clustring.ipynb",
      "provenance": [],
      "collapsed_sections": [],
      "toc_visible": true,
      "authorship_tag": "ABX9TyOpbyk6UfdKtzDhH/vxsFOj",
      "include_colab_link": true
    },
    "kernelspec": {
      "name": "python3",
      "display_name": "Python 3"
    }
  },
  "cells": [
    {
      "cell_type": "markdown",
      "metadata": {
        "id": "view-in-github",
        "colab_type": "text"
      },
      "source": [
        "<a href=\"https://colab.research.google.com/github/sulaimanbehzad/Clustering_according_to_item_popularity/blob/main/clustring.ipynb\" target=\"_parent\"><img src=\"https://colab.research.google.com/assets/colab-badge.svg\" alt=\"Open In Colab\"/></a>"
      ]
    },
    {
      "cell_type": "markdown",
      "metadata": {
        "id": "YicdgDXywbh4"
      },
      "source": [
        "# Clustering of Digikala dataset based on items popularity  \r\n"
      ]
    },
    {
      "cell_type": "code",
      "metadata": {
        "id": "B9Bl0RWIwQd1"
      },
      "source": [
        "# "
      ],
      "execution_count": null,
      "outputs": []
    }
  ]
}